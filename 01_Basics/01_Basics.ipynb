{
 "cells": [
  {
   "cell_type": "markdown",
   "id": "95a6b02e",
   "metadata": {},
   "source": [
    "# A3 - Tipos de Variáveis"
   ]
  },
  {
   "cell_type": "code",
   "execution_count": 2,
   "id": "671f92ad",
   "metadata": {},
   "outputs": [],
   "source": [
    "x = 5"
   ]
  },
  {
   "cell_type": "code",
   "execution_count": 3,
   "id": "f149147f",
   "metadata": {},
   "outputs": [
    {
     "name": "stdout",
     "output_type": "stream",
     "text": [
      "5\n"
     ]
    }
   ],
   "source": [
    "print(x)"
   ]
  },
  {
   "cell_type": "code",
   "execution_count": 4,
   "id": "d8f8bbbf",
   "metadata": {},
   "outputs": [
    {
     "name": "stdout",
     "output_type": "stream",
     "text": [
      "<class 'int'>\n"
     ]
    }
   ],
   "source": [
    "print(type(x))"
   ]
  },
  {
   "cell_type": "code",
   "execution_count": 6,
   "id": "a61fba90",
   "metadata": {},
   "outputs": [
    {
     "name": "stdout",
     "output_type": "stream",
     "text": [
      "19.99 <class 'float'>\n"
     ]
    }
   ],
   "source": [
    "preco = 19.99\n",
    "print(preco, type(preco))"
   ]
  },
  {
   "cell_type": "code",
   "execution_count": 7,
   "id": "2d88faf5",
   "metadata": {},
   "outputs": [
    {
     "name": "stdout",
     "output_type": "stream",
     "text": [
      "São Paulo <class 'str'>\n"
     ]
    }
   ],
   "source": [
    "cidade = \"São Paulo\"\n",
    "print(cidade,type(cidade))"
   ]
  },
  {
   "cell_type": "code",
   "execution_count": 8,
   "id": "4fe4ba79",
   "metadata": {},
   "outputs": [
    {
     "name": "stdout",
     "output_type": "stream",
     "text": [
      "São Paulo <class 'str'>\n"
     ]
    }
   ],
   "source": [
    "cidade = 'São Paulo'\n",
    "print(cidade,type(cidade))"
   ]
  },
  {
   "cell_type": "code",
   "execution_count": 10,
   "id": "08319c50",
   "metadata": {},
   "outputs": [
    {
     "name": "stdout",
     "output_type": "stream",
     "text": [
      "True\n"
     ]
    }
   ],
   "source": [
    "disponivel = True\n",
    "print(disponivel)"
   ]
  },
  {
   "cell_type": "code",
   "execution_count": 11,
   "id": "a9f900f4",
   "metadata": {},
   "outputs": [
    {
     "name": "stdout",
     "output_type": "stream",
     "text": [
      "False <class 'bool'>\n"
     ]
    }
   ],
   "source": [
    "disponivel = False\n",
    "print(disponivel, type(disponivel))"
   ]
  },
  {
   "cell_type": "markdown",
   "id": "59b0ed67",
   "metadata": {},
   "source": [
    "# A4 - Operadores"
   ]
  },
  {
   "cell_type": "markdown",
   "id": "d1f23f3c",
   "metadata": {},
   "source": [
    "## Texto da Aula"
   ]
  },
  {
   "cell_type": "code",
   "execution_count": 13,
   "id": "f4964659",
   "metadata": {},
   "outputs": [
    {
     "name": "stdout",
     "output_type": "stream",
     "text": [
      "5 -1 6 0.6666666666666666 0 8 2\n",
      "6 0\n",
      "Digite seu primeiro nome:matheus\n",
      "matheus Schmitt\n"
     ]
    }
   ],
   "source": [
    "# Podemos fazer operações aritméticas simples\n",
    "a = 2 + 3  # Soma\n",
    "b = 2 - 3  # Subtração\n",
    "c = 2 * 3  # Multiplicação\n",
    "d = 2 / 3  # Divisão\n",
    "e = 2 // 3 # Divisão inteira\n",
    "f = 2 ** 3 # Potência\n",
    "g = 2 % 3  # Resto de divisão\n",
    "\n",
    "print (a, b, c, d, e, f, g)\n",
    "\n",
    "# Podemos fazer operações dentro do print\n",
    "\n",
    "print (a+1, b+1)\n",
    "\n",
    "#Podemos fazer operações com variáveis não inteiras\n",
    "nome = input('Digite seu primeiro nome:')\n",
    "nome = nome + ' Schmitt'\n",
    "print(nome)"
   ]
  },
  {
   "cell_type": "code",
   "execution_count": 20,
   "id": "29b930f3",
   "metadata": {},
   "outputs": [
    {
     "name": "stdout",
     "output_type": "stream",
     "text": [
      "True\n",
      "False\n"
     ]
    }
   ],
   "source": [
    "comparacao1 = 5 > 3\n",
    "print(comparacao1)\n",
    "\n",
    "comparacao2 = 5 < 3\n",
    "print(comparacao2)"
   ]
  },
  {
   "cell_type": "markdown",
   "id": "a8bc98a9",
   "metadata": {},
   "source": [
    "Isso ocorre porque 5 é maior que 3. Portanto, comparacao1 recebeu uma expressão cujo valor lógico é verdadeiro, portanto seu resultado foi True, e o oposto ocorreu para comparacao2.\n",
    "\n",
    "O Python possui 6 operadores relacionais:\n",
    "\n",
    "Maior que: >\n",
    "Maior ou igual: >=\n",
    "Menor que: <\n",
    "Menor ou igual: <=\n",
    "Igual: ==\n",
    "Diferente: !=\n",
    "Note que o operador para comparar se 2 valores são iguais é ==, e não =. Isso ocorre porque o operador = é o nosso operador de atribuição: ele diz que a variável à sua esquerda deve receber o valor da expressão à direita. O operador == irá testar se o valor à sua esquerda é igual ao valor à sua direita e irá responder True ou False, como todos os outros operadores de comparação."
   ]
  },
  {
   "cell_type": "markdown",
   "id": "489407b9",
   "metadata": {},
   "source": [
    "## Operadores lógicos\n",
    "\n",
    "Em alguns casos também precisamos testar se duas ou mais condições são verdadeiras. Para isso utilizaremos as conjunções lógicas:\n",
    "\n",
    "and: verdadeiro se condição 1 for verdadeira e condição 2 for verdadeira\n",
    "or: verdadeiro se condição 1 for verdadeira ou condição 2 for verdadeira\n",
    "No exemplo abaixo, o resultado é verdadeiro para comparacao1 e falso para comparacao2."
   ]
  },
  {
   "cell_type": "code",
   "execution_count": 17,
   "id": "6efbac9c",
   "metadata": {},
   "outputs": [],
   "source": [
    "comparacao1 = 5 > 3 and 6 > 3\n",
    "comparacao2 = 5 < 3 and 6 > 3"
   ]
  },
  {
   "cell_type": "markdown",
   "id": "d9896090",
   "metadata": {},
   "source": [
    "Já no exemplo seguinte, tanto comparacao1 quanto comparacao2 retornam o valor verdadeiro."
   ]
  },
  {
   "cell_type": "code",
   "execution_count": null,
   "id": "b17b91bf",
   "metadata": {},
   "outputs": [],
   "source": [
    "comparacao1 = 5 > 3 or 6 > 3\n",
    "comparacao2 = 5 < 3 or 6 > 3"
   ]
  },
  {
   "cell_type": "markdown",
   "id": "ca844874",
   "metadata": {},
   "source": [
    "Também é possível negar uma expressão lógica usando o not. Em outras palavras, se \n",
    "- comparacao1 = 5 > 3 é verdadeira, \n",
    "- comparacao1 = not(5 > 3) será falsa, \n",
    "e vice-versa."
   ]
  },
  {
   "cell_type": "markdown",
   "id": "8438fcdd",
   "metadata": {},
   "source": [
    "## Codigo da Aula"
   ]
  },
  {
   "cell_type": "code",
   "execution_count": 22,
   "id": "2ab6f0a5",
   "metadata": {},
   "outputs": [],
   "source": [
    "x = 50\n",
    "y = 2"
   ]
  },
  {
   "cell_type": "code",
   "execution_count": 23,
   "id": "50499444",
   "metadata": {},
   "outputs": [
    {
     "name": "stdout",
     "output_type": "stream",
     "text": [
      "52\n",
      "48\n",
      "100\n",
      "25.0\n"
     ]
    }
   ],
   "source": [
    "print(x + y)\n",
    "print(x - y)\n",
    "print(x * y)\n",
    "print(x / y)"
   ]
  },
  {
   "cell_type": "markdown",
   "id": "2b39f4d0",
   "metadata": {},
   "source": [
    "Divisões sempre terão valor float"
   ]
  },
  {
   "cell_type": "code",
   "execution_count": 24,
   "id": "27efe10e",
   "metadata": {},
   "outputs": [
    {
     "data": {
      "text/plain": [
       "float"
      ]
     },
     "execution_count": 24,
     "metadata": {},
     "output_type": "execute_result"
    }
   ],
   "source": [
    "type(x / y)"
   ]
  },
  {
   "cell_type": "code",
   "execution_count": 25,
   "id": "909f86c1",
   "metadata": {},
   "outputs": [
    {
     "name": "stdout",
     "output_type": "stream",
     "text": [
      "2500\n",
      "25\n",
      "0\n"
     ]
    }
   ],
   "source": [
    "print(x ** y) # Exponenciação\n",
    "print(x // y) # Divisão Inteira, ignora a parte decimal\n",
    "print(x % y) # Resto"
   ]
  },
  {
   "cell_type": "code",
   "execution_count": 26,
   "id": "47ef158f",
   "metadata": {},
   "outputs": [
    {
     "name": "stdout",
     "output_type": "stream",
     "text": [
      "0\n"
     ]
    }
   ],
   "source": [
    "print(3 // 4)"
   ]
  },
  {
   "cell_type": "code",
   "execution_count": 27,
   "id": "59aafd7c",
   "metadata": {},
   "outputs": [],
   "source": [
    "tem_cafe = True\n",
    "tem_pao = False"
   ]
  },
  {
   "cell_type": "code",
   "execution_count": 33,
   "id": "9512947a",
   "metadata": {},
   "outputs": [
    {
     "name": "stdout",
     "output_type": "stream",
     "text": [
      "False\n",
      "True\n",
      "False\n"
     ]
    }
   ],
   "source": [
    "print(not tem_cafe)\n",
    "print (tem_cafe or tem_pao) # \"or\" só precisa de uma T para ser T\n",
    "print (tem_cafe and tem_pao) # \"and\" precisa das duas T para ser T"
   ]
  },
  {
   "cell_type": "markdown",
   "id": "5831fb9b",
   "metadata": {},
   "source": [
    "### Operadores relacionais"
   ]
  },
  {
   "cell_type": "code",
   "execution_count": 34,
   "id": "b98d685e",
   "metadata": {},
   "outputs": [],
   "source": [
    "dolar = 5.3\n",
    "real =1"
   ]
  },
  {
   "cell_type": "code",
   "execution_count": 35,
   "id": "7bec1a80",
   "metadata": {},
   "outputs": [
    {
     "name": "stdout",
     "output_type": "stream",
     "text": [
      "True\n",
      "False\n",
      "False\n",
      "True\n",
      "False\n",
      "True\n"
     ]
    }
   ],
   "source": [
    "print (dolar > real)\n",
    "print(dolar < real)\n",
    "print(dolar == real)\n",
    "print(dolar >= real)\n",
    "print(dolar <= real)\n",
    "print(dolar != real)"
   ]
  },
  {
   "cell_type": "markdown",
   "id": "6b7dc216",
   "metadata": {},
   "source": [
    "# A5 - Estruturas Sequenciais"
   ]
  },
  {
   "cell_type": "markdown",
   "id": "4ae801f6",
   "metadata": {},
   "source": [
    "## Texto da Aula"
   ]
  },
  {
   "cell_type": "markdown",
   "id": "36d6c89f",
   "metadata": {},
   "source": [
    "### Outputs\n",
    "Chamamos de saídas ou outputs do nosso programa todos os dados que são gerados pelo programa e fornecidos para o usuário.\n",
    "\n",
    "Já conhecemos a função print() que recebe um valor ou uma sequência de valores e realiza a tarefa de imprimí-los na tela."
   ]
  },
  {
   "cell_type": "code",
   "execution_count": null,
   "id": "408a7817",
   "metadata": {},
   "outputs": [],
   "source": [
    "y = 3.14 # uma variável do tipo real (float)\n",
    "escola = \"Let's Code\" # uma variável literal (string)\n",
    "\n",
    "# Podemos exibir textos na tela e/ou valores de variáveis com a função print().\n",
    "print('eu estudo na ', escola)\n",
    "print('pi vale', y)\n",
    "\n",
    "# Podemos fazer operações dentro do print:\n",
    "print (y+1, y**2)"
   ]
  },
  {
   "cell_type": "markdown",
   "id": "7a50e99d",
   "metadata": {},
   "source": [
    "## Inputs\n",
    "Já as entradas ou inputs do nosso programa são as informações que o usuário possui e deve fornecer ao código."
   ]
  },
  {
   "cell_type": "code",
   "execution_count": null,
   "id": "88848342",
   "metadata": {},
   "outputs": [],
   "source": [
    "# Podemos ler valores do teclado com a função input().\n",
    "# Ela permite que a gente passe uma mensagem para o usuário.\n",
    "nome = input('Digite o seu nome: ')\n",
    "\n",
    "# Tudo que é lido por input() é considerado uma string (str).\n",
    "# Para tratar como outros tipos de dados é necessário realizar a conversão:\n",
    "peso = float(input('Digite o seu peso: ')) # lê o peso como número real\n",
    "idade = int(input('Digite a sua idade: ')) # lê a idade como número inteiro\n",
    "\n",
    "print(nome, 'pesa', peso, 'kg e tem', idade, 'anos de idade.')"
   ]
  },
  {
   "cell_type": "markdown",
   "id": "6c841904",
   "metadata": {},
   "source": [
    "## Codigo da Aula"
   ]
  },
  {
   "cell_type": "markdown",
   "id": "2b30dd8d",
   "metadata": {},
   "source": [
    "Input e Casting"
   ]
  },
  {
   "cell_type": "code",
   "execution_count": 36,
   "id": "e7b2d793",
   "metadata": {},
   "outputs": [
    {
     "name": "stdout",
     "output_type": "stream",
     "text": [
      "Informe a sua idade: 25\n",
      "25 <class 'str'>\n"
     ]
    }
   ],
   "source": [
    "idade = input(\"Informe a sua idade: \")\n",
    "print(idade, type(idade))"
   ]
  },
  {
   "cell_type": "markdown",
   "id": "da3bded9",
   "metadata": {},
   "source": [
    "input sempre mapeia para string"
   ]
  },
  {
   "cell_type": "code",
   "execution_count": 38,
   "id": "4678c136",
   "metadata": {},
   "outputs": [
    {
     "name": "stdout",
     "output_type": "stream",
     "text": [
      "25 <class 'int'>\n"
     ]
    }
   ],
   "source": [
    "idade = int(idade)\n",
    "print(idade, type(idade))"
   ]
  },
  {
   "cell_type": "code",
   "execution_count": 39,
   "id": "6d1bc59e",
   "metadata": {},
   "outputs": [
    {
     "ename": "ValueError",
     "evalue": "invalid literal for int() with base 10: '123abc'",
     "output_type": "error",
     "traceback": [
      "\u001b[0;31m---------------------------------------------------------------------------\u001b[0m",
      "\u001b[0;31mValueError\u001b[0m                                Traceback (most recent call last)",
      "\u001b[0;32m<ipython-input-39-c2da6a9db439>\u001b[0m in \u001b[0;36m<module>\u001b[0;34m\u001b[0m\n\u001b[0;32m----> 1\u001b[0;31m \u001b[0mint\u001b[0m\u001b[0;34m(\u001b[0m\u001b[0;34m'123abc'\u001b[0m\u001b[0;34m)\u001b[0m\u001b[0;34m\u001b[0m\u001b[0;34m\u001b[0m\u001b[0m\n\u001b[0m",
      "\u001b[0;31mValueError\u001b[0m: invalid literal for int() with base 10: '123abc'"
     ]
    }
   ],
   "source": [
    "int('123abc')"
   ]
  },
  {
   "cell_type": "markdown",
   "id": "14525b5a",
   "metadata": {},
   "source": [
    "Casting so funciona para valores passiveis a ser convertidos"
   ]
  },
  {
   "cell_type": "code",
   "execution_count": 42,
   "id": "2469c3ad",
   "metadata": {},
   "outputs": [
    {
     "name": "stdout",
     "output_type": "stream",
     "text": [
      "123.25\n",
      "123.25\n",
      "False\n",
      "True\n",
      "False\n",
      "True\n"
     ]
    }
   ],
   "source": [
    "print(float('123.25'))\n",
    "print(str(123.25))\n",
    "print(bool(''))\n",
    "print(bool('abc'))\n",
    "print(bool(0))\n",
    "print(bool(-2))"
   ]
  },
  {
   "cell_type": "markdown",
   "id": "e6515007",
   "metadata": {},
   "source": [
    "Exemplo. Prever montante que pode ser economizado sabendo o salario"
   ]
  },
  {
   "cell_type": "code",
   "execution_count": 43,
   "id": "38f30b9f",
   "metadata": {},
   "outputs": [
    {
     "name": "stdout",
     "output_type": "stream",
     "text": [
      "Digite o valor do seu salário mensal: 5000\n",
      "Digite o valor do seu gasto mensal em média: 2000\n",
      "O montante que você pode economizar ao fim do ano é de 36000.0\n"
     ]
    }
   ],
   "source": [
    "salario_mensal = input('Digite o valor do seu salário mensal: ')\n",
    "salario_mensal = float(salario_mensal)\n",
    "\n",
    "gasto_mensal = input('Digite o valor do seu gasto mensal em média: ')\n",
    "gasto_mensal = float(gasto_mensal)\n",
    "\n",
    "salario_total = salario_mensal * 12\n",
    "gasto_total = gasto_mensal * 12\n",
    "\n",
    "montante_economizado = salario_total - gasto_total\n",
    "print('O montante que você pode economizar ao fim do ano é de', montante_economizado)\n"
   ]
  },
  {
   "cell_type": "markdown",
   "id": "b6bbb5de",
   "metadata": {},
   "source": [
    "# A6 - Estrutura Condicionais "
   ]
  },
  {
   "cell_type": "markdown",
   "id": "9206aef1",
   "metadata": {},
   "source": [
    "## Texto da Aula"
   ]
  },
  {
   "cell_type": "markdown",
   "id": "4fba6f03",
   "metadata": {},
   "source": [
    "If\n",
    "O if testa uma condição:\n",
    "\n",
    "se ela for verdadeira, seu conteúdo é executado;\n",
    "caso contrário, seu conteúdo é ignorado."
   ]
  },
  {
   "cell_type": "code",
   "execution_count": null,
   "id": "b5a28c3b",
   "metadata": {},
   "outputs": [],
   "source": [
    "idade = int(input('Digite sua idade:'))\n",
    "if idade >= 12:\n",
    "    print('Você pode entrar na montanha russa.')\n",
    "print('Obrigado por participar.')\n",
    "\n",
    "altura = float(input('Digite sua altura, em metros:'))\n",
    "if idade >= 12 and altura >= 1.60:\n",
    "    print('Você pode entrar na montanha russa.')\n",
    "print('Obrigado por participar.')"
   ]
  },
  {
   "cell_type": "markdown",
   "id": "12cd0a58",
   "metadata": {},
   "source": [
    "Utilizamos um 'tab' antes de cada linha pertencente ao if. No exemplo acima, a linha 'obrigado por participar' sempre será exibida. Já a linha 'Você pode entrar na montanha russa.' só será exibida se a idade digitada for maior ou igual a 12 e a altura digitada for maior ou igual a 1.60."
   ]
  },
  {
   "cell_type": "markdown",
   "id": "36633aee",
   "metadata": {},
   "source": [
    "## Else\n",
    "Em alguns casos, queremos que o programa escolha entre 2 casos mutuamente exclusivos. Para isso utilizamos o else. O else não possui condição para verificar. O else sempre vem imediatamente após um if e é executado se o if for ignorado."
   ]
  },
  {
   "cell_type": "code",
   "execution_count": null,
   "id": "b8c945fd",
   "metadata": {},
   "outputs": [],
   "source": [
    "idade = int(input('Digite sua idade:'))\n",
    "altura = float(input('Digite sua altura, em metros:'))\n",
    "if idade >= 12 and altura >= 1.60:\n",
    "    print('Você pode entrar na montanha russa.')\n",
    "else:\n",
    "    print('Você não pode entrar na montanha russa.')\n",
    "print('Obrigado por participar.')"
   ]
  },
  {
   "cell_type": "markdown",
   "id": "a44207ad",
   "metadata": {},
   "source": [
    "É possível \"aninhar\" diversos if's e else's. O programa abaixo só deixa a pessoa entrar no brinquedo se tiver idade e altura mínimas:"
   ]
  },
  {
   "cell_type": "code",
   "execution_count": null,
   "id": "5f356c02",
   "metadata": {},
   "outputs": [],
   "source": [
    "idade = int(input('Digite sua idade:'))\n",
    "if idade >= 12:\n",
    "    resposta = input('Você gostaria de entrar nesta montanha russa?')\n",
    "    if (resposta == 'sim'):\n",
    "        print('Por favor, entre!')\n",
    "    else:\n",
    "        print('Ok então')\n",
    "else:\n",
    "    print('Você não tem idade suficiente para entrar nesse brinquedo.')"
   ]
  },
  {
   "cell_type": "markdown",
   "id": "9fce4aeb",
   "metadata": {},
   "source": [
    "## Elif\n",
    "Podemos testar diversos casos mutuamente exclusivos utilizando o 'elif'.\n",
    "\n",
    "O comando elif é a contração de \"else if\" - ou seja, caso um if não seja executado, você pode propor uma nova condição para ser testada."
   ]
  },
  {
   "cell_type": "code",
   "execution_count": null,
   "id": "e4374df5",
   "metadata": {},
   "outputs": [],
   "source": [
    "exercicios = int(input('Quantos exercícios de Python vc já fez?'))\n",
    "\n",
    "if exercicios > 30:\n",
    "    print('Já está ficando profissional!')\n",
    "elif exercicios > 20:\n",
    "    print('Tá indo bem, bora fazer mais alguns!')\n",
    "elif exercicios > 10:\n",
    "    print('Vamos tirar o atraso?')\n",
    "else:\n",
    "    print('Xiiii...')"
   ]
  },
  {
   "cell_type": "markdown",
   "id": "f1b66e4a",
   "metadata": {},
   "source": [
    "Observe que a união das 3 estruturas (if-elif-else) implica que seu código seguirá apenas um dos possíveis caminhos, obrigatoriamente."
   ]
  },
  {
   "cell_type": "markdown",
   "id": "2c07c4ac",
   "metadata": {},
   "source": [
    "## Codigo da Aula"
   ]
  },
  {
   "cell_type": "code",
   "execution_count": 45,
   "id": "9b2837c5",
   "metadata": {},
   "outputs": [
    {
     "name": "stdout",
     "output_type": "stream",
     "text": [
      "Qual é o valor da corrida ?35\n",
      "Pegue o ônibus\n"
     ]
    }
   ],
   "source": [
    "valor_passagem = 4.30\n",
    "\n",
    "valor_corrida = input('Qual é o valor da corrida ?')\n",
    "\n",
    "if float(valor_corrida) <= valor_passagem * 5:\n",
    "    print('Pague a corrida')\n",
    "if float(valor_corrida) > valor_passagem * 5:\n",
    "    print('Pegue o ônibus')"
   ]
  },
  {
   "cell_type": "markdown",
   "id": "a47a5502",
   "metadata": {},
   "source": [
    "#### Traduzindo para um modo menos \"verboso\""
   ]
  },
  {
   "cell_type": "code",
   "execution_count": 46,
   "id": "df1762e8",
   "metadata": {},
   "outputs": [
    {
     "name": "stdout",
     "output_type": "stream",
     "text": [
      "Qual é o valor da corrida ?35\n",
      "Pegue o ônibus\n"
     ]
    }
   ],
   "source": [
    "valor_passagem = 4.30\n",
    "\n",
    "valor_corrida = input('Qual é o valor da corrida ?')\n",
    "\n",
    "if float(valor_corrida) <= valor_passagem * 5:\n",
    "    print('Pague a corrida')\n",
    "else:\n",
    "    print('Pegue o ônibus')"
   ]
  },
  {
   "cell_type": "markdown",
   "id": "3483f37f",
   "metadata": {},
   "source": [
    "Mas o preço varia de acordo com a demanda\n",
    "Caso o valor da corrida seja ate 6, abrir uma terceira decisão"
   ]
  },
  {
   "cell_type": "code",
   "execution_count": 50,
   "id": "968936da",
   "metadata": {},
   "outputs": [
    {
     "name": "stdout",
     "output_type": "stream",
     "text": [
      "Qual é o valor da corrida ?35\n",
      "Pegue o ônibus\n"
     ]
    }
   ],
   "source": [
    "valor_passagem = 4.30\n",
    "\n",
    "valor_corrida = input('Qual é o valor da corrida ?')\n",
    "\n",
    "if float(valor_corrida) <= valor_passagem * 5:\n",
    "    print('Pague a corrida')\n",
    "else:\n",
    "    if float(valor_corrida) <= valor_passagem * 6:\n",
    "        print('Aguarde um momento, o valor pode abaixar')\n",
    "    else:\n",
    "        print('Pegue o ônibus')\n",
    "    "
   ]
  },
  {
   "cell_type": "markdown",
   "id": "8fde01bc",
   "metadata": {},
   "source": [
    "### Usando o \"elif\""
   ]
  },
  {
   "cell_type": "code",
   "execution_count": 53,
   "id": "ae61d192",
   "metadata": {},
   "outputs": [
    {
     "name": "stdout",
     "output_type": "stream",
     "text": [
      "Qual é o valor da corrida ?35\n",
      "Pegue o ônibus\n"
     ]
    }
   ],
   "source": [
    "valor_passagem = 4.30\n",
    "\n",
    "valor_corrida = input('Qual é o valor da corrida ?')\n",
    "\n",
    "if float(valor_corrida) <= valor_passagem * 5:\n",
    "    print('Pague a corrida')\n",
    "elif float(valor_corrida) <= valor_passagem * 6:\n",
    "    print('Aguarde um momento, o valor pode abaixar')\n",
    "else:\n",
    "    print('Pegue o ônibus')"
   ]
  },
  {
   "cell_type": "markdown",
   "id": "478bb59c",
   "metadata": {},
   "source": [
    "O elif nega a condição anterior e testa uma nova"
   ]
  },
  {
   "cell_type": "markdown",
   "id": "30678b5e",
   "metadata": {},
   "source": [
    "# A7 - Estruturas de Repetição - While"
   ]
  },
  {
   "cell_type": "markdown",
   "id": "c807708c",
   "metadata": {},
   "source": [
    "## Texto da Aula"
   ]
  },
  {
   "cell_type": "markdown",
   "id": "c89f7ad8",
   "metadata": {},
   "source": [
    "### While\n",
    "O while é bastante parecido com um 'if': ele possui uma expressão, e é executado caso ela seja verdadeira. Mas o if é executado apenas uma vez, e depois o código segue adiante.\n",
    "\n",
    "O while não: ao final de sua execução, ele torna a testar a expressão, e caso ela seja verdadeira, ele repete sua execução."
   ]
  },
  {
   "cell_type": "code",
   "execution_count": null,
   "id": "be51821b",
   "metadata": {},
   "outputs": [],
   "source": [
    "horario = int(input('Qual horario é agora? '))\n",
    "\n",
    "# Testando a condição uma única vez com o if:\n",
    "if 0 < horario < 6:\n",
    "    print('Você está no horario da madrugada')\n",
    "else:\n",
    "    print('Você nao está no horario da madrugada')\n",
    "\n",
    "# Testando a condição em loop com o while:\n",
    "while 0 < horario < 6:\n",
    "    print('Você está no horario da madrugada')\n",
    "    horario = horario + 1\n",
    "else:\n",
    "    print('Você nao está no horario da madrugada')\n",
    "\n",
    "# O while permite continuar decrementando o número de pipocas até chegar em 0:\n",
    "num_pipocas = int(input('Digite o numero de pipocas: '))\n",
    "\n",
    "while num_pipocas > 0:\n",
    "    print('O numero de pipocas é: ', num_pipocas)\n",
    "    num_pipocas = num_pipocas - 1"
   ]
  },
  {
   "cell_type": "markdown",
   "id": "a55c92dd",
   "metadata": {},
   "source": [
    "### Validação de entrada\n",
    "Uma utilidade interessante do while é obrigar o usuário a digitar apenas entradas válidas."
   ]
  },
  {
   "cell_type": "code",
   "execution_count": null,
   "id": "eae0e9b5",
   "metadata": {},
   "outputs": [],
   "source": [
    "# o exemplo abaixo não aceita um salário menor do que o mínimo atual:\n",
    "salario = float(input('Digite seu salario: '))\n",
    "while salario < 998.0:\n",
    "    salario = float(input('Entre com um salario MAIOR DO QUE 998.0: '))\n",
    "else:\n",
    "    print('O salario que você entrou foi: ', salario)"
   ]
  },
  {
   "cell_type": "code",
   "execution_count": null,
   "id": "9ef47660",
   "metadata": {},
   "outputs": [],
   "source": [
    "# o exemplo abaixo só sai do loop quando o usuário digitar \"OK\":\n",
    "resposta = input('Digite OK: ')\n",
    "while resposta != 'OK':\n",
    "    resposta = input('Não foi isso que eu pedi, digite OK: ')v"
   ]
  },
  {
   "cell_type": "markdown",
   "id": "e2e5f57d",
   "metadata": {},
   "source": [
    "### Contador\n",
    "Todo tipo de código que deve se repetir várias vezes pode ser feito com o while, como somar vários valores, gerar uma sequência etc. Nestes casos, é normal utilizar um contador:"
   ]
  },
  {
   "cell_type": "code",
   "execution_count": null,
   "id": "f4ce2286",
   "metadata": {},
   "outputs": [],
   "source": [
    "# Declaramos um contador como 0:\n",
    "contador = 0\n",
    "# Definimos o número de repetições:\n",
    "numero = int(input('Digite um numero: '))\n",
    "# Rodamos o while até o contador se igualar ao número de repetições:\n",
    "while contador < numero:\n",
    "    print(contador)\n",
    "    contador = contador + 1"
   ]
  },
  {
   "cell_type": "markdown",
   "id": "dfc414f1",
   "metadata": {},
   "source": [
    "### Break\n",
    "Um jeito de forçar um loop a ser interrompido é utilizando o comando 'break'. O loop abaixo em tese seria infinito, mas se a condição do if for verificada, o break é executado e conseguimos escapar do loop:"
   ]
  },
  {
   "cell_type": "code",
   "execution_count": null,
   "id": "8a8de86f",
   "metadata": {},
   "outputs": [],
   "source": [
    "while True:\n",
    "    resposta = input('Digite OK: ')\n",
    "    if resposta == 'OK':\n",
    "        break"
   ]
  },
  {
   "cell_type": "markdown",
   "id": "84a83e87",
   "metadata": {},
   "source": [
    "## Codigo da Aula"
   ]
  },
  {
   "cell_type": "code",
   "execution_count": 54,
   "id": "2df91867",
   "metadata": {},
   "outputs": [
    {
     "name": "stdout",
     "output_type": "stream",
     "text": [
      "1 item limpo\n",
      "2 itens limpos\n",
      "3 itens limpos\n",
      "4 itens limpos\n",
      "5 itens limpos\n",
      "6 itens limpos\n",
      "7 itens limpos\n",
      "8 itens limpos\n",
      "9 itens limpos\n",
      "10 itens limpos\n",
      "Fim da repetição do bloco while\n"
     ]
    }
   ],
   "source": [
    "contador = 0\n",
    "\n",
    "while contador < 10:\n",
    "    contador = contador + 1\n",
    "    if contador == 1:\n",
    "        print (contador, \"item limpo\")\n",
    "    else:\n",
    "        print(contador, \"itens limpos\")\n",
    "print('Fim da repetição do bloco while')"
   ]
  },
  {
   "cell_type": "code",
   "execution_count": 55,
   "id": "0a82d2aa",
   "metadata": {},
   "outputs": [
    {
     "name": "stdout",
     "output_type": "stream",
     "text": [
      "1 item limpo\n",
      "2 itens limpos\n",
      "3 itens limpos\n",
      "4 itens limpos\n",
      "5 itens limpos\n",
      "6 itens limpos\n",
      "7 itens limpos\n",
      "8 itens limpos\n",
      "9 itens limpos\n",
      "10 itens limpos\n",
      "Fim da repetição do bloco while\n"
     ]
    }
   ],
   "source": [
    "contador = 0\n",
    "\n",
    "while True:\n",
    "    if contador < 10:\n",
    "        contador = contador + 1\n",
    "        if contador == 1:\n",
    "            print (contador, \"item limpo\")\n",
    "        else:\n",
    "            print(contador, \"itens limpos\")\n",
    "    else: \n",
    "        break\n",
    "print('Fim da repetição do bloco while')"
   ]
  },
  {
   "cell_type": "markdown",
   "id": "9338bc5b",
   "metadata": {},
   "source": [
    "Dificilmente é recomendado usar o break"
   ]
  },
  {
   "cell_type": "markdown",
   "id": "839f29ed",
   "metadata": {},
   "source": [
    "### While como validação de entrada"
   ]
  },
  {
   "cell_type": "code",
   "execution_count": 56,
   "id": "67e67d8e",
   "metadata": {},
   "outputs": [
    {
     "name": "stdout",
     "output_type": "stream",
     "text": [
      "Digite a sua senha: dasd\n",
      "Senha inválida. Tente novamenteLetsCode\n",
      "Acesso premitido\n"
     ]
    }
   ],
   "source": [
    "texto = input('Digite a sua senha: ')\n",
    "\n",
    "while texto != 'LetsCode':\n",
    "    texto = input('Senha inválida. Tente novamente')\n",
    "print('Acesso premitido')"
   ]
  },
  {
   "cell_type": "markdown",
   "id": "1731bb54",
   "metadata": {},
   "source": [
    "### Utilizando o \"continue\""
   ]
  },
  {
   "cell_type": "code",
   "execution_count": 60,
   "id": "399ecffb",
   "metadata": {},
   "outputs": [
    {
     "name": "stdout",
     "output_type": "stream",
     "text": [
      "2 item limpos\n",
      "3 item limpos\n",
      "4 item limpos\n",
      "5 item limpos\n",
      "6 item limpos\n",
      "7 item limpos\n",
      "8 item limpos\n",
      "9 item limpos\n",
      "10 item limpos\n",
      "Fim da repetição do bloco while\n"
     ]
    }
   ],
   "source": [
    "contador = 0\n",
    "\n",
    "while contador < 10:\n",
    "    contador = contador + 1\n",
    "    if contador == 1: # se o contador é um, pula com o continue\n",
    "        continue # O continue leva a proxima iteração da repetição\n",
    "    print (contador, \"item limpos\")\n",
    "    \n",
    "print('Fim da repetição do bloco while')"
   ]
  },
  {
   "cell_type": "code",
   "execution_count": null,
   "id": "463a397a",
   "metadata": {},
   "outputs": [],
   "source": []
  }
 ],
 "metadata": {
  "kernelspec": {
   "display_name": "Python 3",
   "language": "python",
   "name": "python3"
  },
  "language_info": {
   "codemirror_mode": {
    "name": "ipython",
    "version": 3
   },
   "file_extension": ".py",
   "mimetype": "text/x-python",
   "name": "python",
   "nbconvert_exporter": "python",
   "pygments_lexer": "ipython3",
   "version": "3.8.8"
  }
 },
 "nbformat": 4,
 "nbformat_minor": 5
}
