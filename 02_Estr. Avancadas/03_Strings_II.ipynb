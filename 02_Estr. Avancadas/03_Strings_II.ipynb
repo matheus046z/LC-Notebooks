{
 "cells": [
  {
   "cell_type": "markdown",
   "id": "2a4880c8",
   "metadata": {},
   "source": [
    "# Uso de operadores aritméticos com strings"
   ]
  },
  {
   "cell_type": "code",
   "execution_count": 1,
   "id": "2bbae6f6",
   "metadata": {},
   "outputs": [
    {
     "name": "stdout",
     "output_type": "stream",
     "text": [
      "Let'sCode\n",
      "umaumauma\n"
     ]
    }
   ],
   "source": [
    "# Dois operadores aritméticos possuem um comportamento especial em strings:\n",
    "# Operador de soma (+): concatena (une) 2 strings.\n",
    "palavra1 = \"Let's\"\n",
    "palavra2 = \"Code\"\n",
    "palavra3 = palavra1 + palavra2\n",
    "print(palavra3)\n",
    "\n",
    "# Operador de multiplicação (*): copia uma string 'n' vezes:\n",
    "palavra = 'uma'\n",
    "trespalavras = 3*palavra\n",
    "print(trespalavras)"
   ]
  },
  {
   "cell_type": "markdown",
   "id": "042d5711",
   "metadata": {},
   "source": [
    "## Formatação de strings\n",
    "Uma última função interessante de strings é o .format() Para entender como ela funciona, podemos pensar em um contrato. É normal que ele venha com campos em branco para serem preenchidos posteriormente. Ex:\n",
    "\n",
    "Eu, ______________, portador do RG ________________ e nascido ao dia //, autorizo o uso de minha imagem.\n",
    "\n",
    "Ao inserirmos no contrato nossas informações pessoais, ele se torna completo.\n",
    "\n",
    "O .format() serve para \"preencher\" os \"campos em branco\" de uma string.\n",
    "\n",
    "Os campos em branco serão representados por pares de chave: {}"
   ]
  },
  {
   "cell_type": "code",
   "execution_count": null,
   "id": "5c75724a",
   "metadata": {},
   "outputs": [],
   "source": [
    "prod = 'chocolate'\n",
    "preco = 3.14\n",
    "print('O produto {} custa {}.'.format(prod, preco))\n",
    "\n",
    "# Na linha acima, prod substituirá o primeiro {}, e preco o segundo {}.\n",
    "# Saída: O produto chocolate custa 3.14.\n",
    "\n",
    "# É possível colocar algumas opções especiais de formatação. Por exemplo:\n",
    "\n",
    "stringoriginal = 'O litro da gasolina custa {:.2f}'\n",
    "'''\n",
    ": indica que passaremos opções\n",
    ".2 indica apenas 2 casas após o ponto decimal\n",
    "f indica que é um float\n",
    "'''\n",
    "preco = 3.14159265\n",
    "stringcompleta = stringoriginal.format(preco)\n",
    "print(stringcompleta)\n",
    "# Saída: O litro da gasolina custa 3.14\n",
    "# O preço sai com apenas 2 casas após a vírgula!\n",
    "\n",
    "# Pode-se chamar as variávies em diferentes ordens:\n",
    "\n",
    "print('{2}, {1} and {0}'.format('a', 'b', 'c'))\n",
    "# Saída: c, b and a\n",
    "\n",
    "print('{0}{1}{0}'.format('abra', 'cad'))\n",
    "# Saída: abracadabra\n",
    "\n",
    "\n",
    "# Podemos especificar um número de dígitos obrigatório por campo.\n",
    "# Vejamos o exemplo:\n",
    "\n",
    "dia = 1\n",
    "mes = 8\n",
    "ano = 2019\n",
    "data1 = '{}/{}/{}'.format(dia, mes, ano)\n",
    "print(data1)\n",
    "# Saída: 1/8/2019\n",
    "# O dia e o mês ocupam apenas 1 espaço\n",
    "\n",
    "\n",
    "data2 = '{:2d}/{:2d}/{:4d}'.format(dia, mes, ano)\n",
    "# A opção 'd' significa que o parâmetro é um número inteiro.\n",
    "print(data2)\n",
    "# Saída:  1/ 8/2019\n",
    "# Agora, dia e mês ocupam obrigatoriamente 2 espaços:  1/ 8/2019\n",
    "\n",
    "# Podemos forçar que os espaços em branco sejam preenchidos com o número 0:\n",
    "data3 = '{:02d}/{:02d}/{:04d}'.format(dia, mes, ano)\n",
    "print(data3)\n",
    "# Saída: 01/08/2019\n",
    "# Agora sim a data está no formato usual, dd/mm/aaaa: 01/08/2019\n",
    "\n",
    "# Um modo mais simples de utilizar o format\n",
    "nome = \"Pietro\"\n",
    "profissao = \"professor\"\n",
    "escola = \"Let's Code\"\n",
    "\n",
    "print(f\"{nome} é {profissao} da {escola}.\")\n",
    "# Saída: Pietro é professor da Let's Code."
   ]
  },
  {
   "cell_type": "markdown",
   "id": "00c8ce05",
   "metadata": {},
   "source": [
    "O .format() possui muitas opções interessantes. Há um site inteiro dedicado a explicar e exemplificar todas essas opções: https://pyformat.info/"
   ]
  },
  {
   "cell_type": "markdown",
   "id": "5cd28b38",
   "metadata": {},
   "source": [
    "# Codigo da Aula"
   ]
  },
  {
   "cell_type": "markdown",
   "id": "e7936c14",
   "metadata": {},
   "source": [
    "## Strings II"
   ]
  },
  {
   "cell_type": "code",
   "execution_count": 2,
   "id": "5e60dde3",
   "metadata": {},
   "outputs": [
    {
     "name": "stdout",
     "output_type": "stream",
     "text": [
      "Olá, Felipe\n"
     ]
    }
   ],
   "source": [
    "cumprimento = 'Olá, '\n",
    "nome = 'Felipe'\n",
    "print(cumprimento + nome)"
   ]
  },
  {
   "cell_type": "code",
   "execution_count": 3,
   "id": "60634393",
   "metadata": {},
   "outputs": [
    {
     "name": "stdout",
     "output_type": "stream",
     "text": [
      "FelipeFelipeFelipeFelipeFelipe\n"
     ]
    }
   ],
   "source": [
    "print(nome * 5)"
   ]
  },
  {
   "cell_type": "code",
   "execution_count": 7,
   "id": "cdfc74af",
   "metadata": {},
   "outputs": [
    {
     "name": "stdout",
     "output_type": "stream",
     "text": [
      "Felipe tem 35 anos e 2 filhos\n"
     ]
    }
   ],
   "source": [
    "nome = 'Felipe'\n",
    "idade = 35\n",
    "n_filhos = 2\n",
    "print(nome + ' tem ' + str(idade) + ' anos e ' + str(n_filhos) +' filhos')"
   ]
  },
  {
   "cell_type": "markdown",
   "id": "241c41a7",
   "metadata": {},
   "source": [
    "### Método Format"
   ]
  },
  {
   "cell_type": "code",
   "execution_count": 8,
   "id": "8a452971",
   "metadata": {},
   "outputs": [
    {
     "name": "stdout",
     "output_type": "stream",
     "text": [
      "Felipe tem 35 anos e 2 filhos\n"
     ]
    }
   ],
   "source": [
    "print('{} tem {} anos e {} filhos'.format(nome, idade, n_filhos))"
   ]
  },
  {
   "cell_type": "code",
   "execution_count": 10,
   "id": "2fa18ff2",
   "metadata": {},
   "outputs": [
    {
     "name": "stdout",
     "output_type": "stream",
     "text": [
      "O preço da gasolina hoje subiu e está em R$ 3.48\n"
     ]
    }
   ],
   "source": [
    "preco_gasolina = 3.476\n",
    "print('O preço da gasolina hoje subiu e está em R$ {:.2f}'.format(preco_gasolina))"
   ]
  },
  {
   "cell_type": "code",
   "execution_count": 11,
   "id": "31fa9a66",
   "metadata": {},
   "outputs": [
    {
     "name": "stdout",
     "output_type": "stream",
     "text": [
      "Felipe tem 35 anos e 2 filhos\n"
     ]
    }
   ],
   "source": [
    "print(f'{nome} tem {idade} anos e {n_filhos} filhos')"
   ]
  },
  {
   "cell_type": "code",
   "execution_count": null,
   "id": "95315b51",
   "metadata": {},
   "outputs": [],
   "source": []
  }
 ],
 "metadata": {
  "kernelspec": {
   "display_name": "Python 3",
   "language": "python",
   "name": "python3"
  },
  "language_info": {
   "codemirror_mode": {
    "name": "ipython",
    "version": 3
   },
   "file_extension": ".py",
   "mimetype": "text/x-python",
   "name": "python",
   "nbconvert_exporter": "python",
   "pygments_lexer": "ipython3",
   "version": "3.8.8"
  }
 },
 "nbformat": 4,
 "nbformat_minor": 5
}
