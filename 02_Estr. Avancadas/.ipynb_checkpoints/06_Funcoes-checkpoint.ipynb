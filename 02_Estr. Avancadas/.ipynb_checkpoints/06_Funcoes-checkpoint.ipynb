{
 "cells": [
  {
   "cell_type": "markdown",
   "id": "56c90271",
   "metadata": {},
   "source": [
    "# Funções"
   ]
  },
  {
   "cell_type": "markdown",
   "id": "8d82d564",
   "metadata": {},
   "source": [
    "## Texto da Aula"
   ]
  },
  {
   "cell_type": "markdown",
   "id": "4c779e11",
   "metadata": {},
   "source": [
    "Funções\n",
    "Funções são uma espécie de \"subprograma\". Elas são como pequenos pedacinhos de programa que podem ser chamadas pelo nome. Para criar uma função usamos o comando \"def\" e o nome da função. Elas são um bloco de comando assim como if/elif/else, while e for."
   ]
  },
  {
   "cell_type": "code",
   "execution_count": 4,
   "id": "57862cf8",
   "metadata": {},
   "outputs": [],
   "source": [
    "def hello():\n",
    "    print(\"Olá, mundo!\")"
   ]
  },
  {
   "cell_type": "markdown",
   "id": "ec6d796c",
   "metadata": {},
   "source": [
    "Quando uma função é chamada pelo nome, o fluxo do programa é interrompido. Em seguida, a função inteira é executada, e ao final dela, o programa volta a ser executado do mesmo ponto que parou."
   ]
  },
  {
   "cell_type": "code",
   "execution_count": 5,
   "id": "c712d432",
   "metadata": {},
   "outputs": [
    {
     "name": "stdout",
     "output_type": "stream",
     "text": [
      "Olá, mundo!\n"
     ]
    }
   ],
   "source": [
    "hello()\n",
    "\n",
    "# Saída: Olá, mundo!"
   ]
  },
  {
   "cell_type": "markdown",
   "id": "28b54f32",
   "metadata": {},
   "source": [
    "É possível passarmos informações para uma função. Chamamos essas informações de \"parâmetros\" ou \"argumentos. Na definição da função, daremos nome a esses parâmetros. Dentro da função, eles serão tratados como se fossem variáveis."
   ]
  },
  {
   "cell_type": "code",
   "execution_count": 6,
   "id": "e1735c95",
   "metadata": {},
   "outputs": [],
   "source": [
    "def ola(nome):\n",
    "    print(\"Olá\", nome)"
   ]
  },
  {
   "cell_type": "markdown",
   "id": "f794a3bb",
   "metadata": {},
   "source": [
    "Ao chamarmos a nossa funcao, passamos os parâmetros entre parênteses. O nome ou valor passado não precisam ser iguais aos declarados na função! O nome do parâmetro interno da função é um \"apelido\" que a função dará para o valor ou variável que passamos"
   ]
  },
  {
   "cell_type": "code",
   "execution_count": 7,
   "id": "cb423f11",
   "metadata": {},
   "outputs": [
    {
     "name": "stdout",
     "output_type": "stream",
     "text": [
      "Olá Maria\n",
      "Olá João\n"
     ]
    }
   ],
   "source": [
    "ola(\"Maria\")\n",
    "# Saída: Olá, Maria\n",
    "\n",
    "aluno = \"João\"\n",
    "ola(aluno)\n",
    "# Saída: Olá, João"
   ]
  },
  {
   "cell_type": "markdown",
   "id": "080aa979",
   "metadata": {},
   "source": [
    "A função pode receber vários parâmetros separados por vírgula."
   ]
  },
  {
   "cell_type": "code",
   "execution_count": 2,
   "id": "b02354f1",
   "metadata": {},
   "outputs": [
    {
     "name": "stdout",
     "output_type": "stream",
     "text": [
      "Seu nome é José, você tem 30 anos e mora em Maceió.\n"
     ]
    }
   ],
   "source": [
    "def dadosPessoais(nome, idade, cidade):\n",
    "    print(\"Seu nome é {}, você tem {} anos e mora em {}.\".format(nome, idade, cidade))\n",
    "\n",
    "dadosPessoais(\"José\", 30, \"Maceió\")\n",
    "# Saída: Seu nome é José, você tem 30 anos e mora em Maceió"
   ]
  },
  {
   "cell_type": "markdown",
   "id": "cc754f2a",
   "metadata": {},
   "source": [
    "Os parâmetros podem ser passados fora de ordem. Porém, para isso precisamos explicitar qual parâmetro estamos passando, para evitar ambiguidade ou erros de interpretação do Python."
   ]
  },
  {
   "cell_type": "code",
   "execution_count": 3,
   "id": "8e826598",
   "metadata": {},
   "outputs": [
    {
     "name": "stdout",
     "output_type": "stream",
     "text": [
      "Seu nome é Ana, você tem 56 anos e mora em Florianópolis.\n"
     ]
    }
   ],
   "source": [
    "dadosPessoais(idade=56, cidade=\"Florianópolis\", nome=\"Ana\")\n",
    "# Saída: Seu nome é Ana, você tem 56 anos e mora em Florianópolis."
   ]
  },
  {
   "cell_type": "markdown",
   "id": "c1a93cef",
   "metadata": {},
   "source": [
    "Funções com resposta\n",
    "Uma função pode ter uma \"resposta\". Por exemplo, nossa função pode ser uma conta, e o resultado da conta pode ser útil em nosso programa. Dizemos que essas funções \"retornam\" um valor. Utilizamos a palavra \"return\" para fazer uma função retornar sua resposta. Quando uma função retorna um valor, ela pode ser usada em expressões matemáticas ou lógicas, ter seu valor atribuído a uma variável, etc."
   ]
  },
  {
   "cell_type": "code",
   "execution_count": null,
   "id": "26275c6a",
   "metadata": {},
   "outputs": [],
   "source": [
    "def somatorio(lista):\n",
    "    soma = 0\n",
    "    for item in lista:\n",
    "        soma = soma + item\n",
    "    return soma\n",
    "\n",
    "numeros = [1, 2, 3, 4, 5]\n",
    "soma_dos_numeros = somatorio(numeros)\n",
    "print(\"A soma dos elementos da lista vale: \", soma_dos_numeros)\n",
    "\n",
    "if somatorio(numeros) > 50:\n",
    "    print(\"Que soma grande!\")\n",
    "else:\n",
    "    print(\"Que soma pequena!\")\n",
    "    \n",
    "'''\n",
    "Saída:\n",
    "A soma dos elementos da lista vale:  15\n",
    "Que soma pequena!\n",
    "'''"
   ]
  },
  {
   "cell_type": "markdown",
   "id": "b0f98be5",
   "metadata": {},
   "source": [
    "Funções recursivas\n",
    "Algumas funções são chamadas funções recursivas. A recursividade (ou recursão) é uma propriedade na qual uma função faz referência a si mesma. Quando a função encontra uma nova referência, ela irá pausar sua execução atual e iniciar a execução da nova instância, para só então retomar sua execução.\n",
    "\n",
    "Assim como nos loops, é necessário ter alguma condição para que as chamadas recursivas sejam interrompidas, evitando que executem para sempre."
   ]
  },
  {
   "cell_type": "code",
   "execution_count": null,
   "id": "6bc53229",
   "metadata": {},
   "outputs": [],
   "source": [
    "def funcaoRecursiva(numero):\n",
    "    if (numero != 1):\n",
    "        funcaoRecursiva(numero - 1)\n",
    "    print(numero)\n",
    "\n",
    "print(\"Testando a função recursiva:\")\n",
    "funcaoRecursiva(10)"
   ]
  },
  {
   "cell_type": "markdown",
   "id": "1d9db23c",
   "metadata": {},
   "source": [
    "Note que no exemplo acima passamos 10 para a função. Sua execução foi interrompida por uma nova chamada passando 9, depois 8, depois 7... Ao chegar em 1, ele foge da condicional e imprime 1, encerrando a execução. Então a instância que recebeu 2 tambem conclui sua execução, depois a chamada 3, a 4... A 10, que foi a 1a chamada, encerra por último.\n",
    "\n",
    "Dizemos que é um comportamento de pilha - exatamente como uma pilha de pratos sobre a mesa: O primeiro prato que foi colocado sobre a mesa será o último a sair, pois todos os pratos colocados sobre ele precisam ser retirados antes de você poder retirar o último.\n",
    "\n",
    "Problemas recursivos normalmente são problemas do tipo \"dividir para conquistar\": Temos um \"caso base\", ou seja, um ou mais casos onde há uma resposta direta; E temos um \"caso geral\", que é uma versão reduzida do problema original."
   ]
  },
  {
   "cell_type": "markdown",
   "id": "017b1fb9",
   "metadata": {},
   "source": [
    "## Códigos da Aula"
   ]
  },
  {
   "cell_type": "code",
   "execution_count": 8,
   "id": "32b17431",
   "metadata": {},
   "outputs": [],
   "source": [
    "def hello():\n",
    "    print('Olá, mundo\"')"
   ]
  },
  {
   "cell_type": "code",
   "execution_count": 9,
   "id": "6cba669f",
   "metadata": {},
   "outputs": [
    {
     "name": "stdout",
     "output_type": "stream",
     "text": [
      "Olá, mundo\"\n"
     ]
    }
   ],
   "source": [
    "hello()"
   ]
  },
  {
   "cell_type": "code",
   "execution_count": 10,
   "id": "98948f35",
   "metadata": {},
   "outputs": [],
   "source": [
    "def calcula_media(valor1, valor2, valor3):\n",
    "    soma = valor1 + valor2 + valor3\n",
    "    media = soma / 3\n",
    "    return media"
   ]
  },
  {
   "cell_type": "code",
   "execution_count": 15,
   "id": "c5f0d148",
   "metadata": {},
   "outputs": [
    {
     "name": "stdout",
     "output_type": "stream",
     "text": [
      "9.0\n"
     ]
    }
   ],
   "source": [
    "resultado = calcula_media (9, 10, 8)\n",
    "print(resultado)"
   ]
  },
  {
   "cell_type": "code",
   "execution_count": 18,
   "id": "42dbb11e",
   "metadata": {
    "scrolled": true
   },
   "outputs": [
    {
     "name": "stdout",
     "output_type": "stream",
     "text": [
      "9.333333333333334\n"
     ]
    }
   ],
   "source": [
    "resultado2 = calcula_media(valor1=9, valor2=10, valor3=9)\n",
    "print (resultado2)"
   ]
  },
  {
   "cell_type": "code",
   "execution_count": 22,
   "id": "2ed1df82",
   "metadata": {},
   "outputs": [
    {
     "name": "stdout",
     "output_type": "stream",
     "text": [
      "Olá, Pietro\n"
     ]
    }
   ],
   "source": [
    "print('Olá', end = '')\n",
    "print(', Pietro')"
   ]
  },
  {
   "cell_type": "code",
   "execution_count": 27,
   "id": "2db2a164",
   "metadata": {},
   "outputs": [],
   "source": [
    "def calcula_media(valor1=0, valor2=0, valor3=0):\n",
    "    soma = valor1 + valor2 + valor3\n",
    "    media = soma / 3\n",
    "    return media    "
   ]
  },
  {
   "cell_type": "code",
   "execution_count": 25,
   "id": "5bd75cd1",
   "metadata": {},
   "outputs": [
    {
     "name": "stdout",
     "output_type": "stream",
     "text": [
      "0.0\n"
     ]
    }
   ],
   "source": [
    "resultado = calcula_media()\n",
    "print(resultado)"
   ]
  },
  {
   "cell_type": "markdown",
   "id": "a169e68d",
   "metadata": {},
   "source": [
    "# Funçẽs II"
   ]
  },
  {
   "cell_type": "markdown",
   "id": "378cadb7",
   "metadata": {},
   "source": [
    "## Texto da Aula"
   ]
  },
  {
   "cell_type": "markdown",
   "id": "9e3b25e8",
   "metadata": {},
   "source": [
    "## Agrupando parâmetros\n",
    "Podemos utilizar o operador * - que, neste caso, não será uma multiplicação. Ao colocarmos o * ao lado do nome de um parâmetro na definição da função, estamos dizendo que aquele argumento será uma coleção. Mais especificamente, uma tupla. Porém, o usuário não irá passar uma tupla. Ele irá passar quantos argumentos ele quiser, e o Python automaticamente criará uma tupla com eles:"
   ]
  },
  {
   "cell_type": "code",
   "execution_count": null,
   "id": "4ae51160",
   "metadata": {},
   "outputs": [],
   "source": [
    "def piscina(*infos):\n",
    "    vol = infos[0]*infos[1]*infos[2]\n",
    "    return vol\n",
    "\n",
    "volume = piscina(5, 4, 5)\n",
    "\n",
    "print('O volume é: ', volume)"
   ]
  },
  {
   "cell_type": "markdown",
   "id": "dede1399",
   "metadata": {},
   "source": [
    "Podemos utilizar o operador * na chamada da função também. Na definição, o operador * indica que devemos agrupar itens avulsos em uma coleção. Na chamada, ele indica que uma coleção deve ser expandida em itens avulsos:"
   ]
  },
  {
   "cell_type": "code",
   "execution_count": null,
   "id": "c6d35efb",
   "metadata": {},
   "outputs": [],
   "source": [
    "def piscina(prof, largura, comprimento):\n",
    "    vol = prof*largura*comprimento\n",
    "    return vol\n",
    "\n",
    "lista = [5, 4, 5]\n",
    "\n",
    "volume = piscina(*lista)\n",
    "\n",
    "print('O volume é: ', volume)"
   ]
  },
  {
   "cell_type": "markdown",
   "id": "3049d46a",
   "metadata": {},
   "source": [
    "## Parâmetros opcionais\n",
    "Outra possibilidade são funções com parâmetros opcionais. Note que isso é diferente de termos quantidade variável de parâmetros. No caso da quantidade variável, normalmente são diversos parâmetros com a mesma utilidade (números a serem somados, valores a serem exibidos etc), enquanto os parâmetros opcionais são informações distintas que podem ou não ser passadas para a função.\n",
    "\n",
    "Para criar parâmetros opcionais, usaremos **, e os parâmetros passados serão agrupados em um dicionário: o nome do parâmetro será uma chave, e o valor será... O valor."
   ]
  },
  {
   "cell_type": "code",
   "execution_count": null,
   "id": "657539bd",
   "metadata": {},
   "outputs": [],
   "source": [
    "def piscina(prof, **infos):\n",
    "    vol = prof*infos['largura']*infos['comprimento']\n",
    "    return vol\n",
    "\n",
    "volume = piscina(5, largura=4, comprimento=5)\n",
    "\n",
    "print('O volume é: ', volume)"
   ]
  },
  {
   "cell_type": "markdown",
   "id": "197dc91c",
   "metadata": {},
   "source": [
    "Analogamente ao caso dos parâmetros múltiplos, é possível que o usuário da função já tenha os dados organizados em um dicionário. Neste caso, basta usar ** na chamada da função para expandir o dicionário em vários parâmetros opcionais:"
   ]
  },
  {
   "cell_type": "code",
   "execution_count": null,
   "id": "b7989847",
   "metadata": {},
   "outputs": [],
   "source": [
    "def piscina(prof, largura=4, comprimento=5):\n",
    "    vol = prof*largura*comprimento\n",
    "    return vol\n",
    "\n",
    "infos = {'largura': 10, 'comprimento': 20}\n",
    "\n",
    "volume = piscina(5, **infos)\n",
    "\n",
    "print('O volume é: ', volume)"
   ]
  },
  {
   "cell_type": "markdown",
   "id": "27287484",
   "metadata": {},
   "source": [
    "## Codigos da Aula"
   ]
  },
  {
   "cell_type": "code",
   "execution_count": 35,
   "id": "0d1d600d",
   "metadata": {},
   "outputs": [],
   "source": [
    "def calcula_meedia(valor1, valor2, valor3):\n",
    "    soma = valor1 + valor2 + valor3\n",
    "    media = soma / 3\n",
    "    return media"
   ]
  },
  {
   "cell_type": "code",
   "execution_count": 37,
   "id": "011ae84c",
   "metadata": {},
   "outputs": [],
   "source": [
    "def calcula_media(*args): # a palavra args não é obrigatoria, poderia ser outra palavra\n",
    "    print(args, type(args))\n",
    "    "
   ]
  },
  {
   "cell_type": "code",
   "execution_count": 38,
   "id": "8e03fc32",
   "metadata": {},
   "outputs": [
    {
     "name": "stdout",
     "output_type": "stream",
     "text": [
      "(10, 8, 9) <class 'tuple'>\n"
     ]
    }
   ],
   "source": [
    "calcula_media(10, 8, 9)"
   ]
  },
  {
   "cell_type": "code",
   "execution_count": 39,
   "id": "6f288de7",
   "metadata": {},
   "outputs": [],
   "source": [
    "def calcula_media(*args):\n",
    "    soma = sum(args)\n",
    "    media = soma / len(args)\n",
    "    return media    "
   ]
  },
  {
   "cell_type": "code",
   "execution_count": 40,
   "id": "fc1d3e15",
   "metadata": {},
   "outputs": [
    {
     "data": {
      "text/plain": [
       "9.0"
      ]
     },
     "execution_count": 40,
     "metadata": {},
     "output_type": "execute_result"
    }
   ],
   "source": [
    "calcula_media(10, 8, 9)"
   ]
  },
  {
   "cell_type": "code",
   "execution_count": 43,
   "id": "e4d2d427",
   "metadata": {},
   "outputs": [],
   "source": [
    "def calcula_media(*args, margem):\n",
    "    soma = sum(args)\n",
    "    media = soma / len(args)\n",
    "    return media  + margem"
   ]
  },
  {
   "cell_type": "code",
   "execution_count": 48,
   "id": "87d64e53",
   "metadata": {},
   "outputs": [
    {
     "data": {
      "text/plain": [
       "9.3"
      ]
     },
     "execution_count": 48,
     "metadata": {},
     "output_type": "execute_result"
    }
   ],
   "source": [
    "calcula_media(10, 8, 9, margem=0.3) # \"margem\" deve estar expressa ou dara erro de tipo"
   ]
  },
  {
   "cell_type": "markdown",
   "id": "3d32b96f",
   "metadata": {},
   "source": [
    "## Técnica de kwargs (key word arguments)"
   ]
  },
  {
   "cell_type": "markdown",
   "id": "9d8db99d",
   "metadata": {},
   "source": [
    "Muito utilizada em bibliotecas de ciencia de dados e visualização de dados"
   ]
  },
  {
   "cell_type": "code",
   "execution_count": 49,
   "id": "b12b6ae1",
   "metadata": {},
   "outputs": [],
   "source": [
    "def print_info (**kwargs): # a palavra kwargs não é obrigatoria, apenas convenção\n",
    "    print(kwargs, type(kwargs))"
   ]
  },
  {
   "cell_type": "code",
   "execution_count": 50,
   "id": "2a125852",
   "metadata": {},
   "outputs": [
    {
     "name": "stdout",
     "output_type": "stream",
     "text": [
      "{'nome': 'Pietro', 'sobrenome': 'Ribeiro'} <class 'dict'>\n"
     ]
    }
   ],
   "source": [
    "print_info (nome='Pietro', sobrenome='Ribeiro')"
   ]
  },
  {
   "cell_type": "code",
   "execution_count": null,
   "id": "d65327df",
   "metadata": {},
   "outputs": [],
   "source": []
  }
 ],
 "metadata": {
  "kernelspec": {
   "display_name": "Python 3",
   "language": "python",
   "name": "python3"
  },
  "language_info": {
   "codemirror_mode": {
    "name": "ipython",
    "version": 3
   },
   "file_extension": ".py",
   "mimetype": "text/x-python",
   "name": "python",
   "nbconvert_exporter": "python",
   "pygments_lexer": "ipython3",
   "version": "3.8.8"
  }
 },
 "nbformat": 4,
 "nbformat_minor": 5
}
