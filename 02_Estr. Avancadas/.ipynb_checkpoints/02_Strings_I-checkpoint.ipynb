{
 "cells": [
  {
   "cell_type": "markdown",
   "id": "91701bcd",
   "metadata": {},
   "source": [
    "# Strings I"
   ]
  },
  {
   "cell_type": "markdown",
   "id": "3b675ff3",
   "metadata": {},
   "source": [
    "## Texto da Aula"
   ]
  },
  {
   "cell_type": "markdown",
   "id": "29806f62",
   "metadata": {},
   "source": [
    "## Funções de strings"
   ]
  },
  {
   "cell_type": "markdown",
   "id": "0a669186",
   "metadata": {},
   "source": [
    "[Documentação de String](https://docs.python.org/3.8/library/stdtypes.html#str)"
   ]
  },
  {
   "cell_type": "code",
   "execution_count": 7,
   "id": "8def2c4b",
   "metadata": {},
   "outputs": [
    {
     "name": "stdout",
     "output_type": "stream",
     "text": [
      "u\n",
      "m\n",
      "a\n",
      "A frase possui 9 caracteres\n",
      "Converte string em lista\n",
      "['u', 'm', 'a', ' ', 'F', 'R', 'A', 'S', 'E']\n",
      "intercala elemento da lista com string\n",
      "u-pym-pya-py -pyF-pyR-pyA-pyS-pyE\n",
      "Join() com str vazia para transformar de volta em string\n",
      "frase em modo lista: ['u', 'm', 'a', ' ', 'F', 'R', 'A', 'S', 'E']\n",
      "uma FRASE\n",
      "Transformado ^\n",
      "Uma frase\n",
      "Uma Frase\n",
      "UMA FRASE\n",
      "uma frase\n",
      "uma CRASE\n",
      "String original: uma FRASE\n",
      "['uma', 'FRASE']\n",
      "['UM', ' FR', 'SE']\n",
      "uma\n",
      "FRASE\n",
      "uma\n",
      "\tFRASE\n"
     ]
    }
   ],
   "source": [
    "# Suponhamos que temos a seguinte string:\n",
    "\n",
    "frase = 'uma FRASE'\n",
    "\n",
    "# Podemos acessar individualmente cada caractere em uma frase.\n",
    "# A ideia é a mesma de acessar uma lista:\n",
    "print(frase[0])\n",
    "print(frase[1])\n",
    "print(frase[2])\n",
    "\n",
    "tamanho = len(frase)\n",
    "print(\"A frase possui\", tamanho, \"caracteres\")\n",
    "\n",
    "# Porém, strings são imutáveis: não podemos alterar caracteres individuais\n",
    "# A linha abaixo, se for descomentada, dará erro no programa:\n",
    "# frase[4] = 'C'\n",
    "\n",
    "# Podemos converter strings para listas:\n",
    "print('Converte string em lista')\n",
    "listafrase = list(frase)\n",
    "print(listafrase)\n",
    "\n",
    "# A função join() intercala cada elemento de uma lista com uma string.\n",
    "print('intercala elemento da lista com string')\n",
    "stringfinal = '-py'.join(listafrase)\n",
    "print(stringfinal)\n",
    "\n",
    "# Usar um join() com uma string vazia é útil para transformar a lista de volta\n",
    "# em string\n",
    "print('Join() com str vazia para transformar de volta em string')\n",
    "listafrase = list(frase)\n",
    "print('frase em modo lista:',listafrase)\n",
    "stringfinal = ''.join(listafrase)\n",
    "print(stringfinal)\n",
    "print('Transformado ^')\n",
    "\n",
    "# Existem algumas funções interessantes que retornam a string \"tratada\":\n",
    "s1 = frase.capitalize() # 1a letra maiúscula, restante minúscula\n",
    "s2 = frase.title() # todo início de palavra em maiúscula, resto minúscula\n",
    "s3 = frase.upper() # string inteira em maiúscula\n",
    "s4 = frase.lower() # string inteira em minúscula\n",
    "s5 = frase.replace('F', 'C') # substitui a primeira substring pela segunda\n",
    "\n",
    "print(s1)\n",
    "print(s2)\n",
    "print(s3)\n",
    "print(s4)\n",
    "print(s5)\n",
    "# Note que NENHUMA delas ALTERA a string original, elas sempre retornam\n",
    "# a string nova.\n",
    "print('String original:', frase)\n",
    "\n",
    "# Outra possibilidade com strings é quebrar a string em uma lista de substrings\n",
    "# Sempre que o caractere especificado é encontrado, a string é quebrada\n",
    "quebra1 = frase.split(' ') # quebra a frase no caractere espaço em branco\n",
    "quebra2 = s3.split('A') # quebra a frase em maiúsculas no caractere 'A'\n",
    "\n",
    "print(quebra1)\n",
    "print(quebra2)\n",
    "\n",
    "# Podemos inserir quebras de linha com '\\n'\n",
    "frase = 'uma\\nFRASE'\n",
    "print(frase)\n",
    "# Podemos inserir tabulação com '\\t'\n",
    "frase = 'uma\\n\\tFRASE'\n",
    "print(frase)\n",
    "# Para conseguir representar a barra '\\', precisamos de 2 barras:\n",
    "frase = 'uma\\\\FRASE'"
   ]
  },
  {
   "cell_type": "markdown",
   "id": "11ee27f0",
   "metadata": {},
   "source": [
    "## Codigo da Aula"
   ]
  },
  {
   "cell_type": "code",
   "execution_count": 8,
   "id": "ad72da41",
   "metadata": {},
   "outputs": [
    {
     "name": "stdout",
     "output_type": "stream",
     "text": [
      "Google\n"
     ]
    }
   ],
   "source": [
    "empresa = 'Google'\n",
    "print(empresa)"
   ]
  },
  {
   "cell_type": "code",
   "execution_count": 10,
   "id": "a7eaae73",
   "metadata": {},
   "outputs": [
    {
     "name": "stdout",
     "output_type": "stream",
     "text": [
      "Google\n"
     ]
    }
   ],
   "source": [
    "empresa = \"Google\"\n",
    "print(empresa)"
   ]
  },
  {
   "cell_type": "code",
   "execution_count": 11,
   "id": "f15ba5ca",
   "metadata": {},
   "outputs": [
    {
     "ename": "SyntaxError",
     "evalue": "invalid syntax (<ipython-input-11-678def78e179>, line 1)",
     "output_type": "error",
     "traceback": [
      "\u001b[0;36m  File \u001b[0;32m\"<ipython-input-11-678def78e179>\"\u001b[0;36m, line \u001b[0;32m1\u001b[0m\n\u001b[0;31m    empresa = 'Lets's Code'\u001b[0m\n\u001b[0m                    ^\u001b[0m\n\u001b[0;31mSyntaxError\u001b[0m\u001b[0;31m:\u001b[0m invalid syntax\n"
     ]
    }
   ],
   "source": [
    "empresa = 'Lets's Code'"
   ]
  },
  {
   "cell_type": "code",
   "execution_count": 12,
   "id": "d495ce03",
   "metadata": {},
   "outputs": [
    {
     "name": "stdout",
     "output_type": "stream",
     "text": [
      "Let's Code\n"
     ]
    }
   ],
   "source": [
    "empresa = \"Let's Code\"\n",
    "print(empresa)"
   ]
  },
  {
   "cell_type": "code",
   "execution_count": 13,
   "id": "8cd4429b",
   "metadata": {
    "scrolled": true
   },
   "outputs": [
    {
     "ename": "SyntaxError",
     "evalue": "invalid syntax (<ipython-input-13-46d807869c13>, line 1)",
     "output_type": "error",
     "traceback": [
      "\u001b[0;36m  File \u001b[0;32m\"<ipython-input-13-46d807869c13>\"\u001b[0;36m, line \u001b[0;32m1\u001b[0m\n\u001b[0;31m    frase = \"O professor pietro da Let's code disse: \"Hoje a pizza é por minha conta\"\"\u001b[0m\n\u001b[0m                                                      ^\u001b[0m\n\u001b[0;31mSyntaxError\u001b[0m\u001b[0;31m:\u001b[0m invalid syntax\n"
     ]
    }
   ],
   "source": [
    "frase = \"O professor pietro da Let's code disse: \"Hoje a pizza é por minha conta\"\""
   ]
  },
  {
   "cell_type": "markdown",
   "id": "62af5051",
   "metadata": {},
   "source": [
    "### Artificio do caractere de escape"
   ]
  },
  {
   "cell_type": "code",
   "execution_count": 15,
   "id": "bedb885b",
   "metadata": {
    "scrolled": true
   },
   "outputs": [
    {
     "name": "stdout",
     "output_type": "stream",
     "text": [
      "O professor pietro da Let's code disse: \"Hoje a pizza é por minha conta\"\n"
     ]
    }
   ],
   "source": [
    "frase = \"O professor pietro da Let's code disse: \\\"Hoje a pizza é por minha conta\\\"\"\n",
    "print(frase)"
   ]
  },
  {
   "cell_type": "markdown",
   "id": "637448fc",
   "metadata": {},
   "source": [
    "O caractere de escape pode ser utilizado em outros problemas, tem outras aplicações.\n",
    "Olhar a documentação"
   ]
  },
  {
   "cell_type": "markdown",
   "id": "7dc0b80d",
   "metadata": {},
   "source": [
    "### Strings"
   ]
  },
  {
   "cell_type": "code",
   "execution_count": 16,
   "id": "c35bb954",
   "metadata": {},
   "outputs": [
    {
     "name": "stdout",
     "output_type": "stream",
     "text": [
      "G\n"
     ]
    }
   ],
   "source": [
    "empresa = 'Google'\n",
    "print(empresa[0])"
   ]
  },
  {
   "cell_type": "code",
   "execution_count": 17,
   "id": "e6bedf5a",
   "metadata": {},
   "outputs": [
    {
     "name": "stdout",
     "output_type": "stream",
     "text": [
      "Goo\n"
     ]
    }
   ],
   "source": [
    "print(empresa[:3])"
   ]
  },
  {
   "cell_type": "markdown",
   "id": "ebcb1c6f",
   "metadata": {},
   "source": [
    "### Método Split"
   ]
  },
  {
   "cell_type": "code",
   "execution_count": 23,
   "id": "8e13948f",
   "metadata": {},
   "outputs": [
    {
     "name": "stdout",
     "output_type": "stream",
     "text": [
      "['São Paulo', 'Belo Horizonte', 'Rio de Janeiro', 'Brasília']\n"
     ]
    }
   ],
   "source": [
    "nomes_cidades = \"São Paulo, Belo Horizonte, Rio de Janeiro, Brasília\"\n",
    "nomes_cidades = nomes_cidades.split(', ')\n",
    "print(nomes_cidades)"
   ]
  },
  {
   "cell_type": "markdown",
   "id": "dd65b8a7",
   "metadata": {},
   "source": [
    "### Método Strip"
   ]
  },
  {
   "cell_type": "code",
   "execution_count": 24,
   "id": "9b89248f",
   "metadata": {},
   "outputs": [
    {
     "name": "stdout",
     "output_type": "stream",
     "text": [
      "MENU PRINCIPAL\n"
     ]
    }
   ],
   "source": [
    "cabecalho = \"             MENU PRINCIPAL           \"\n",
    "print(cabecalho.strip())"
   ]
  },
  {
   "cell_type": "code",
   "execution_count": 25,
   "id": "0f397cf7",
   "metadata": {},
   "outputs": [
    {
     "name": "stdout",
     "output_type": "stream",
     "text": [
      "Rio De Janeiro\n",
      "Rio de janeiro\n",
      "rio de janeiro\n",
      "RIO DE JANEIRO\n"
     ]
    }
   ],
   "source": [
    "nome_cidade = 'rIo DE jaNeirO'\n",
    "print(nome_cidade.title())\n",
    "print(nome_cidade.capitalize())\n",
    "print(nome_cidade.lower())\n",
    "print(nome_cidade.upper())"
   ]
  },
  {
   "cell_type": "code",
   "execution_count": 28,
   "id": "8bae057b",
   "metadata": {},
   "outputs": [
    {
     "name": "stdout",
     "output_type": "stream",
     "text": [
      "Que cidade do Brasil é conhecida como cidade maravilhosa?RIO DE JANEIRO\n",
      "Boaa, campẽao!\n"
     ]
    }
   ],
   "source": [
    "nome_cidade = input('Que cidade do Brasil é conhecida como cidade maravilhosa?')\n",
    "nome_cidade = nome_cidade.strip()\n",
    "while nome_cidade.lower() != 'rio de janeiro':\n",
    "    print('Tenta de novo, vai')\n",
    "    nome_cidade = input('Que cidade do Brasil é conhecida como cidade maravilhosa?')\n",
    "print('Boaa, campẽao!')\n"
   ]
  },
  {
   "cell_type": "markdown",
   "id": "d2a29904",
   "metadata": {},
   "source": [
    "### Operador \"in\""
   ]
  },
  {
   "cell_type": "code",
   "execution_count": 31,
   "id": "36a90724",
   "metadata": {},
   "outputs": [
    {
     "name": "stdout",
     "output_type": "stream",
     "text": [
      "True\n",
      "False\n"
     ]
    }
   ],
   "source": [
    "mensagem = 'Você vio o que o Pietro disse na sala ontem?'\n",
    "fui_citado = 'Pietro' in mensagem\n",
    "print(fui_citado)\n",
    "fui_citado = 'Felipe' in mensagem\n",
    "print(fui_citado)"
   ]
  },
  {
   "cell_type": "markdown",
   "id": "080e6344",
   "metadata": {},
   "source": []
  }
 ],
 "metadata": {
  "kernelspec": {
   "display_name": "Python 3",
   "language": "python",
   "name": "python3"
  },
  "language_info": {
   "codemirror_mode": {
    "name": "ipython",
    "version": 3
   },
   "file_extension": ".py",
   "mimetype": "text/x-python",
   "name": "python",
   "nbconvert_exporter": "python",
   "pygments_lexer": "ipython3",
   "version": "3.8.8"
  }
 },
 "nbformat": 4,
 "nbformat_minor": 5
}
