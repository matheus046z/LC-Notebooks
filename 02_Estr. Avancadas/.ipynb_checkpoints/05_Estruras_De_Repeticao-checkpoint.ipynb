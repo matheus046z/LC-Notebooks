{
 "cells": [
  {
   "cell_type": "markdown",
   "id": "13b91250",
   "metadata": {},
   "source": [
    "# Estruturas de Repetição"
   ]
  },
  {
   "cell_type": "markdown",
   "id": "6c5775af",
   "metadata": {},
   "source": [
    "# Texto da Aula"
   ]
  },
  {
   "cell_type": "markdown",
   "id": "1dc249ab",
   "metadata": {},
   "source": [
    "## Percorrendo coleções\n",
    "O for é um tipo especial de loop feito para percorrer elementos de uma coleção. Acima vimos exemplos usando um while e um contador para percorrer uma lista. O for elimina a necessidade de inicializarmos um contador, incrementarmos e verificar a condição de parada. Sintaxe:"
   ]
  },
  {
   "cell_type": "code",
   "execution_count": null,
   "id": "78b95f24",
   "metadata": {},
   "outputs": [],
   "source": [
    "for (variável temporária) in (lista):\n",
    "    # instruções...\n",
    "    # ..."
   ]
  },
  {
   "cell_type": "markdown",
   "id": "dbe8cc6f",
   "metadata": {},
   "source": [
    "O for se repete uma vez para cada elemento da lista. A cada repetição, a variável temporária assume o valor de um elemento da lista, na ordem da lista."
   ]
  },
  {
   "cell_type": "code",
   "execution_count": 4,
   "id": "4a660b17",
   "metadata": {},
   "outputs": [
    {
     "name": "stdout",
     "output_type": "stream",
     "text": [
      "1\n",
      "1\n",
      "2\n",
      "3\n",
      "5\n",
      "8\n",
      "13\n"
     ]
    }
   ],
   "source": [
    "fib = [1, 1, 2, 3, 5, 8, 13]\n",
    "for elemento in fib:\n",
    "    print(elemento)"
   ]
  },
  {
   "cell_type": "markdown",
   "id": "f8bd4517",
   "metadata": {},
   "source": [
    "## Percorrendo sequências numéricas\n",
    "O for pode ser usado, junto com a função range(), para gerar sequências numéricas e contagens. Existem 3 meios de usar o range(): especificando 1, 2 ou 3 parâmetros."
   ]
  },
  {
   "cell_type": "code",
   "execution_count": null,
   "id": "207ccb7f",
   "metadata": {},
   "outputs": [],
   "source": [
    "# Com 1 parâmetro, ele será interpretado como valor final (exclusivo).\n",
    "# O valor inicial será 0 e o incremento será 1.\n",
    "\n",
    "for numero in range(10):\n",
    "    print(numero)\n",
    "    # este exemplo imprime os números de 0 a 9, de um em um\n",
    "\n",
    "# Com 2 parâmetros, o primeiro será o valor inicial (inclusivo) e o\n",
    "# segundo será o final (exclusivo).\n",
    "# O incremento continuará sendo 1.\n",
    "\n",
    "for numero in range(1,11):\n",
    "    print(numero)\n",
    "    # este exemplo imprime os números de 1 a 10, de um em um\n",
    "\n",
    "# Com 3 parâmetros, o terceiro será interpretado como incremento.\n",
    "for numero in range(1,20,2):\n",
    "    print(numero)\n",
    "    # este exemplo imprime os ímpares positivos menores do que 20\n",
    "    # ele começa valendo 1 e salta de 2 em 2 até atingir ou passar 20\n",
    "\n",
    "# O incremento pode ser também um decremento (incremento negativo).\n",
    "for numero in range (10,0,-1):\n",
    "    print(numero)\n",
    "    #Imprimindo os números de 1 a 10 em ordem decrescente"
   ]
  },
  {
   "cell_type": "markdown",
   "id": "12f3b40b",
   "metadata": {},
   "source": [
    "## For Loop"
   ]
  },
  {
   "cell_type": "markdown",
   "id": "d59891bc",
   "metadata": {},
   "source": [
    "Aplicações:\n",
    "- Objeto iterável que se precisa navegar pelos elementos\n",
    "- Squência de tarefas que deve ser executada um número predeterminado de vezes"
   ]
  },
  {
   "cell_type": "code",
   "execution_count": 2,
   "id": "8ee794ef",
   "metadata": {},
   "outputs": [
    {
     "name": "stdout",
     "output_type": "stream",
     "text": [
      "São Paulo\n",
      "Londres\n",
      "Tóquio\n",
      "Paris\n"
     ]
    }
   ],
   "source": [
    "nomes_cidades = ['São Paulo', 'Londres', 'Tóquio', 'Paris']\n",
    "for nome in nomes_cidades:\n",
    "    print(nome)"
   ]
  },
  {
   "cell_type": "code",
   "execution_count": 3,
   "id": "dbd42a29",
   "metadata": {},
   "outputs": [
    {
     "name": "stdout",
     "output_type": "stream",
     "text": [
      "São Paulo\n",
      "Londres\n",
      "Tóquio\n",
      "Paris\n",
      "Roma\n"
     ]
    }
   ],
   "source": [
    "contador = 0\n",
    "nomes_cidades = ['São Paulo', 'Londres', 'Tóquio', 'Paris', 'Roma']\n",
    "while contador < len(nomes_cidades):\n",
    "    print(nomes_cidades[contador])\n",
    "    contador = contador +1"
   ]
  },
  {
   "cell_type": "code",
   "execution_count": 5,
   "id": "ba3ec43c",
   "metadata": {},
   "outputs": [
    {
     "name": "stdout",
     "output_type": "stream",
     "text": [
      "São Paulo\n",
      "Londres\n",
      "Tóquio\n",
      "Paris\n"
     ]
    }
   ],
   "source": [
    "nomes_cidades = 'São Paulo', 'Londres', 'Tóquio', 'Paris'\n",
    "for nome in nomes_cidades:\n",
    "    print(nome)"
   ]
  },
  {
   "cell_type": "markdown",
   "id": "53876596",
   "metadata": {},
   "source": [
    "### For loop tambem pode ser usado em dicionários"
   ]
  },
  {
   "cell_type": "code",
   "execution_count": 8,
   "id": "5375e606",
   "metadata": {},
   "outputs": [
    {
     "name": "stdout",
     "output_type": "stream",
     "text": [
      "nome: São Paulo\n",
      "estado: São Paulo\n",
      "populacao_milhoes: 12.2\n"
     ]
    }
   ],
   "source": [
    "cidade = {\n",
    "    'nome': 'São Paulo',\n",
    "    'estado': 'São Paulo',\n",
    "    'populacao_milhoes': 12.2\n",
    "}\n",
    "for chave in cidade:\n",
    "    print(f'{chave}: {cidade[chave]}')"
   ]
  },
  {
   "cell_type": "code",
   "execution_count": 10,
   "id": "65f7e630",
   "metadata": {},
   "outputs": [
    {
     "name": "stdout",
     "output_type": "stream",
     "text": [
      "['São Paulo', 'Londres', 'Tóquio', 'Paris']\n"
     ]
    }
   ],
   "source": [
    "nomes_cidades = ['São Paulo', 'Londres', 'Tóquio', 'Paris']\n",
    "for nome in nomes_cidades:\n",
    "    nome = 'Rio de Janeiro'\n",
    "print(nomes_cidades)"
   ]
  },
  {
   "cell_type": "markdown",
   "id": "776f4ed0",
   "metadata": {},
   "source": [
    "O valor 'Rio de Janeiro' não foi atribuido a variavel 'nome' pois esta se trata de uma cópia utilizada como representativa dos elementos."
   ]
  },
  {
   "cell_type": "markdown",
   "id": "ac34a7d6",
   "metadata": {},
   "source": [
    "### Função range"
   ]
  },
  {
   "cell_type": "code",
   "execution_count": 12,
   "id": "8d2d2474",
   "metadata": {},
   "outputs": [
    {
     "name": "stdout",
     "output_type": "stream",
     "text": [
      "['Rio de Janeiro', 'Rio de Janeiro', 'Rio de Janeiro', 'Rio de Janeiro']\n"
     ]
    }
   ],
   "source": [
    "for posicao in range(len(nomes_cidades)):\n",
    "    nomes_cidades[posicao] = 'Rio de Janeiro'\n",
    "print(nomes_cidades)\n",
    "    \n",
    "    "
   ]
  },
  {
   "cell_type": "code",
   "execution_count": 17,
   "id": "7bc190b0",
   "metadata": {},
   "outputs": [
    {
     "name": "stdout",
     "output_type": "stream",
     "text": [
      "[0, 1, 2, 3, 4, 5, 6, 7, 8, 9]\n",
      "[2, 3, 4, 5, 6, 7, 8, 9]\n",
      "[2, 4, 6, 8]\n"
     ]
    }
   ],
   "source": [
    "print(list(range(10)))\n",
    "print(list(range(2,10)))\n",
    "print(list(range(2,10,2)))"
   ]
  },
  {
   "cell_type": "code",
   "execution_count": null,
   "id": "545e1ba4",
   "metadata": {},
   "outputs": [],
   "source": []
  }
 ],
 "metadata": {
  "kernelspec": {
   "display_name": "Python 3",
   "language": "python",
   "name": "python3"
  },
  "language_info": {
   "codemirror_mode": {
    "name": "ipython",
    "version": 3
   },
   "file_extension": ".py",
   "mimetype": "text/x-python",
   "name": "python",
   "nbconvert_exporter": "python",
   "pygments_lexer": "ipython3",
   "version": "3.8.8"
  }
 },
 "nbformat": 4,
 "nbformat_minor": 5
}
