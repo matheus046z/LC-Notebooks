{
 "cells": [
  {
   "cell_type": "markdown",
   "id": "a68aefd1",
   "metadata": {},
   "source": [
    "# Arquivos em Python"
   ]
  },
  {
   "cell_type": "markdown",
   "id": "3626b018",
   "metadata": {},
   "source": [
    "O Python possui algumas funções prontas para manipular arquivos binários puros (onde, conhecendo a estrutura interna de qualquer formato, podemos salvar qualquer tipo de arquivo) e para manipular arquivos de texto (onde os binários são decodificados como strings).\n",
    "\n",
    "Focaremos no básico de manipulação de arquivo de texto, pois, na prática, quando formos trabalhar com arquivos mais complexos, é provável que usaremos bibliotecas específicas para lidar com eles, e elas já terão funções próprias para ler e salvar esses arquivos da maneira correta.\n",
    "\n",
    "## Abrindo e fechando arquivos\n",
    "Podemos criar arquivos novos ou abrir arquivos já existentes utilizando a função open. Ela possui 2 argumentos: o caminho do arquivo e o modo de operação.\n",
    "\n"
   ]
  },
  {
   "cell_type": "markdown",
   "id": "416b5502",
   "metadata": {},
   "source": [
    "**Modo**\t**Símbolo**\t**Descrição**\n",
    "\n",
    "read ------ r ------ lê um arquivo existente\n",
    "\n",
    "write ------ w ------ cria um novo arquivo\n",
    "\n",
    "append ------ a ------ abre um arquivo existente para adicionar informações ao seu final\n",
    "\n",
    "update ------ + ------ ao ser combinado com outros modos, permite alteração de arquivo já existente   \n",
    "(ex: r+ abre um arquivo existente e permite modificá-lo)"
   ]
  },
  {
   "cell_type": "markdown",
   "id": "f7a57e66",
   "metadata": {},
   "source": [
    "Após abrirmos (ou criarmos) um arquivo, podemos realizar diversas operações. A\n",
    "o final de todas elas, devemos fechar o nosso arquivo usando a função close. \n",
    "Essa etapa é importante por 2 motivos:\n",
    "\n",
    "1. Se alteramos o arquivo mas não o fechamos, as alterações não serão salvas;\n",
    "2. Se esquecemos de fechar um arquivo, outros programas podem ter problemas ao acessá-lo.\n"
   ]
  },
  {
   "cell_type": "markdown",
   "id": "3f947014",
   "metadata": {},
   "source": [
    "## Roteiro básico\n",
    "Vamos seguir os seguintes passos para manipular nossos arquivos:\n",
    "\n",
    "1. Abrir ou criar um arquivo:"
   ]
  },
  {
   "cell_type": "code",
   "execution_count": 1,
   "id": "74de5e1e",
   "metadata": {},
   "outputs": [],
   "source": [
    "arquivocriado = open(\"criado.txt\", \"w\")"
   ]
  },
  {
   "cell_type": "markdown",
   "id": "2af211c4",
   "metadata": {},
   "source": [
    "A linha de comando acima abre (ou cria se não existe) um arquivo chamado \"criado.txt\" para escrita (\"w\", de write) e guarda na variável \"arquivocriado\" as informações para manipulá-lo."
   ]
  },
  {
   "cell_type": "code",
   "execution_count": null,
   "id": "da3980ee",
   "metadata": {},
   "outputs": [],
   "source": [
    "arquivolido = open(\"teste.txt\", \"r\")"
   ]
  },
  {
   "cell_type": "markdown",
   "id": "c944eb88",
   "metadata": {},
   "source": [
    "A linha acima lê (\"r\", de read) um arquivo já existente chamado \"teste.txt\" e guarda na variável \"arquivolido\" as informações para manipulá-lo.\n",
    "\n",
    "2. Carregar os dados do arquivo (leitura)"
   ]
  },
  {
   "cell_type": "code",
   "execution_count": null,
   "id": "a7fb3095",
   "metadata": {},
   "outputs": [],
   "source": [
    "dados = arquivolido.read()\n",
    "print(dados)"
   ]
  },
  {
   "cell_type": "markdown",
   "id": "9a4c6b88",
   "metadata": {},
   "source": [
    "A função read() retorna todo o conteúdo do arquivo como uma string.\n",
    "\n",
    "Precisamos carregar o conteúdo do arquivo em algum formato que sabemos trabalhar. A read() carrega o conteúdo de um arquivo de texto em uma string.\n",
    "\n",
    "3. Manipular os dados do arquivo (escrita)"
   ]
  },
  {
   "cell_type": "code",
   "execution_count": null,
   "id": "3cb98283",
   "metadata": {},
   "outputs": [],
   "source": [
    "arquivocriado.write(\"linha 1\")\n",
    "arquivocriado.write(\"linha 2\")\n",
    "arquivocriado.write(\"linha 3\")"
   ]
  },
  {
   "cell_type": "markdown",
   "id": "83f62b84",
   "metadata": {},
   "source": [
    "Em casos mais complexos, iremos manipular o conteudo LIDO no passo anterior para posteriormente reescrevê-lo. Em outros mais simples, podemos escrever diretamente no arquivo.\n",
    "\n",
    "3. Fechar o arquivo"
   ]
  },
  {
   "cell_type": "code",
   "execution_count": null,
   "id": "beed9498",
   "metadata": {},
   "outputs": [],
   "source": [
    "arquivocriado.close()\n",
    "arquivolido.close()"
   ]
  },
  {
   "cell_type": "markdown",
   "id": "0ab2c870",
   "metadata": {},
   "source": [
    "Essa etapa é muito importante para garantir a integridade dos novos dados no arquivo. As modificações são salvas somente ao fechar o arquivo.\n"
   ]
  },
  {
   "cell_type": "markdown",
   "id": "5e960092",
   "metadata": {},
   "source": [
    "## Comando with\n",
    "Um jeito mais inteligente de se trabalhar com arquivos é utilizar a sintaxe do \"with\". Ele garante que após a finalização do bloco, o arquivo será fechado."
   ]
  },
  {
   "cell_type": "code",
   "execution_count": null,
   "id": "2e5455cd",
   "metadata": {},
   "outputs": [],
   "source": [
    "with open('teste.txt', 'r') as arquivolido:\n",
    "   dados = arquivolido.read()\n",
    "   print(dados)"
   ]
  },
  {
   "cell_type": "markdown",
   "id": "95c824cc",
   "metadata": {},
   "source": [
    "É possível ler o arquivo linha a linha, como no exemplo:"
   ]
  },
  {
   "cell_type": "code",
   "execution_count": null,
   "id": "7db2ae98",
   "metadata": {},
   "outputs": [],
   "source": [
    "with open('teste.txt', 'r') as arquivolido:\n",
    "   linha = arquivolido.readline()\n",
    "   while linha != '':\n",
    "       print(linha, end='')\n",
    "       linha = arquivolido.readline()\n",
    "\n",
    "\n",
    "# OU\n",
    "\n",
    "with open('teste.txt', 'r') as arquivolido:\n",
    "    for linha in arquivolido:\n",
    "        print(linha, end='')"
   ]
  },
  {
   "cell_type": "markdown",
   "id": "82ed9938",
   "metadata": {},
   "source": [
    "O mesmo pode ser feito para escrever no arquivo:"
   ]
  },
  {
   "cell_type": "code",
   "execution_count": null,
   "id": "80d12dd6",
   "metadata": {},
   "outputs": [],
   "source": [
    "with open('teste.txt', 'r') as arquivolido:\n",
    "    with open('copiateste.txt', 'w') as arquivocriado:\n",
    "        for linha in arquivolido:\n",
    "            arquivocriado.write(linha)"
   ]
  },
  {
   "cell_type": "markdown",
   "id": "7a56ea1e",
   "metadata": {},
   "source": [
    "No comando acima, as linhas do arquivo \"teste.txt\" são copiadas e salvas no arquivo \"copiateste.txt\"."
   ]
  },
  {
   "cell_type": "markdown",
   "id": "afe6aa7c",
   "metadata": {},
   "source": [
    "# Codigo da Aula"
   ]
  },
  {
   "cell_type": "code",
   "execution_count": 13,
   "id": "5f0150cc",
   "metadata": {},
   "outputs": [
    {
     "name": "stdout",
     "output_type": "stream",
     "text": [
      "Dom Casmurro \n",
      "\n",
      "Texto de referenda: \n",
      "Obras Completas de Machado de Assis, vol. I, \n",
      "Nova Aguilar, Rio de Janeiro, 1994. \n",
      "Publicado originalmente pela Editora Gamier, Rio de Janeiro, 1899. \n",
      "\n",
      "\n",
      "CAPITULO PRIMEIRO \n",
      "DO TITULO \n",
      "\n",
      "Uma noite destas, vindo da cidade para o Engenho Novo, encontrei no trem da \n",
      "Central um rapaz aqui do bairro, que eu conhego de vista e de chapeu. \n",
      "Cumprimentou-me, sentou-se ao pe de mim, falou da Lua e dos ministros, e \n",
      "acabou recitando-me versos. A viagem era curta, e os versos pode ser que nao \n",
      "fossem inteiramente maus. Sucedeu, porem, que, como eu estava cansado, fechei \n",
      "os olhos tres ou quatro vezes; tanto bastou para que ele interrompesse a leitura e \n",
      "metesse os versos no bolso. \n",
      "\n",
      "— Continue, disse eu acordando. \n",
      "\n",
      "— Ja acabei, murmurou ele. \n",
      "\n",
      "— Sao muito bonitos. \n",
      "\n",
      "Vi-lhe fazer um gesto para tira-los outra vez do bolso, mas nao passou do gesto; \n",
      "estava amuado. No dia seguinte entrou a dizer de mim nomes feios, e acabou \n",
      "alcunhando-me Dom Casmurro. Os vizinhos, que nao gostam dos meus habitos \n",
      "reclusos e calados, deram curso a alcunha, que afinal pegou. Nem por isso me \n",
      "zanguei. Contei a anedota aos amigos da cidade, e eles, por graga, chamam-me \n",
      "assim, alguns em bilhetes: \"Dom Casmurro, domingo vou jantar com voce”.— \n",
      "\"Vou para Petropolis, Dom Casmurro; a casa e a mesma da Renania; ve se deixas \n",
      "essa caverna do Engenho Novo, e vai la passar uns quinze dias comigo\".— \"Meu \n",
      "caro Dom Casmurro, nao cuide que o dispenso do teatro amanha; venha e dormira \n",
      "aqui na cidade; dou-lhe camarote, dou-lhe cha, dou-lhe cama; so nao Ihe dou \n",
      "moga”. \n",
      "\n",
      "Nao consultes dicionarios. Casmurro nao esta aqui no sentido que eles Ihe dao, \n",
      "mas no que Ihe pos o vulgo de homem calado e metido consigo. Dom veio por \n",
      "ironia, para atribuir-me fumos de fidalgo. Tudo por estar cochilando! Tambem nao \n",
      "achei melhor titulo para a minha narracao; se nao tiver outro daqui ate ao fim do \n",
      "livro, vai este mesmo. O meu poeta do trem ficara sabendo que nao Ihe guardo \n",
      "rancor. E com pequeno esforco, sendo o titulo seu, podera cuidar que a obra e \n",
      "sua. Ha livros que apenas terao isso dos seus autores; alguns nem tanto. \n",
      "\n"
     ]
    }
   ],
   "source": [
    "# Caso o arquivo estaja em diretorio(s) acima \"../../\"\n",
    "# O mode de abertura de um arquivo basicamente se resume em read 'r' ou write 'w'\n",
    "arquivo = open('dom_casmurro_cap_1.txt', 'r') # ,encoding='utf-8' caso de erro unicode\n",
    "texto = arquivo.read()\n",
    "print(texto)\n",
    "arquivo.close()"
   ]
  },
  {
   "cell_type": "markdown",
   "id": "eaacfea1",
   "metadata": {},
   "source": [
    "Caso seja necessário analisar linha a linha:"
   ]
  },
  {
   "cell_type": "code",
   "execution_count": 17,
   "id": "54803ffa",
   "metadata": {},
   "outputs": [
    {
     "name": "stdout",
     "output_type": "stream",
     "text": [
      "Dom Casmurro \n",
      "\n",
      "Texto de referenda: \n",
      "Obras Completas de Machado de Assis, vol. I, \n",
      "Nova Aguilar, Rio de Janeiro, 1994. \n",
      "Publicado originalmente pela Editora Gamier, Rio de Janeiro, 1899. \n",
      "\n",
      "\n",
      "CAPITULO PRIMEIRO \n",
      "DO TITULO \n",
      "\n",
      "Uma noite destas, vindo da cidade para o Engenho Novo, encontrei no trem da \n",
      "Central um rapaz aqui do bairro, que eu conhego de vista e de chapeu. \n",
      "Cumprimentou-me, sentou-se ao pe de mim, falou da Lua e dos ministros, e \n",
      "acabou recitando-me versos. A viagem era curta, e os versos pode ser que nao \n",
      "fossem inteiramente maus. Sucedeu, porem, que, como eu estava cansado, fechei \n",
      "os olhos tres ou quatro vezes; tanto bastou para que ele interrompesse a leitura e \n",
      "metesse os versos no bolso. \n",
      "\n",
      "— Continue, disse eu acordando. \n",
      "\n",
      "— Ja acabei, murmurou ele. \n",
      "\n",
      "— Sao muito bonitos. \n",
      "\n",
      "Vi-lhe fazer um gesto para tira-los outra vez do bolso, mas nao passou do gesto; \n",
      "estava amuado. No dia seguinte entrou a dizer de mim nomes feios, e acabou \n",
      "alcunhando-me Dom Casmurro. Os vizinhos, que nao gostam dos meus habitos \n",
      "reclusos e calados, deram curso a alcunha, que afinal pegou. Nem por isso me \n",
      "zanguei. Contei a anedota aos amigos da cidade, e eles, por graga, chamam-me \n",
      "assim, alguns em bilhetes: \"Dom Casmurro, domingo vou jantar com voce”.— \n",
      "\"Vou para Petropolis, Dom Casmurro; a casa e a mesma da Renania; ve se deixas \n",
      "essa caverna do Engenho Novo, e vai la passar uns quinze dias comigo\".— \"Meu \n",
      "caro Dom Casmurro, nao cuide que o dispenso do teatro amanha; venha e dormira \n",
      "aqui na cidade; dou-lhe camarote, dou-lhe cha, dou-lhe cama; so nao Ihe dou \n",
      "moga”. \n",
      "\n",
      "Nao consultes dicionarios. Casmurro nao esta aqui no sentido que eles Ihe dao, \n",
      "mas no que Ihe pos o vulgo de homem calado e metido consigo. Dom veio por \n",
      "ironia, para atribuir-me fumos de fidalgo. Tudo por estar cochilando! Tambem nao \n",
      "achei melhor titulo para a minha narracao; se nao tiver outro daqui ate ao fim do \n",
      "livro, vai este mesmo. O meu poeta do trem ficara sabendo que nao Ihe guardo \n",
      "rancor. E com pequeno esforco, sendo o titulo seu, podera cuidar que a obra e \n",
      "sua. Ha livros que apenas terao isso dos seus autores; alguns nem tanto. \n"
     ]
    }
   ],
   "source": [
    "arquivo = open('dom_casmurro_cap_1.txt', 'r')\n",
    "linha = arquivo.readline() # recebe uma linha por vez\n",
    "while linha != '':\n",
    "    print(linha, end='')\n",
    "    linha = arquivo.readline()\n",
    "arquivo.close()\n"
   ]
  },
  {
   "cell_type": "markdown",
   "id": "57634f79",
   "metadata": {},
   "source": [
    "Quando se trabalha com arquivos no python, é sempre criado um cursor para vigiar onde estamos naquele momento um um arquivo.\n",
    "Quando utilizamos a função readline o cursor se move uma linha e tera acesso somente o que esta à frente.\n",
    "utilizando o readline uma vez -> le a primeira linha\n",
    "utilizando o readline pela segunda vez -> le a segunda linha\n",
    "\n"
   ]
  },
  {
   "cell_type": "markdown",
   "id": "0f87fe9a",
   "metadata": {},
   "source": [
    "## Utlizando For para ler o arquivo"
   ]
  },
  {
   "cell_type": "code",
   "execution_count": 18,
   "id": "feb1ffed",
   "metadata": {},
   "outputs": [
    {
     "name": "stdout",
     "output_type": "stream",
     "text": [
      "Dom Casmurro \n",
      "\n",
      "Texto de referenda: \n",
      "Obras Completas de Machado de Assis, vol. I, \n",
      "Nova Aguilar, Rio de Janeiro, 1994. \n",
      "Publicado originalmente pela Editora Gamier, Rio de Janeiro, 1899. \n",
      "\n",
      "\n",
      "CAPITULO PRIMEIRO \n",
      "DO TITULO \n",
      "\n",
      "Uma noite destas, vindo da cidade para o Engenho Novo, encontrei no trem da \n",
      "Central um rapaz aqui do bairro, que eu conhego de vista e de chapeu. \n",
      "Cumprimentou-me, sentou-se ao pe de mim, falou da Lua e dos ministros, e \n",
      "acabou recitando-me versos. A viagem era curta, e os versos pode ser que nao \n",
      "fossem inteiramente maus. Sucedeu, porem, que, como eu estava cansado, fechei \n",
      "os olhos tres ou quatro vezes; tanto bastou para que ele interrompesse a leitura e \n",
      "metesse os versos no bolso. \n",
      "\n",
      "— Continue, disse eu acordando. \n",
      "\n",
      "— Ja acabei, murmurou ele. \n",
      "\n",
      "— Sao muito bonitos. \n",
      "\n",
      "Vi-lhe fazer um gesto para tira-los outra vez do bolso, mas nao passou do gesto; \n",
      "estava amuado. No dia seguinte entrou a dizer de mim nomes feios, e acabou \n",
      "alcunhando-me Dom Casmurro. Os vizinhos, que nao gostam dos meus habitos \n",
      "reclusos e calados, deram curso a alcunha, que afinal pegou. Nem por isso me \n",
      "zanguei. Contei a anedota aos amigos da cidade, e eles, por graga, chamam-me \n",
      "assim, alguns em bilhetes: \"Dom Casmurro, domingo vou jantar com voce”.— \n",
      "\"Vou para Petropolis, Dom Casmurro; a casa e a mesma da Renania; ve se deixas \n",
      "essa caverna do Engenho Novo, e vai la passar uns quinze dias comigo\".— \"Meu \n",
      "caro Dom Casmurro, nao cuide que o dispenso do teatro amanha; venha e dormira \n",
      "aqui na cidade; dou-lhe camarote, dou-lhe cha, dou-lhe cama; so nao Ihe dou \n",
      "moga”. \n",
      "\n",
      "Nao consultes dicionarios. Casmurro nao esta aqui no sentido que eles Ihe dao, \n",
      "mas no que Ihe pos o vulgo de homem calado e metido consigo. Dom veio por \n",
      "ironia, para atribuir-me fumos de fidalgo. Tudo por estar cochilando! Tambem nao \n",
      "achei melhor titulo para a minha narracao; se nao tiver outro daqui ate ao fim do \n",
      "livro, vai este mesmo. O meu poeta do trem ficara sabendo que nao Ihe guardo \n",
      "rancor. E com pequeno esforco, sendo o titulo seu, podera cuidar que a obra e \n",
      "sua. Ha livros que apenas terao isso dos seus autores; alguns nem tanto. \n"
     ]
    }
   ],
   "source": [
    "arquivo = open('dom_casmurro_cap_1.txt', 'r')\n",
    "for linha in arquivo:\n",
    "    print(linha, end='')\n",
    "arquivo.close()\n"
   ]
  },
  {
   "cell_type": "markdown",
   "id": "66c45051",
   "metadata": {},
   "source": [
    "## Utilizando with as"
   ]
  },
  {
   "cell_type": "code",
   "execution_count": 20,
   "id": "b06688ae",
   "metadata": {},
   "outputs": [
    {
     "name": "stdout",
     "output_type": "stream",
     "text": [
      "Dom Casmurro \n",
      "\n",
      "Texto de referenda: \n",
      "Obras Completas de Machado de Assis, vol. I, \n",
      "Nova Aguilar, Rio de Janeiro, 1994. \n",
      "Publicado originalmente pela Editora Gamier, Rio de Janeiro, 1899. \n",
      "\n",
      "\n",
      "CAPITULO PRIMEIRO \n",
      "DO TITULO \n",
      "\n",
      "Uma noite destas, vindo da cidade para o Engenho Novo, encontrei no trem da \n",
      "Central um rapaz aqui do bairro, que eu conhego de vista e de chapeu. \n",
      "Cumprimentou-me, sentou-se ao pe de mim, falou da Lua e dos ministros, e \n",
      "acabou recitando-me versos. A viagem era curta, e os versos pode ser que nao \n",
      "fossem inteiramente maus. Sucedeu, porem, que, como eu estava cansado, fechei \n",
      "os olhos tres ou quatro vezes; tanto bastou para que ele interrompesse a leitura e \n",
      "metesse os versos no bolso. \n",
      "\n",
      "— Continue, disse eu acordando. \n",
      "\n",
      "— Ja acabei, murmurou ele. \n",
      "\n",
      "— Sao muito bonitos. \n",
      "\n",
      "Vi-lhe fazer um gesto para tira-los outra vez do bolso, mas nao passou do gesto; \n",
      "estava amuado. No dia seguinte entrou a dizer de mim nomes feios, e acabou \n",
      "alcunhando-me Dom Casmurro. Os vizinhos, que nao gostam dos meus habitos \n",
      "reclusos e calados, deram curso a alcunha, que afinal pegou. Nem por isso me \n",
      "zanguei. Contei a anedota aos amigos da cidade, e eles, por graga, chamam-me \n",
      "assim, alguns em bilhetes: \"Dom Casmurro, domingo vou jantar com voce”.— \n",
      "\"Vou para Petropolis, Dom Casmurro; a casa e a mesma da Renania; ve se deixas \n",
      "essa caverna do Engenho Novo, e vai la passar uns quinze dias comigo\".— \"Meu \n",
      "caro Dom Casmurro, nao cuide que o dispenso do teatro amanha; venha e dormira \n",
      "aqui na cidade; dou-lhe camarote, dou-lhe cha, dou-lhe cama; so nao Ihe dou \n",
      "moga”. \n",
      "\n",
      "Nao consultes dicionarios. Casmurro nao esta aqui no sentido que eles Ihe dao, \n",
      "mas no que Ihe pos o vulgo de homem calado e metido consigo. Dom veio por \n",
      "ironia, para atribuir-me fumos de fidalgo. Tudo por estar cochilando! Tambem nao \n",
      "achei melhor titulo para a minha narracao; se nao tiver outro daqui ate ao fim do \n",
      "livro, vai este mesmo. O meu poeta do trem ficara sabendo que nao Ihe guardo \n",
      "rancor. E com pequeno esforco, sendo o titulo seu, podera cuidar que a obra e \n",
      "sua. Ha livros que apenas terao isso dos seus autores; alguns nem tanto. \n",
      "\n"
     ]
    }
   ],
   "source": [
    "with open('dom_casmurro_cap_1.txt', 'r') as arquivo:\n",
    "    texto = arquivo.read()\n",
    "    print(texto)\n",
    "    "
   ]
  },
  {
   "cell_type": "markdown",
   "id": "7d0316d6",
   "metadata": {},
   "source": [
    "#### Utilizando esse método, não é necessário usar arquivo.close()"
   ]
  },
  {
   "cell_type": "code",
   "execution_count": 22,
   "id": "3c349d20",
   "metadata": {},
   "outputs": [
    {
     "ename": "ValueError",
     "evalue": "I/O operation on closed file.",
     "output_type": "error",
     "traceback": [
      "\u001b[0;31m---------------------------------------------------------------------------\u001b[0m",
      "\u001b[0;31mValueError\u001b[0m                                Traceback (most recent call last)",
      "\u001b[0;32m<ipython-input-22-d55c255fbb8e>\u001b[0m in \u001b[0;36m<module>\u001b[0;34m\u001b[0m\n\u001b[0;32m----> 1\u001b[0;31m \u001b[0marquivo\u001b[0m\u001b[0;34m.\u001b[0m\u001b[0mread\u001b[0m\u001b[0;34m(\u001b[0m\u001b[0;34m)\u001b[0m \u001b[0;31m# Erro de Arquivo fechado\u001b[0m\u001b[0;34m\u001b[0m\u001b[0;34m\u001b[0m\u001b[0m\n\u001b[0m",
      "\u001b[0;31mValueError\u001b[0m: I/O operation on closed file."
     ]
    }
   ],
   "source": [
    "arquivo.read() # Erro de Arquivo fechado"
   ]
  },
  {
   "cell_type": "markdown",
   "id": "a16d3291",
   "metadata": {},
   "source": [
    "## Escrevendo arquivos"
   ]
  },
  {
   "cell_type": "code",
   "execution_count": 23,
   "id": "5e11394e",
   "metadata": {},
   "outputs": [],
   "source": [
    "with open('arquivo_teste.txt', 'w') as arquivo: # Se não existe, é criado. Se existe sobescreve\n",
    "    arquivo.write('Essa é uma linha que eu escrevi usando Python \\n')\n",
    "    arquivo.write('Essa é segunda linha que eu escrevi usando Python \\n')"
   ]
  },
  {
   "cell_type": "code",
   "execution_count": 24,
   "id": "37c7951c",
   "metadata": {},
   "outputs": [
    {
     "name": "stdout",
     "output_type": "stream",
     "text": [
      "Essa é uma linha que eu escrevi usando Python \n",
      "Essa é segunda linha que eu escrevi usando Python \n"
     ]
    }
   ],
   "source": [
    "with open('arquivo_teste.txt', 'r') as arquivo:\n",
    "    print(arquivo.read(), end='')"
   ]
  },
  {
   "cell_type": "code",
   "execution_count": 25,
   "id": "7b56e330",
   "metadata": {},
   "outputs": [],
   "source": [
    "with open('arquivo_teste.txt', 'a') as arquivo: # Para adicionar uma linha utiliza \"a\"\n",
    "    arquivo.write('Essa é terceira linha que eu escrevi usando Python \\n')"
   ]
  },
  {
   "cell_type": "code",
   "execution_count": 26,
   "id": "6f3604e5",
   "metadata": {},
   "outputs": [
    {
     "name": "stdout",
     "output_type": "stream",
     "text": [
      "Essa é uma linha que eu escrevi usando Python \n",
      "Essa é segunda linha que eu escrevi usando Python \n",
      "Essa é terceira linha que eu escrevi usando Python \n"
     ]
    }
   ],
   "source": [
    "with open('arquivo_teste.txt', 'r') as arquivo:\n",
    "    print(arquivo.read(), end='')"
   ]
  },
  {
   "cell_type": "markdown",
   "id": "6f5be191",
   "metadata": {},
   "source": [
    "### Existe modos de leitura e escrita combinados ex: r+"
   ]
  },
  {
   "cell_type": "code",
   "execution_count": null,
   "id": "364bc5d9",
   "metadata": {},
   "outputs": [],
   "source": []
  }
 ],
 "metadata": {
  "kernelspec": {
   "display_name": "Python 3",
   "language": "python",
   "name": "python3"
  },
  "language_info": {
   "codemirror_mode": {
    "name": "ipython",
    "version": 3
   },
   "file_extension": ".py",
   "mimetype": "text/x-python",
   "name": "python",
   "nbconvert_exporter": "python",
   "pygments_lexer": "ipython3",
   "version": "3.8.8"
  }
 },
 "nbformat": 4,
 "nbformat_minor": 5
}
