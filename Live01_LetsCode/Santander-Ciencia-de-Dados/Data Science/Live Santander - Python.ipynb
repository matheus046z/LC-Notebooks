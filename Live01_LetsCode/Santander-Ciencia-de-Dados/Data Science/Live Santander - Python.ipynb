{
 "cells": [
  {
   "cell_type": "markdown",
   "metadata": {},
   "source": [
    "## Live Santander"
   ]
  },
  {
   "cell_type": "markdown",
   "metadata": {},
   "source": [
    "### Hello world"
   ]
  },
  {
   "cell_type": "code",
   "execution_count": 1,
   "metadata": {
    "ExecuteTime": {
     "end_time": "2021-07-08T12:55:35.772677Z",
     "start_time": "2021-07-08T12:55:35.745681Z"
    }
   },
   "outputs": [
    {
     "data": {
      "text/plain": [
       "'hello world'"
      ]
     },
     "execution_count": 1,
     "metadata": {},
     "output_type": "execute_result"
    }
   ],
   "source": [
    "'hello world'"
   ]
  },
  {
   "cell_type": "code",
   "execution_count": 2,
   "metadata": {
    "ExecuteTime": {
     "end_time": "2021-07-08T12:55:40.040691Z",
     "start_time": "2021-07-08T12:55:40.023693Z"
    }
   },
   "outputs": [
    {
     "name": "stdout",
     "output_type": "stream",
     "text": [
      "hello world\n"
     ]
    }
   ],
   "source": [
    "print('hello world')"
   ]
  },
  {
   "cell_type": "markdown",
   "metadata": {},
   "source": [
    "### Tipagem dinâmica"
   ]
  },
  {
   "cell_type": "markdown",
   "metadata": {},
   "source": [
    "O Python usa tipagem dinâmica, o que significa que você pode reatribuir variáveis a diferentes tipos de dados. Isso torna o Python muito flexível na atribuição de tipos de dados, diferente outras linguagens de programação\n",
    "\n",
    "Você pode verificar que tipo de objeto atribuído a uma variável usando a função interna `type ()` do Python. Os tipos de dados comuns são:\n",
    "* **int** \n",
    "* **float**\n",
    "* **str** \n",
    "* **list**\n",
    "* **tuple**\n",
    "* **dict** \n",
    "* **set**\n",
    "* **bool**"
   ]
  },
  {
   "cell_type": "markdown",
   "metadata": {},
   "source": [
    "### Strings"
   ]
  },
  {
   "cell_type": "code",
   "execution_count": 4,
   "metadata": {
    "ExecuteTime": {
     "end_time": "2021-07-08T12:57:49.600992Z",
     "start_time": "2021-07-08T12:57:49.591996Z"
    }
   },
   "outputs": [],
   "source": [
    "hello = 'hello world'"
   ]
  },
  {
   "cell_type": "code",
   "execution_count": 5,
   "metadata": {
    "ExecuteTime": {
     "end_time": "2021-07-08T12:57:52.999989Z",
     "start_time": "2021-07-08T12:57:52.984006Z"
    }
   },
   "outputs": [
    {
     "data": {
      "text/plain": [
       "str"
      ]
     },
     "execution_count": 5,
     "metadata": {},
     "output_type": "execute_result"
    }
   ],
   "source": [
    "type(hello)"
   ]
  },
  {
   "cell_type": "code",
   "execution_count": 7,
   "metadata": {
    "ExecuteTime": {
     "end_time": "2021-07-08T14:23:29.219044Z",
     "start_time": "2021-07-08T14:23:29.212062Z"
    },
    "scrolled": true
   },
   "outputs": [
    {
     "data": {
      "text/plain": [
       "['__add__',\n",
       " '__class__',\n",
       " '__contains__',\n",
       " '__delattr__',\n",
       " '__dir__',\n",
       " '__doc__',\n",
       " '__eq__',\n",
       " '__format__',\n",
       " '__ge__',\n",
       " '__getattribute__',\n",
       " '__getitem__',\n",
       " '__getnewargs__',\n",
       " '__gt__',\n",
       " '__hash__',\n",
       " '__init__',\n",
       " '__init_subclass__',\n",
       " '__iter__',\n",
       " '__le__',\n",
       " '__len__',\n",
       " '__lt__',\n",
       " '__mod__',\n",
       " '__mul__',\n",
       " '__ne__',\n",
       " '__new__',\n",
       " '__reduce__',\n",
       " '__reduce_ex__',\n",
       " '__repr__',\n",
       " '__rmod__',\n",
       " '__rmul__',\n",
       " '__setattr__',\n",
       " '__sizeof__',\n",
       " '__str__',\n",
       " '__subclasshook__',\n",
       " 'capitalize',\n",
       " 'casefold',\n",
       " 'center',\n",
       " 'count',\n",
       " 'encode',\n",
       " 'endswith',\n",
       " 'expandtabs',\n",
       " 'find',\n",
       " 'format',\n",
       " 'format_map',\n",
       " 'index',\n",
       " 'isalnum',\n",
       " 'isalpha',\n",
       " 'isascii',\n",
       " 'isdecimal',\n",
       " 'isdigit',\n",
       " 'isidentifier',\n",
       " 'islower',\n",
       " 'isnumeric',\n",
       " 'isprintable',\n",
       " 'isspace',\n",
       " 'istitle',\n",
       " 'isupper',\n",
       " 'join',\n",
       " 'ljust',\n",
       " 'lower',\n",
       " 'lstrip',\n",
       " 'maketrans',\n",
       " 'partition',\n",
       " 'replace',\n",
       " 'rfind',\n",
       " 'rindex',\n",
       " 'rjust',\n",
       " 'rpartition',\n",
       " 'rsplit',\n",
       " 'rstrip',\n",
       " 'split',\n",
       " 'splitlines',\n",
       " 'startswith',\n",
       " 'strip',\n",
       " 'swapcase',\n",
       " 'title',\n",
       " 'translate',\n",
       " 'upper',\n",
       " 'zfill']"
      ]
     },
     "execution_count": 7,
     "metadata": {},
     "output_type": "execute_result"
    }
   ],
   "source": [
    "dir(hello)"
   ]
  },
  {
   "cell_type": "code",
   "execution_count": 6,
   "metadata": {
    "ExecuteTime": {
     "end_time": "2021-07-08T14:23:13.100024Z",
     "start_time": "2021-07-08T14:23:13.084001Z"
    }
   },
   "outputs": [
    {
     "data": {
      "text/plain": [
       "'HELLO WORLD'"
      ]
     },
     "execution_count": 6,
     "metadata": {},
     "output_type": "execute_result"
    }
   ],
   "source": [
    "hello.upper()"
   ]
  },
  {
   "cell_type": "code",
   "execution_count": 14,
   "metadata": {
    "ExecuteTime": {
     "end_time": "2021-07-08T14:25:57.387506Z",
     "start_time": "2021-07-08T14:25:57.372505Z"
    }
   },
   "outputs": [
    {
     "data": {
      "text/plain": [
       "'Hello World'"
      ]
     },
     "execution_count": 14,
     "metadata": {},
     "output_type": "execute_result"
    }
   ],
   "source": [
    "hello.title()"
   ]
  },
  {
   "cell_type": "code",
   "execution_count": 15,
   "metadata": {
    "ExecuteTime": {
     "end_time": "2021-07-08T14:26:17.239317Z",
     "start_time": "2021-07-08T14:26:17.220315Z"
    }
   },
   "outputs": [
    {
     "data": {
      "text/plain": [
       "'hello'"
      ]
     },
     "execution_count": 15,
     "metadata": {},
     "output_type": "execute_result"
    }
   ],
   "source": [
    "hello[:5]"
   ]
  },
  {
   "cell_type": "code",
   "execution_count": 8,
   "metadata": {
    "ExecuteTime": {
     "end_time": "2021-07-08T14:24:20.465675Z",
     "start_time": "2021-07-08T14:24:20.460680Z"
    }
   },
   "outputs": [],
   "source": [
    "cnpj = '90.400.888/0001-42'"
   ]
  },
  {
   "cell_type": "code",
   "execution_count": 11,
   "metadata": {
    "ExecuteTime": {
     "end_time": "2021-07-08T14:25:16.547723Z",
     "start_time": "2021-07-08T14:25:16.540723Z"
    }
   },
   "outputs": [
    {
     "data": {
      "text/plain": [
       "'90400888/0001-42'"
      ]
     },
     "execution_count": 11,
     "metadata": {},
     "output_type": "execute_result"
    }
   ],
   "source": [
    "cnpj.replace('.', '')"
   ]
  },
  {
   "cell_type": "code",
   "execution_count": 12,
   "metadata": {
    "ExecuteTime": {
     "end_time": "2021-07-08T14:25:33.989331Z",
     "start_time": "2021-07-08T14:25:33.972331Z"
    }
   },
   "outputs": [],
   "source": [
    "cnpj = cnpj.replace('.', '')\n",
    "cnpj = cnpj.replace('/', '')\n",
    "cnpj = cnpj.replace('-', '')"
   ]
  },
  {
   "cell_type": "code",
   "execution_count": 13,
   "metadata": {
    "ExecuteTime": {
     "end_time": "2021-07-08T14:25:35.451222Z",
     "start_time": "2021-07-08T14:25:35.436222Z"
    }
   },
   "outputs": [
    {
     "data": {
      "text/plain": [
       "'90400888000142'"
      ]
     },
     "execution_count": 13,
     "metadata": {},
     "output_type": "execute_result"
    }
   ],
   "source": [
    "cnpj"
   ]
  },
  {
   "cell_type": "code",
   "execution_count": 16,
   "metadata": {
    "ExecuteTime": {
     "end_time": "2021-07-08T14:27:31.639178Z",
     "start_time": "2021-07-08T14:27:31.621179Z"
    }
   },
   "outputs": [],
   "source": [
    "cnpj = 400888000142"
   ]
  },
  {
   "cell_type": "code",
   "execution_count": 20,
   "metadata": {
    "ExecuteTime": {
     "end_time": "2021-07-08T14:27:52.448655Z",
     "start_time": "2021-07-08T14:27:52.436679Z"
    }
   },
   "outputs": [],
   "source": [
    "cnpj = str(cnpj)"
   ]
  },
  {
   "cell_type": "code",
   "execution_count": 21,
   "metadata": {
    "ExecuteTime": {
     "end_time": "2021-07-08T14:27:56.379464Z",
     "start_time": "2021-07-08T14:27:56.372446Z"
    }
   },
   "outputs": [
    {
     "data": {
      "text/plain": [
       "12"
      ]
     },
     "execution_count": 21,
     "metadata": {},
     "output_type": "execute_result"
    }
   ],
   "source": [
    "len(cnpj)"
   ]
  },
  {
   "cell_type": "code",
   "execution_count": 23,
   "metadata": {
    "ExecuteTime": {
     "end_time": "2021-07-08T14:28:08.010176Z",
     "start_time": "2021-07-08T14:28:07.996176Z"
    }
   },
   "outputs": [
    {
     "data": {
      "text/plain": [
       "'00400888000142'"
      ]
     },
     "execution_count": 23,
     "metadata": {},
     "output_type": "execute_result"
    }
   ],
   "source": [
    "cnpj.zfill(14)"
   ]
  },
  {
   "cell_type": "markdown",
   "metadata": {},
   "source": [
    "### Listas"
   ]
  },
  {
   "cell_type": "code",
   "execution_count": 48,
   "metadata": {
    "ExecuteTime": {
     "end_time": "2021-07-08T18:11:39.980232Z",
     "start_time": "2021-07-08T18:11:39.964237Z"
    }
   },
   "outputs": [],
   "source": [
    "random_lst = [82, 57, 97, 50, 60, 48, 55, 25, 44, 81]"
   ]
  },
  {
   "cell_type": "code",
   "execution_count": 37,
   "metadata": {
    "ExecuteTime": {
     "end_time": "2021-07-08T18:05:25.636899Z",
     "start_time": "2021-07-08T18:05:25.619899Z"
    }
   },
   "outputs": [
    {
     "data": {
      "text/plain": [
       "[82, 57, 97, 50, 60, 48, 55, 25, 44, 81]"
      ]
     },
     "execution_count": 37,
     "metadata": {},
     "output_type": "execute_result"
    }
   ],
   "source": [
    "random_lst"
   ]
  },
  {
   "cell_type": "code",
   "execution_count": 40,
   "metadata": {
    "ExecuteTime": {
     "end_time": "2021-07-08T18:05:55.682375Z",
     "start_time": "2021-07-08T18:05:55.667372Z"
    }
   },
   "outputs": [],
   "source": [
    "random_lst.append(99)"
   ]
  },
  {
   "cell_type": "code",
   "execution_count": 41,
   "metadata": {
    "ExecuteTime": {
     "end_time": "2021-07-08T18:06:00.585908Z",
     "start_time": "2021-07-08T18:06:00.571909Z"
    }
   },
   "outputs": [
    {
     "data": {
      "text/plain": [
       "[82, 57, 97, 50, 60, 48, 55, 25, 44, 81, 99]"
      ]
     },
     "execution_count": 41,
     "metadata": {},
     "output_type": "execute_result"
    }
   ],
   "source": [
    "random_lst"
   ]
  },
  {
   "cell_type": "code",
   "execution_count": 42,
   "metadata": {
    "ExecuteTime": {
     "end_time": "2021-07-08T18:06:02.168265Z",
     "start_time": "2021-07-08T18:06:02.163264Z"
    }
   },
   "outputs": [
    {
     "data": {
      "text/plain": [
       "[25, 44, 48, 50, 55, 57, 60, 81, 82, 97, 99]"
      ]
     },
     "execution_count": 42,
     "metadata": {},
     "output_type": "execute_result"
    }
   ],
   "source": [
    "sorted(random_lst)"
   ]
  },
  {
   "cell_type": "markdown",
   "metadata": {},
   "source": [
    "### Dicionários"
   ]
  },
  {
   "cell_type": "markdown",
   "metadata": {},
   "source": [
    "Um dicionário Python consiste em uma chave e depois em um valor associado. Esse valor pode ser quase qualquer objeto Python."
   ]
  },
  {
   "cell_type": "code",
   "execution_count": 43,
   "metadata": {
    "ExecuteTime": {
     "end_time": "2021-07-08T18:06:56.087022Z",
     "start_time": "2021-07-08T18:06:56.076025Z"
    }
   },
   "outputs": [
    {
     "data": {
      "text/plain": [
       "{'cachorro': 'lulu da pomerânia', 'idade': 42}"
      ]
     },
     "execution_count": 43,
     "metadata": {},
     "output_type": "execute_result"
    }
   ],
   "source": [
    "# criando novo dicion\n",
    "meu_dic = {}\n",
    "meu_dic['cachorro'] = 'lulu da pomerânia'\n",
    "meu_dic['idade'] = 42\n",
    "\n",
    "meu_dic"
   ]
  },
  {
   "cell_type": "code",
   "execution_count": 44,
   "metadata": {
    "ExecuteTime": {
     "end_time": "2021-07-08T18:07:03.381846Z",
     "start_time": "2021-07-08T18:07:03.363867Z"
    }
   },
   "outputs": [
    {
     "data": {
      "text/plain": [
       "dict_keys(['cachorro', 'idade'])"
      ]
     },
     "execution_count": 44,
     "metadata": {},
     "output_type": "execute_result"
    }
   ],
   "source": [
    "meu_dic.keys()"
   ]
  },
  {
   "cell_type": "markdown",
   "metadata": {},
   "source": [
    "### Tuplas"
   ]
  },
  {
   "cell_type": "code",
   "execution_count": 45,
   "metadata": {
    "ExecuteTime": {
     "end_time": "2021-07-08T18:07:18.799405Z",
     "start_time": "2021-07-08T18:07:18.783778Z"
    }
   },
   "outputs": [
    {
     "data": {
      "text/plain": [
       "(1, 4, 9)"
      ]
     },
     "execution_count": 45,
     "metadata": {},
     "output_type": "execute_result"
    }
   ],
   "source": [
    "# criando uma tupla\n",
    "tupla = (1, 4, 9)\n",
    "tupla"
   ]
  },
  {
   "cell_type": "markdown",
   "metadata": {},
   "source": [
    "Diferentemente de listas, tuplas são imutáveis"
   ]
  },
  {
   "cell_type": "code",
   "execution_count": 46,
   "metadata": {
    "ExecuteTime": {
     "end_time": "2021-07-08T18:09:38.737606Z",
     "start_time": "2021-07-08T18:09:38.725606Z"
    }
   },
   "outputs": [
    {
     "ename": "TypeError",
     "evalue": "'tuple' object does not support item assignment",
     "output_type": "error",
     "traceback": [
      "\u001b[1;31m---------------------------------------------------------------------------\u001b[0m",
      "\u001b[1;31mTypeError\u001b[0m                                 Traceback (most recent call last)",
      "\u001b[1;32m<ipython-input-46-d9df07f85409>\u001b[0m in \u001b[0;36m<module>\u001b[1;34m\u001b[0m\n\u001b[1;32m----> 1\u001b[1;33m \u001b[0mtupla\u001b[0m\u001b[1;33m[\u001b[0m\u001b[1;36m0\u001b[0m\u001b[1;33m]\u001b[0m \u001b[1;33m=\u001b[0m \u001b[1;36m3\u001b[0m\u001b[1;33m\u001b[0m\u001b[1;33m\u001b[0m\u001b[0m\n\u001b[0m",
      "\u001b[1;31mTypeError\u001b[0m: 'tuple' object does not support item assignment"
     ]
    }
   ],
   "source": [
    "tupla[0] = 3"
   ]
  },
  {
   "cell_type": "markdown",
   "metadata": {},
   "source": [
    "### Loops"
   ]
  },
  {
   "cell_type": "markdown",
   "metadata": {},
   "source": [
    "#### For"
   ]
  },
  {
   "cell_type": "code",
   "execution_count": 49,
   "metadata": {
    "ExecuteTime": {
     "end_time": "2021-07-08T18:12:22.591139Z",
     "start_time": "2021-07-08T18:12:22.582142Z"
    }
   },
   "outputs": [],
   "source": [
    "ninja_turtles = ['Leonardo', 'Raphael', 'Donatello', 'Michelangelo']"
   ]
  },
  {
   "cell_type": "code",
   "execution_count": 50,
   "metadata": {
    "ExecuteTime": {
     "end_time": "2021-07-08T18:12:32.427325Z",
     "start_time": "2021-07-08T18:12:32.420327Z"
    }
   },
   "outputs": [
    {
     "name": "stdout",
     "output_type": "stream",
     "text": [
      "Leonardo\n",
      "Raphael\n",
      "Donatello\n",
      "Michelangelo\n"
     ]
    }
   ],
   "source": [
    "for t in ninja_turtles:        \n",
    "    print(t)"
   ]
  },
  {
   "cell_type": "code",
   "execution_count": 51,
   "metadata": {
    "ExecuteTime": {
     "end_time": "2021-07-08T18:12:46.767518Z",
     "start_time": "2021-07-08T18:12:46.757494Z"
    }
   },
   "outputs": [
    {
     "name": "stdout",
     "output_type": "stream",
     "text": [
      "Leonardo\n",
      "Raphael\n",
      "Donatello\n",
      "Michelangelo\n",
      "KAWABANGA!!\n"
     ]
    }
   ],
   "source": [
    "# for com if\n",
    "for t in ninja_turtles:\n",
    "    print(t)\n",
    "    if t == 'Michelangelo':\n",
    "        print('KAWABANGA!!')"
   ]
  },
  {
   "cell_type": "code",
   "execution_count": 52,
   "metadata": {
    "ExecuteTime": {
     "end_time": "2021-07-08T18:13:05.243107Z",
     "start_time": "2021-07-08T18:13:05.226106Z"
    }
   },
   "outputs": [],
   "source": [
    "lst_n = [1,2,3,4,5,6,7,8,9,10]"
   ]
  },
  {
   "cell_type": "code",
   "execution_count": 53,
   "metadata": {
    "ExecuteTime": {
     "end_time": "2021-07-08T18:13:07.919156Z",
     "start_time": "2021-07-08T18:13:07.912154Z"
    }
   },
   "outputs": [
    {
     "name": "stdout",
     "output_type": "stream",
     "text": [
      "número ímpar\n",
      "2\n",
      "número ímpar\n",
      "4\n",
      "número ímpar\n",
      "6\n",
      "número ímpar\n",
      "8\n",
      "número ímpar\n",
      "10\n"
     ]
    }
   ],
   "source": [
    "for num in lst_n:\n",
    "    if num % 2 == 0:\n",
    "        print(num)\n",
    "    else:\n",
    "        print('número ímpar')"
   ]
  },
  {
   "cell_type": "markdown",
   "metadata": {},
   "source": [
    "#### While"
   ]
  },
  {
   "cell_type": "code",
   "execution_count": 54,
   "metadata": {
    "ExecuteTime": {
     "end_time": "2021-07-08T18:13:36.997196Z",
     "start_time": "2021-07-08T18:13:36.975201Z"
    }
   },
   "outputs": [
    {
     "name": "stdout",
     "output_type": "stream",
     "text": [
      "x é atualmente:  0\n",
      "x ainda é menor que 10, adicionando 1 à x\n",
      "\n",
      "x é atualmente:  1\n",
      "x ainda é menor que 10, adicionando 1 à x\n",
      "\n",
      "x é atualmente:  2\n",
      "x ainda é menor que 10, adicionando 1 à x\n",
      "\n",
      "x é atualmente:  3\n",
      "x ainda é menor que 10, adicionando 1 à x\n",
      "\n",
      "x é atualmente:  4\n",
      "x ainda é menor que 10, adicionando 1 à x\n",
      "\n",
      "x é atualmente:  5\n",
      "x ainda é menor que 10, adicionando 1 à x\n",
      "\n",
      "x é atualmente:  6\n",
      "x ainda é menor que 10, adicionando 1 à x\n",
      "\n",
      "x é atualmente:  7\n",
      "x ainda é menor que 10, adicionando 1 à x\n",
      "\n",
      "x é atualmente:  8\n",
      "x ainda é menor que 10, adicionando 1 à x\n",
      "\n",
      "x é atualmente:  9\n",
      "x ainda é menor que 10, adicionando 1 à x\n",
      "\n"
     ]
    }
   ],
   "source": [
    "x = 0\n",
    "\n",
    "while x < 10:\n",
    "    print('x é atualmente: ',x)\n",
    "    print('x ainda é menor que 10, adicionando 1 à x')\n",
    "    print('')\n",
    "    x+=1"
   ]
  },
  {
   "cell_type": "markdown",
   "metadata": {},
   "source": [
    "### Operadores úteis"
   ]
  },
  {
   "cell_type": "markdown",
   "metadata": {},
   "source": [
    "#### Range"
   ]
  },
  {
   "cell_type": "markdown",
   "metadata": {},
   "source": [
    "A função range permite gerar rapidamente uma lista de números inteiros, o que é bastante útil, portanto, observe como usá-lo! Existem três parâmetros que você pode passar, um início, uma parada e um tamanho de etapa."
   ]
  },
  {
   "cell_type": "code",
   "execution_count": 55,
   "metadata": {
    "ExecuteTime": {
     "end_time": "2021-07-08T18:14:42.896967Z",
     "start_time": "2021-07-08T18:14:42.881341Z"
    }
   },
   "outputs": [
    {
     "data": {
      "text/plain": [
       "range(0, 11)"
      ]
     },
     "execution_count": 55,
     "metadata": {},
     "output_type": "execute_result"
    }
   ],
   "source": [
    "range(0,11)"
   ]
  },
  {
   "cell_type": "markdown",
   "metadata": {},
   "source": [
    "Observe que essa é uma função **generator**; portanto, para obter uma lista dela, precisamos convertê-la em uma lista com list ().\n",
    "\n",
    "O que é um generator? É um tipo especial de função que gera informações e não precisa salvá-las na memória. Ainda não falamos sobre funções ou geradores; portanto, mantenha isso em suas anotações por enquanto. Discutiremos isso com muito mais detalhes posteriormente."
   ]
  },
  {
   "cell_type": "code",
   "execution_count": 56,
   "metadata": {
    "ExecuteTime": {
     "end_time": "2021-07-08T18:14:55.385956Z",
     "start_time": "2021-07-08T18:14:55.378958Z"
    }
   },
   "outputs": [
    {
     "data": {
      "text/plain": [
       "[0, 1, 2, 3, 4, 5, 6, 7, 8, 9, 10]"
      ]
     },
     "execution_count": 56,
     "metadata": {},
     "output_type": "execute_result"
    }
   ],
   "source": [
    "list(range(0, 11))"
   ]
  },
  {
   "cell_type": "code",
   "execution_count": 57,
   "metadata": {
    "ExecuteTime": {
     "end_time": "2021-07-08T18:15:05.065237Z",
     "start_time": "2021-07-08T18:15:05.056235Z"
    }
   },
   "outputs": [
    {
     "data": {
      "text/plain": [
       "[0, 10, 20, 30, 40, 50, 60, 70, 80, 90, 100]"
      ]
     },
     "execution_count": 57,
     "metadata": {},
     "output_type": "execute_result"
    }
   ],
   "source": [
    "list(range(0, 101, 10))"
   ]
  },
  {
   "cell_type": "markdown",
   "metadata": {},
   "source": [
    "#### Enumerate"
   ]
  },
  {
   "cell_type": "markdown",
   "metadata": {},
   "source": [
    "enumerate é uma função muito útil para usar com loops. Vamos imaginar a seguinte situação:"
   ]
  },
  {
   "cell_type": "code",
   "execution_count": 58,
   "metadata": {
    "ExecuteTime": {
     "end_time": "2021-07-08T18:15:20.586757Z",
     "start_time": "2021-07-08T18:15:20.577735Z"
    }
   },
   "outputs": [
    {
     "name": "stdout",
     "output_type": "stream",
     "text": [
      "At index 0 the letter is a\n",
      "At index 1 the letter is b\n",
      "At index 2 the letter is c\n",
      "At index 3 the letter is d\n",
      "At index 4 the letter is e\n"
     ]
    }
   ],
   "source": [
    "index_count = 0\n",
    "\n",
    "for letter in 'abcde':\n",
    "    print(f\"At index {index_count} the letter is {letter}\")\n",
    "    index_count += 1"
   ]
  },
  {
   "cell_type": "markdown",
   "metadata": {},
   "source": [
    "Manter o controle de quantos ciclos você passou é tão comum que esse enumerate foi criado para que você não precise se preocupar em criar e atualizar essa variável index_count ou loop_count"
   ]
  },
  {
   "cell_type": "code",
   "execution_count": 59,
   "metadata": {
    "ExecuteTime": {
     "end_time": "2021-07-08T18:15:36.764840Z",
     "start_time": "2021-07-08T18:15:36.751845Z"
    }
   },
   "outputs": [
    {
     "name": "stdout",
     "output_type": "stream",
     "text": [
      "At index 0 the letter is a\n",
      "At index 1 the letter is b\n",
      "At index 2 the letter is c\n",
      "At index 3 the letter is d\n",
      "At index 4 the letter is e\n"
     ]
    }
   ],
   "source": [
    "for i, letter in enumerate('abcde'):\n",
    "    print(f\"At index {i} the letter is {letter}\")"
   ]
  },
  {
   "cell_type": "markdown",
   "metadata": {},
   "source": [
    "#### Zip"
   ]
  },
  {
   "cell_type": "markdown",
   "metadata": {},
   "source": [
    "Essa estrutura de dados é realmente muito comum em Python, especialmente ao trabalhar com bibliotecas externas. Você pode usar a função `zip()` para criar rapidamente uma lista de tuplas \"fechando\" duas listas."
   ]
  },
  {
   "cell_type": "code",
   "execution_count": 60,
   "metadata": {
    "ExecuteTime": {
     "end_time": "2021-07-08T18:16:15.750253Z",
     "start_time": "2021-07-08T18:16:15.732253Z"
    }
   },
   "outputs": [],
   "source": [
    "lst_arma = ['nunchaku', 'katana', 'bastão', 'sai']\n",
    "lst_tartaruga_ninja = ['Michelangelo', 'Leonardo', 'Donatello', 'Raphael']"
   ]
  },
  {
   "cell_type": "code",
   "execution_count": 61,
   "metadata": {
    "ExecuteTime": {
     "end_time": "2021-07-08T18:16:23.266862Z",
     "start_time": "2021-07-08T18:16:23.246851Z"
    }
   },
   "outputs": [
    {
     "name": "stdout",
     "output_type": "stream",
     "text": [
      "A arma do Michelangelo é nunchaku\n",
      "A arma do Leonardo é katana\n",
      "A arma do Donatello é bastão\n",
      "A arma do Raphael é sai\n"
     ]
    }
   ],
   "source": [
    "for tartaruga, arma in zip(lst_tartaruga_ninja, lst_arma):\n",
    "    print(f'A arma do {tartaruga} é {arma}')"
   ]
  },
  {
   "cell_type": "markdown",
   "metadata": {},
   "source": [
    "#### Operador `in`"
   ]
  },
  {
   "cell_type": "code",
   "execution_count": 62,
   "metadata": {
    "ExecuteTime": {
     "end_time": "2021-07-08T18:16:48.304311Z",
     "start_time": "2021-07-08T18:16:48.289327Z"
    }
   },
   "outputs": [
    {
     "data": {
      "text/plain": [
       "True"
      ]
     },
     "execution_count": 62,
     "metadata": {},
     "output_type": "execute_result"
    }
   ],
   "source": [
    "'Donatello' in lst_tartaruga_ninja"
   ]
  },
  {
   "cell_type": "code",
   "execution_count": 63,
   "metadata": {
    "ExecuteTime": {
     "end_time": "2021-07-08T18:16:54.472075Z",
     "start_time": "2021-07-08T18:16:54.452078Z"
    }
   },
   "outputs": [
    {
     "data": {
      "text/plain": [
       "False"
      ]
     },
     "execution_count": 63,
     "metadata": {},
     "output_type": "execute_result"
    }
   ],
   "source": [
    "'Mestre Splinter' in lst_tartaruga_ninja"
   ]
  },
  {
   "cell_type": "markdown",
   "metadata": {},
   "source": [
    "#### List comprehension"
   ]
  },
  {
   "cell_type": "markdown",
   "metadata": {},
   "source": [
    "A compreensão da lista nos permite criar listas usando uma notação diferente. Você pode pensar nisso como essencialmente uma linha `for` loop construída dentro de colchetes"
   ]
  },
  {
   "cell_type": "code",
   "execution_count": 64,
   "metadata": {
    "ExecuteTime": {
     "end_time": "2021-07-08T18:17:29.084995Z",
     "start_time": "2021-07-08T18:17:29.070997Z"
    }
   },
   "outputs": [
    {
     "data": {
      "text/plain": [
       "['p', 'a', 'l', 'a', 'v', 'r', 'a']"
      ]
     },
     "execution_count": 64,
     "metadata": {},
     "output_type": "execute_result"
    }
   ],
   "source": [
    "[x for x in 'palavra']"
   ]
  },
  {
   "cell_type": "code",
   "execution_count": 65,
   "metadata": {
    "ExecuteTime": {
     "end_time": "2021-07-08T18:17:37.544430Z",
     "start_time": "2021-07-08T18:17:37.528980Z"
    }
   },
   "outputs": [],
   "source": [
    "# converter celsius para fahrenheit\n",
    "celsius = [0,10,20.1,34.5]"
   ]
  },
  {
   "cell_type": "code",
   "execution_count": 70,
   "metadata": {
    "ExecuteTime": {
     "end_time": "2021-07-08T18:18:49.165819Z",
     "start_time": "2021-07-08T18:18:49.157823Z"
    }
   },
   "outputs": [],
   "source": [
    "fahrenheit = []\n",
    "for temp in celsius:\n",
    "    temp_fahrenheit = (9/5) * temp + 32    \n",
    "    fahrenheit.append(temp_fahrenheit)"
   ]
  },
  {
   "cell_type": "code",
   "execution_count": 71,
   "metadata": {
    "ExecuteTime": {
     "end_time": "2021-07-08T18:18:49.497996Z",
     "start_time": "2021-07-08T18:18:49.482995Z"
    }
   },
   "outputs": [
    {
     "data": {
      "text/plain": [
       "[32.0, 50.0, 68.18, 94.1]"
      ]
     },
     "execution_count": 71,
     "metadata": {},
     "output_type": "execute_result"
    }
   ],
   "source": [
    "fahrenheit"
   ]
  },
  {
   "cell_type": "code",
   "execution_count": 72,
   "metadata": {
    "ExecuteTime": {
     "end_time": "2021-07-08T18:18:50.079522Z",
     "start_time": "2021-07-08T18:18:50.058543Z"
    }
   },
   "outputs": [
    {
     "data": {
      "text/plain": [
       "[32.0, 50.0, 68.18, 94.1]"
      ]
     },
     "execution_count": 72,
     "metadata": {},
     "output_type": "execute_result"
    }
   ],
   "source": [
    "fahrenheit = [((9/5)*temp + 32) for temp in celsius]\n",
    "fahrenheit"
   ]
  }
 ],
 "metadata": {
  "hide_input": false,
  "kernelspec": {
   "display_name": "Python 3",
   "language": "python",
   "name": "python3"
  },
  "language_info": {
   "codemirror_mode": {
    "name": "ipython",
    "version": 3
   },
   "file_extension": ".py",
   "mimetype": "text/x-python",
   "name": "python",
   "nbconvert_exporter": "python",
   "pygments_lexer": "ipython3",
   "version": "3.8.3"
  },
  "toc": {
   "base_numbering": 1,
   "nav_menu": {},
   "number_sections": true,
   "sideBar": true,
   "skip_h1_title": false,
   "title_cell": "Table of Contents",
   "title_sidebar": "Contents",
   "toc_cell": false,
   "toc_position": {},
   "toc_section_display": true,
   "toc_window_display": true
  },
  "varInspector": {
   "cols": {
    "lenName": 16,
    "lenType": 16,
    "lenVar": 40
   },
   "kernels_config": {
    "python": {
     "delete_cmd_postfix": "",
     "delete_cmd_prefix": "del ",
     "library": "var_list.py",
     "varRefreshCmd": "print(var_dic_list())"
    },
    "r": {
     "delete_cmd_postfix": ") ",
     "delete_cmd_prefix": "rm(",
     "library": "var_list.r",
     "varRefreshCmd": "cat(var_dic_list()) "
    }
   },
   "types_to_exclude": [
    "module",
    "function",
    "builtin_function_or_method",
    "instance",
    "_Feature"
   ],
   "window_display": false
  }
 },
 "nbformat": 4,
 "nbformat_minor": 4
}
