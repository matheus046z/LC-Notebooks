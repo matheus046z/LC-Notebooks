{
 "cells": [
  {
   "cell_type": "markdown",
   "metadata": {},
   "source": [
    "## Live Santander"
   ]
  },
  {
   "cell_type": "markdown",
   "metadata": {},
   "source": [
    "### Hello world"
   ]
  },
  {
   "cell_type": "code",
   "execution_count": 8,
   "metadata": {
    "ExecuteTime": {
     "end_time": "2021-07-08T21:07:29.616590Z",
     "start_time": "2021-07-08T21:07:29.608571Z"
    }
   },
   "outputs": [
    {
     "name": "stdout",
     "output_type": "stream",
     "text": [
      "hello world\n"
     ]
    }
   ],
   "source": [
    "print('hello world')"
   ]
  },
  {
   "cell_type": "code",
   "execution_count": 9,
   "metadata": {
    "ExecuteTime": {
     "end_time": "2021-07-08T21:07:46.040370Z",
     "start_time": "2021-07-08T21:07:46.029370Z"
    }
   },
   "outputs": [
    {
     "data": {
      "text/plain": [
       "'hello world'"
      ]
     },
     "execution_count": 9,
     "metadata": {},
     "output_type": "execute_result"
    }
   ],
   "source": [
    "'hello world'"
   ]
  },
  {
   "cell_type": "markdown",
   "metadata": {},
   "source": [
    "### Tipagem dinâmica"
   ]
  },
  {
   "cell_type": "markdown",
   "metadata": {},
   "source": [
    "O Python usa tipagem dinâmica, o que significa que você pode reatribuir variáveis a diferentes tipos de dados. Isso torna o Python muito flexível na atribuição de tipos de dados, diferente outras linguagens de programação\n",
    "\n",
    "Você pode verificar que tipo de objeto atribuído a uma variável usando a função interna `type ()` do Python. Os tipos de dados comuns são:\n",
    "* **int** \n",
    "* **float**\n",
    "* **str** \n",
    "* **list**\n",
    "* **tuple**\n",
    "* **dict** \n",
    "* **set**\n",
    "* **bool**"
   ]
  },
  {
   "cell_type": "markdown",
   "metadata": {},
   "source": [
    "### Strings"
   ]
  },
  {
   "cell_type": "code",
   "execution_count": 10,
   "metadata": {
    "ExecuteTime": {
     "end_time": "2021-07-08T21:09:18.043480Z",
     "start_time": "2021-07-08T21:09:18.029476Z"
    }
   },
   "outputs": [],
   "source": [
    "hello = 'hello world'"
   ]
  },
  {
   "cell_type": "code",
   "execution_count": 11,
   "metadata": {
    "ExecuteTime": {
     "end_time": "2021-07-08T21:10:56.168458Z",
     "start_time": "2021-07-08T21:10:56.160441Z"
    }
   },
   "outputs": [
    {
     "data": {
      "text/plain": [
       "str"
      ]
     },
     "execution_count": 11,
     "metadata": {},
     "output_type": "execute_result"
    }
   ],
   "source": [
    "type(hello)"
   ]
  },
  {
   "cell_type": "code",
   "execution_count": 12,
   "metadata": {
    "ExecuteTime": {
     "end_time": "2021-07-08T21:11:11.898391Z",
     "start_time": "2021-07-08T21:11:11.887376Z"
    }
   },
   "outputs": [
    {
     "data": {
      "text/plain": [
       "['__add__',\n",
       " '__class__',\n",
       " '__contains__',\n",
       " '__delattr__',\n",
       " '__dir__',\n",
       " '__doc__',\n",
       " '__eq__',\n",
       " '__format__',\n",
       " '__ge__',\n",
       " '__getattribute__',\n",
       " '__getitem__',\n",
       " '__getnewargs__',\n",
       " '__gt__',\n",
       " '__hash__',\n",
       " '__init__',\n",
       " '__init_subclass__',\n",
       " '__iter__',\n",
       " '__le__',\n",
       " '__len__',\n",
       " '__lt__',\n",
       " '__mod__',\n",
       " '__mul__',\n",
       " '__ne__',\n",
       " '__new__',\n",
       " '__reduce__',\n",
       " '__reduce_ex__',\n",
       " '__repr__',\n",
       " '__rmod__',\n",
       " '__rmul__',\n",
       " '__setattr__',\n",
       " '__sizeof__',\n",
       " '__str__',\n",
       " '__subclasshook__',\n",
       " 'capitalize',\n",
       " 'casefold',\n",
       " 'center',\n",
       " 'count',\n",
       " 'encode',\n",
       " 'endswith',\n",
       " 'expandtabs',\n",
       " 'find',\n",
       " 'format',\n",
       " 'format_map',\n",
       " 'index',\n",
       " 'isalnum',\n",
       " 'isalpha',\n",
       " 'isascii',\n",
       " 'isdecimal',\n",
       " 'isdigit',\n",
       " 'isidentifier',\n",
       " 'islower',\n",
       " 'isnumeric',\n",
       " 'isprintable',\n",
       " 'isspace',\n",
       " 'istitle',\n",
       " 'isupper',\n",
       " 'join',\n",
       " 'ljust',\n",
       " 'lower',\n",
       " 'lstrip',\n",
       " 'maketrans',\n",
       " 'partition',\n",
       " 'replace',\n",
       " 'rfind',\n",
       " 'rindex',\n",
       " 'rjust',\n",
       " 'rpartition',\n",
       " 'rsplit',\n",
       " 'rstrip',\n",
       " 'split',\n",
       " 'splitlines',\n",
       " 'startswith',\n",
       " 'strip',\n",
       " 'swapcase',\n",
       " 'title',\n",
       " 'translate',\n",
       " 'upper',\n",
       " 'zfill']"
      ]
     },
     "execution_count": 12,
     "metadata": {},
     "output_type": "execute_result"
    }
   ],
   "source": [
    "dir(hello)"
   ]
  },
  {
   "cell_type": "markdown",
   "metadata": {},
   "source": [
    "`shift + tab`"
   ]
  },
  {
   "cell_type": "code",
   "execution_count": 13,
   "metadata": {
    "ExecuteTime": {
     "end_time": "2021-07-08T21:11:42.628425Z",
     "start_time": "2021-07-08T21:11:42.614421Z"
    }
   },
   "outputs": [
    {
     "data": {
      "text/plain": [
       "'HELLO WORLD'"
      ]
     },
     "execution_count": 13,
     "metadata": {},
     "output_type": "execute_result"
    }
   ],
   "source": [
    "hello.upper()"
   ]
  },
  {
   "cell_type": "code",
   "execution_count": 14,
   "metadata": {
    "ExecuteTime": {
     "end_time": "2021-07-08T21:12:42.745690Z",
     "start_time": "2021-07-08T21:12:42.734691Z"
    }
   },
   "outputs": [
    {
     "data": {
      "text/plain": [
       "'Hello World'"
      ]
     },
     "execution_count": 14,
     "metadata": {},
     "output_type": "execute_result"
    }
   ],
   "source": [
    "hello.title()"
   ]
  },
  {
   "cell_type": "code",
   "execution_count": 15,
   "metadata": {
    "ExecuteTime": {
     "end_time": "2021-07-08T21:13:48.180780Z",
     "start_time": "2021-07-08T21:13:48.165788Z"
    }
   },
   "outputs": [
    {
     "data": {
      "text/plain": [
       "'hello world'"
      ]
     },
     "execution_count": 15,
     "metadata": {},
     "output_type": "execute_result"
    }
   ],
   "source": [
    "hello"
   ]
  },
  {
   "cell_type": "code",
   "execution_count": 17,
   "metadata": {
    "ExecuteTime": {
     "end_time": "2021-07-08T21:14:34.638607Z",
     "start_time": "2021-07-08T21:14:34.616609Z"
    }
   },
   "outputs": [
    {
     "data": {
      "text/plain": [
       "'hello'"
      ]
     },
     "execution_count": 17,
     "metadata": {},
     "output_type": "execute_result"
    }
   ],
   "source": [
    "hello[0:5]"
   ]
  },
  {
   "cell_type": "code",
   "execution_count": 18,
   "metadata": {
    "ExecuteTime": {
     "end_time": "2021-07-08T21:15:05.531959Z",
     "start_time": "2021-07-08T21:15:05.513962Z"
    }
   },
   "outputs": [],
   "source": [
    "cnpj = '90.400.888/0001-42'"
   ]
  },
  {
   "cell_type": "code",
   "execution_count": 19,
   "metadata": {
    "ExecuteTime": {
     "end_time": "2021-07-08T21:15:09.397023Z",
     "start_time": "2021-07-08T21:15:09.379029Z"
    }
   },
   "outputs": [
    {
     "data": {
      "text/plain": [
       "'90.400.888/0001-42'"
      ]
     },
     "execution_count": 19,
     "metadata": {},
     "output_type": "execute_result"
    }
   ],
   "source": [
    "cnpj"
   ]
  },
  {
   "cell_type": "code",
   "execution_count": 21,
   "metadata": {
    "ExecuteTime": {
     "end_time": "2021-07-08T21:16:17.630115Z",
     "start_time": "2021-07-08T21:16:17.615132Z"
    }
   },
   "outputs": [],
   "source": [
    "cnpj = cnpj.replace('.', '')\n",
    "cnpj = cnpj.replace('/', '')\n",
    "cnpj = cnpj.replace('-', '')"
   ]
  },
  {
   "cell_type": "code",
   "execution_count": 22,
   "metadata": {
    "ExecuteTime": {
     "end_time": "2021-07-08T21:16:19.222694Z",
     "start_time": "2021-07-08T21:16:19.207694Z"
    }
   },
   "outputs": [
    {
     "data": {
      "text/plain": [
       "'90400888000142'"
      ]
     },
     "execution_count": 22,
     "metadata": {},
     "output_type": "execute_result"
    }
   ],
   "source": [
    "cnpj"
   ]
  },
  {
   "cell_type": "code",
   "execution_count": 23,
   "metadata": {
    "ExecuteTime": {
     "end_time": "2021-07-08T21:16:39.689012Z",
     "start_time": "2021-07-08T21:16:39.681015Z"
    }
   },
   "outputs": [],
   "source": [
    "cnpj = 400888000142"
   ]
  },
  {
   "cell_type": "code",
   "execution_count": 25,
   "metadata": {
    "ExecuteTime": {
     "end_time": "2021-07-08T21:16:55.335910Z",
     "start_time": "2021-07-08T21:16:55.326916Z"
    }
   },
   "outputs": [
    {
     "data": {
      "text/plain": [
       "int"
      ]
     },
     "execution_count": 25,
     "metadata": {},
     "output_type": "execute_result"
    }
   ],
   "source": [
    "type(cnpj)"
   ]
  },
  {
   "cell_type": "code",
   "execution_count": 26,
   "metadata": {
    "ExecuteTime": {
     "end_time": "2021-07-08T21:17:14.856211Z",
     "start_time": "2021-07-08T21:17:14.843213Z"
    }
   },
   "outputs": [],
   "source": [
    "cnpj = str(cnpj)"
   ]
  },
  {
   "cell_type": "code",
   "execution_count": 28,
   "metadata": {
    "ExecuteTime": {
     "end_time": "2021-07-08T21:17:23.410404Z",
     "start_time": "2021-07-08T21:17:23.398407Z"
    }
   },
   "outputs": [
    {
     "data": {
      "text/plain": [
       "12"
      ]
     },
     "execution_count": 28,
     "metadata": {},
     "output_type": "execute_result"
    }
   ],
   "source": [
    "len(cnpj)"
   ]
  },
  {
   "cell_type": "code",
   "execution_count": 30,
   "metadata": {
    "ExecuteTime": {
     "end_time": "2021-07-08T21:18:10.328039Z",
     "start_time": "2021-07-08T21:18:10.312039Z"
    }
   },
   "outputs": [
    {
     "data": {
      "text/plain": [
       "'400888000142'"
      ]
     },
     "execution_count": 30,
     "metadata": {},
     "output_type": "execute_result"
    }
   ],
   "source": [
    "cnpj"
   ]
  },
  {
   "cell_type": "code",
   "execution_count": 29,
   "metadata": {
    "ExecuteTime": {
     "end_time": "2021-07-08T21:18:06.448949Z",
     "start_time": "2021-07-08T21:18:06.431925Z"
    }
   },
   "outputs": [
    {
     "data": {
      "text/plain": [
       "'00400888000142'"
      ]
     },
     "execution_count": 29,
     "metadata": {},
     "output_type": "execute_result"
    }
   ],
   "source": [
    "cnpj.zfill(14)"
   ]
  },
  {
   "cell_type": "markdown",
   "metadata": {},
   "source": [
    "### Listas"
   ]
  },
  {
   "cell_type": "code",
   "execution_count": 31,
   "metadata": {
    "ExecuteTime": {
     "end_time": "2021-07-08T21:18:40.226328Z",
     "start_time": "2021-07-08T21:18:40.212339Z"
    }
   },
   "outputs": [],
   "source": [
    "random_lst = [82, 57, 97, 50, 60, 48, 55, 25, 44, 81]"
   ]
  },
  {
   "cell_type": "code",
   "execution_count": 32,
   "metadata": {
    "ExecuteTime": {
     "end_time": "2021-07-08T21:18:55.598996Z",
     "start_time": "2021-07-08T21:18:55.591997Z"
    }
   },
   "outputs": [
    {
     "data": {
      "text/plain": [
       "[82, 57, 97, 50, 60, 48, 55, 25, 44, 81]"
      ]
     },
     "execution_count": 32,
     "metadata": {},
     "output_type": "execute_result"
    }
   ],
   "source": [
    "random_lst"
   ]
  },
  {
   "cell_type": "code",
   "execution_count": 33,
   "metadata": {
    "ExecuteTime": {
     "end_time": "2021-07-08T21:19:05.315665Z",
     "start_time": "2021-07-08T21:19:05.303653Z"
    }
   },
   "outputs": [],
   "source": [
    "random_lst.append(99)"
   ]
  },
  {
   "cell_type": "code",
   "execution_count": 36,
   "metadata": {
    "ExecuteTime": {
     "end_time": "2021-07-08T21:19:23.126012Z",
     "start_time": "2021-07-08T21:19:23.115010Z"
    }
   },
   "outputs": [
    {
     "data": {
      "text/plain": [
       "['__add__',\n",
       " '__class__',\n",
       " '__contains__',\n",
       " '__delattr__',\n",
       " '__delitem__',\n",
       " '__dir__',\n",
       " '__doc__',\n",
       " '__eq__',\n",
       " '__format__',\n",
       " '__ge__',\n",
       " '__getattribute__',\n",
       " '__getitem__',\n",
       " '__gt__',\n",
       " '__hash__',\n",
       " '__iadd__',\n",
       " '__imul__',\n",
       " '__init__',\n",
       " '__init_subclass__',\n",
       " '__iter__',\n",
       " '__le__',\n",
       " '__len__',\n",
       " '__lt__',\n",
       " '__mul__',\n",
       " '__ne__',\n",
       " '__new__',\n",
       " '__reduce__',\n",
       " '__reduce_ex__',\n",
       " '__repr__',\n",
       " '__reversed__',\n",
       " '__rmul__',\n",
       " '__setattr__',\n",
       " '__setitem__',\n",
       " '__sizeof__',\n",
       " '__str__',\n",
       " '__subclasshook__',\n",
       " 'append',\n",
       " 'clear',\n",
       " 'copy',\n",
       " 'count',\n",
       " 'extend',\n",
       " 'index',\n",
       " 'insert',\n",
       " 'pop',\n",
       " 'remove',\n",
       " 'reverse',\n",
       " 'sort']"
      ]
     },
     "execution_count": 36,
     "metadata": {},
     "output_type": "execute_result"
    }
   ],
   "source": [
    "dir(random_lst)"
   ]
  },
  {
   "cell_type": "code",
   "execution_count": 34,
   "metadata": {
    "ExecuteTime": {
     "end_time": "2021-07-08T21:19:08.101429Z",
     "start_time": "2021-07-08T21:19:08.086419Z"
    }
   },
   "outputs": [
    {
     "data": {
      "text/plain": [
       "[82, 57, 97, 50, 60, 48, 55, 25, 44, 81, 99]"
      ]
     },
     "execution_count": 34,
     "metadata": {},
     "output_type": "execute_result"
    }
   ],
   "source": [
    "random_lst"
   ]
  },
  {
   "cell_type": "markdown",
   "metadata": {},
   "source": [
    "### Dicionários"
   ]
  },
  {
   "cell_type": "markdown",
   "metadata": {},
   "source": [
    "Um dicionário Python consiste em uma chave e depois em um valor associado. Esse valor pode ser quase qualquer objeto Python."
   ]
  },
  {
   "cell_type": "code",
   "execution_count": 37,
   "metadata": {
    "ExecuteTime": {
     "end_time": "2021-07-08T21:20:14.303793Z",
     "start_time": "2021-07-08T21:20:14.282763Z"
    }
   },
   "outputs": [
    {
     "data": {
      "text/plain": [
       "{'cachorro': 'lulu da pomerânia', 'idade': 42}"
      ]
     },
     "execution_count": 37,
     "metadata": {},
     "output_type": "execute_result"
    }
   ],
   "source": [
    "# criando novo dicion\n",
    "meu_dic = {}\n",
    "meu_dic['cachorro'] = 'lulu da pomerânia'\n",
    "meu_dic['idade'] = 42\n",
    "\n",
    "meu_dic"
   ]
  },
  {
   "cell_type": "code",
   "execution_count": 38,
   "metadata": {
    "ExecuteTime": {
     "end_time": "2021-07-08T21:20:43.498169Z",
     "start_time": "2021-07-08T21:20:43.487165Z"
    }
   },
   "outputs": [
    {
     "data": {
      "text/plain": [
       "dict_keys(['cachorro', 'idade'])"
      ]
     },
     "execution_count": 38,
     "metadata": {},
     "output_type": "execute_result"
    }
   ],
   "source": [
    "meu_dic.keys()"
   ]
  },
  {
   "cell_type": "code",
   "execution_count": 39,
   "metadata": {
    "ExecuteTime": {
     "end_time": "2021-07-08T21:20:57.144738Z",
     "start_time": "2021-07-08T21:20:57.127735Z"
    }
   },
   "outputs": [
    {
     "data": {
      "text/plain": [
       "dict_values(['lulu da pomerânia', 42])"
      ]
     },
     "execution_count": 39,
     "metadata": {},
     "output_type": "execute_result"
    }
   ],
   "source": [
    "meu_dic.values()"
   ]
  },
  {
   "cell_type": "code",
   "execution_count": 40,
   "metadata": {
    "ExecuteTime": {
     "end_time": "2021-07-08T21:21:09.070384Z",
     "start_time": "2021-07-08T21:21:09.058373Z"
    }
   },
   "outputs": [
    {
     "data": {
      "text/plain": [
       "dict_items([('cachorro', 'lulu da pomerânia'), ('idade', 42)])"
      ]
     },
     "execution_count": 40,
     "metadata": {},
     "output_type": "execute_result"
    }
   ],
   "source": [
    "meu_dic.items()"
   ]
  },
  {
   "cell_type": "code",
   "execution_count": null,
   "metadata": {},
   "outputs": [],
   "source": []
  },
  {
   "cell_type": "code",
   "execution_count": null,
   "metadata": {},
   "outputs": [],
   "source": []
  },
  {
   "cell_type": "markdown",
   "metadata": {},
   "source": [
    "### Tuplas"
   ]
  },
  {
   "cell_type": "code",
   "execution_count": 41,
   "metadata": {
    "ExecuteTime": {
     "end_time": "2021-07-08T21:21:44.923899Z",
     "start_time": "2021-07-08T21:21:44.916902Z"
    }
   },
   "outputs": [
    {
     "data": {
      "text/plain": [
       "(1, 4, 9)"
      ]
     },
     "execution_count": 41,
     "metadata": {},
     "output_type": "execute_result"
    }
   ],
   "source": [
    "# criando uma tupla\n",
    "tupla = (1, 4, 9)\n",
    "tupla"
   ]
  },
  {
   "cell_type": "code",
   "execution_count": 43,
   "metadata": {
    "ExecuteTime": {
     "end_time": "2021-07-08T21:22:10.064739Z",
     "start_time": "2021-07-08T21:22:10.049758Z"
    }
   },
   "outputs": [
    {
     "ename": "TypeError",
     "evalue": "'tuple' object does not support item assignment",
     "output_type": "error",
     "traceback": [
      "\u001b[1;31m---------------------------------------------------------------------------\u001b[0m",
      "\u001b[1;31mTypeError\u001b[0m                                 Traceback (most recent call last)",
      "\u001b[1;32m<ipython-input-43-d9df07f85409>\u001b[0m in \u001b[0;36m<module>\u001b[1;34m\u001b[0m\n\u001b[1;32m----> 1\u001b[1;33m \u001b[0mtupla\u001b[0m\u001b[1;33m[\u001b[0m\u001b[1;36m0\u001b[0m\u001b[1;33m]\u001b[0m \u001b[1;33m=\u001b[0m \u001b[1;36m3\u001b[0m\u001b[1;33m\u001b[0m\u001b[1;33m\u001b[0m\u001b[0m\n\u001b[0m",
      "\u001b[1;31mTypeError\u001b[0m: 'tuple' object does not support item assignment"
     ]
    }
   ],
   "source": [
    "tupla[0] = 3"
   ]
  },
  {
   "cell_type": "markdown",
   "metadata": {},
   "source": [
    "### Loops"
   ]
  },
  {
   "cell_type": "markdown",
   "metadata": {},
   "source": [
    "#### For"
   ]
  },
  {
   "cell_type": "code",
   "execution_count": 44,
   "metadata": {
    "ExecuteTime": {
     "end_time": "2021-07-08T21:23:04.762895Z",
     "start_time": "2021-07-08T21:23:04.744877Z"
    }
   },
   "outputs": [],
   "source": [
    "ninja_turtles = ['Leonardo', 'Raphael', 'Donatello', 'Michelangelo']"
   ]
  },
  {
   "cell_type": "code",
   "execution_count": 46,
   "metadata": {
    "ExecuteTime": {
     "end_time": "2021-07-08T21:23:26.874073Z",
     "start_time": "2021-07-08T21:23:26.865073Z"
    }
   },
   "outputs": [
    {
     "data": {
      "text/plain": [
       "'Raphael'"
      ]
     },
     "execution_count": 46,
     "metadata": {},
     "output_type": "execute_result"
    }
   ],
   "source": [
    "ninja_turtles[1]"
   ]
  },
  {
   "cell_type": "code",
   "execution_count": 48,
   "metadata": {
    "ExecuteTime": {
     "end_time": "2021-07-08T21:24:08.574259Z",
     "start_time": "2021-07-08T21:24:08.559255Z"
    }
   },
   "outputs": [
    {
     "name": "stdout",
     "output_type": "stream",
     "text": [
      "Leonardo\n",
      "Raphael\n",
      "Donatello\n",
      "Michelangelo\n"
     ]
    }
   ],
   "source": [
    "for t in ninja_turtles:\n",
    "    print(t)"
   ]
  },
  {
   "cell_type": "code",
   "execution_count": 49,
   "metadata": {
    "ExecuteTime": {
     "end_time": "2021-07-08T21:24:45.655980Z",
     "start_time": "2021-07-08T21:24:45.647997Z"
    }
   },
   "outputs": [
    {
     "name": "stdout",
     "output_type": "stream",
     "text": [
      "Leonardo\n",
      "Raphael\n",
      "Donatello\n",
      "Michelangelo\n",
      "KAWABANGA!!\n"
     ]
    }
   ],
   "source": [
    "for t in ninja_turtles:\n",
    "    print(t)\n",
    "    \n",
    "    if t == 'Michelangelo':\n",
    "        print('KAWABANGA!!')"
   ]
  },
  {
   "cell_type": "markdown",
   "metadata": {},
   "source": [
    "#### While"
   ]
  },
  {
   "cell_type": "code",
   "execution_count": 50,
   "metadata": {
    "ExecuteTime": {
     "end_time": "2021-07-08T21:26:35.505773Z",
     "start_time": "2021-07-08T21:26:35.484774Z"
    }
   },
   "outputs": [
    {
     "name": "stdout",
     "output_type": "stream",
     "text": [
      "x é atualmente 0\n",
      "x é atualmente 1\n",
      "x é atualmente 2\n",
      "x é atualmente 3\n",
      "x é atualmente 4\n",
      "x é atualmente 5\n",
      "x é atualmente 6\n",
      "x é atualmente 7\n",
      "x é atualmente 8\n",
      "x é atualmente 9\n"
     ]
    }
   ],
   "source": [
    "x = 0\n",
    "\n",
    "while x < 10:\n",
    "    print('x é atualmente', x)\n",
    "    \n",
    "    \n",
    "    x = x + 1"
   ]
  },
  {
   "cell_type": "code",
   "execution_count": null,
   "metadata": {},
   "outputs": [],
   "source": []
  },
  {
   "cell_type": "markdown",
   "metadata": {},
   "source": [
    "### Operadores úteis"
   ]
  },
  {
   "cell_type": "markdown",
   "metadata": {},
   "source": [
    "#### Range"
   ]
  },
  {
   "cell_type": "markdown",
   "metadata": {},
   "source": [
    "A função range permite gerar rapidamente uma lista de números inteiros, o que é bastante útil, portanto, observe como usá-lo! Existem três parâmetros que você pode passar, um início, uma parada e um tamanho de etapa."
   ]
  },
  {
   "cell_type": "code",
   "execution_count": 51,
   "metadata": {
    "ExecuteTime": {
     "end_time": "2021-07-08T21:27:28.508095Z",
     "start_time": "2021-07-08T21:27:28.493098Z"
    }
   },
   "outputs": [
    {
     "data": {
      "text/plain": [
       "range(0, 11)"
      ]
     },
     "execution_count": 51,
     "metadata": {},
     "output_type": "execute_result"
    }
   ],
   "source": [
    "range(0, 11)"
   ]
  },
  {
   "cell_type": "code",
   "execution_count": 52,
   "metadata": {
    "ExecuteTime": {
     "end_time": "2021-07-08T21:28:19.126853Z",
     "start_time": "2021-07-08T21:28:19.105838Z"
    }
   },
   "outputs": [
    {
     "data": {
      "text/plain": [
       "[0, 1, 2, 3, 4, 5, 6, 7, 8, 9, 10]"
      ]
     },
     "execution_count": 52,
     "metadata": {},
     "output_type": "execute_result"
    }
   ],
   "source": [
    "list(range(0, 11))"
   ]
  },
  {
   "cell_type": "code",
   "execution_count": 53,
   "metadata": {
    "ExecuteTime": {
     "end_time": "2021-07-08T21:28:49.513199Z",
     "start_time": "2021-07-08T21:28:49.506198Z"
    }
   },
   "outputs": [
    {
     "name": "stdout",
     "output_type": "stream",
     "text": [
      "0\n",
      "1\n",
      "2\n",
      "3\n",
      "4\n"
     ]
    }
   ],
   "source": [
    "for i in range(0, 5):\n",
    "    print(i)"
   ]
  },
  {
   "cell_type": "code",
   "execution_count": null,
   "metadata": {},
   "outputs": [],
   "source": []
  },
  {
   "cell_type": "code",
   "execution_count": null,
   "metadata": {},
   "outputs": [],
   "source": []
  },
  {
   "cell_type": "code",
   "execution_count": null,
   "metadata": {},
   "outputs": [],
   "source": []
  },
  {
   "cell_type": "markdown",
   "metadata": {},
   "source": [
    "Observe que essa é uma função **generator**; portanto, para obter uma lista dela, precisamos convertê-la em uma lista com list ().\n",
    "\n",
    "O que é um generator? É um tipo especial de função que gera informações e não precisa salvá-las na memória. Ainda não falamos sobre funções ou geradores; portanto, mantenha isso em suas anotações por enquanto. Discutiremos isso com muito mais detalhes posteriormente."
   ]
  },
  {
   "cell_type": "code",
   "execution_count": null,
   "metadata": {},
   "outputs": [],
   "source": []
  },
  {
   "cell_type": "markdown",
   "metadata": {},
   "source": [
    "#### Enumerate"
   ]
  },
  {
   "cell_type": "markdown",
   "metadata": {},
   "source": [
    "enumerate é uma função muito útil para usar com loops. Vamos imaginar a seguinte situação:"
   ]
  },
  {
   "cell_type": "code",
   "execution_count": 54,
   "metadata": {
    "ExecuteTime": {
     "end_time": "2021-07-08T21:29:16.024745Z",
     "start_time": "2021-07-08T21:29:16.008756Z"
    }
   },
   "outputs": [
    {
     "name": "stdout",
     "output_type": "stream",
     "text": [
      "At index 0 the letter is a\n",
      "At index 1 the letter is b\n",
      "At index 2 the letter is c\n",
      "At index 3 the letter is d\n",
      "At index 4 the letter is e\n"
     ]
    }
   ],
   "source": [
    "index_count = 0\n",
    "\n",
    "for letter in 'abcde':\n",
    "    print(f\"At index {index_count} the letter is {letter}\")\n",
    "    index_count += 1"
   ]
  },
  {
   "cell_type": "code",
   "execution_count": 57,
   "metadata": {
    "ExecuteTime": {
     "end_time": "2021-07-08T21:31:54.231227Z",
     "start_time": "2021-07-08T21:31:54.226227Z"
    }
   },
   "outputs": [
    {
     "name": "stdout",
     "output_type": "stream",
     "text": [
      "At index 0 the letter is a\n",
      "At index 1 the letter is b\n",
      "At index 2 the letter is c\n",
      "At index 3 the letter is d\n",
      "At index 4 the letter is e\n"
     ]
    }
   ],
   "source": [
    "for i, letter in enumerate('abcde'):\n",
    "    print(f\"At index {i} the letter is {letter}\")"
   ]
  },
  {
   "cell_type": "code",
   "execution_count": null,
   "metadata": {},
   "outputs": [],
   "source": []
  },
  {
   "cell_type": "code",
   "execution_count": null,
   "metadata": {},
   "outputs": [],
   "source": []
  },
  {
   "cell_type": "markdown",
   "metadata": {},
   "source": [
    "Manter o controle de quantos ciclos você passou é tão comum que esse enumerate foi criado para que você não precise se preocupar em criar e atualizar essa variável index_count ou loop_count"
   ]
  },
  {
   "cell_type": "code",
   "execution_count": null,
   "metadata": {},
   "outputs": [],
   "source": []
  },
  {
   "cell_type": "markdown",
   "metadata": {},
   "source": [
    "#### Zip"
   ]
  },
  {
   "cell_type": "markdown",
   "metadata": {},
   "source": [
    "Essa estrutura de dados é realmente muito comum em Python, especialmente ao trabalhar com bibliotecas externas. Você pode usar a função `zip()` para criar rapidamente uma lista de tuplas \"fechando\" duas listas."
   ]
  },
  {
   "cell_type": "code",
   "execution_count": 58,
   "metadata": {
    "ExecuteTime": {
     "end_time": "2021-07-08T21:32:50.036791Z",
     "start_time": "2021-07-08T21:32:50.017120Z"
    }
   },
   "outputs": [],
   "source": [
    "lst_arma = ['nunchaku', 'katana', 'bastão', 'sai']\n",
    "lst_tartaruga_ninja = ['Michelangelo', 'Leonardo',\n",
    "                       'Donatello', 'Raphael']"
   ]
  },
  {
   "cell_type": "code",
   "execution_count": 59,
   "metadata": {
    "ExecuteTime": {
     "end_time": "2021-07-08T21:33:50.354643Z",
     "start_time": "2021-07-08T21:33:50.336625Z"
    }
   },
   "outputs": [
    {
     "name": "stdout",
     "output_type": "stream",
     "text": [
      "A arma do Michelangelo é nunchaku\n",
      "A arma do Leonardo é katana\n",
      "A arma do Donatello é bastão\n",
      "A arma do Raphael é sai\n"
     ]
    }
   ],
   "source": [
    "for turtle, weapon in zip(lst_tartaruga_ninja, lst_arma):\n",
    "    print(f'A arma do {turtle} é {weapon}')"
   ]
  },
  {
   "cell_type": "code",
   "execution_count": null,
   "metadata": {},
   "outputs": [],
   "source": []
  },
  {
   "cell_type": "code",
   "execution_count": null,
   "metadata": {},
   "outputs": [],
   "source": []
  },
  {
   "cell_type": "code",
   "execution_count": null,
   "metadata": {},
   "outputs": [],
   "source": []
  },
  {
   "cell_type": "markdown",
   "metadata": {},
   "source": [
    "#### Operador `in`"
   ]
  },
  {
   "cell_type": "code",
   "execution_count": 60,
   "metadata": {
    "ExecuteTime": {
     "end_time": "2021-07-08T21:34:27.128854Z",
     "start_time": "2021-07-08T21:34:27.114850Z"
    }
   },
   "outputs": [
    {
     "data": {
      "text/plain": [
       "['Michelangelo', 'Leonardo', 'Donatello', 'Raphael']"
      ]
     },
     "execution_count": 60,
     "metadata": {},
     "output_type": "execute_result"
    }
   ],
   "source": [
    "lst_tartaruga_ninja"
   ]
  },
  {
   "cell_type": "code",
   "execution_count": 61,
   "metadata": {
    "ExecuteTime": {
     "end_time": "2021-07-08T21:34:53.433453Z",
     "start_time": "2021-07-08T21:34:53.422461Z"
    }
   },
   "outputs": [
    {
     "data": {
      "text/plain": [
       "True"
      ]
     },
     "execution_count": 61,
     "metadata": {},
     "output_type": "execute_result"
    }
   ],
   "source": [
    "'Donatello' in lst_tartaruga_ninja"
   ]
  },
  {
   "cell_type": "code",
   "execution_count": 62,
   "metadata": {
    "ExecuteTime": {
     "end_time": "2021-07-08T21:35:03.368164Z",
     "start_time": "2021-07-08T21:35:03.348167Z"
    }
   },
   "outputs": [
    {
     "data": {
      "text/plain": [
       "False"
      ]
     },
     "execution_count": 62,
     "metadata": {},
     "output_type": "execute_result"
    }
   ],
   "source": [
    "'Mestre Splinter' in lst_tartaruga_ninja"
   ]
  },
  {
   "cell_type": "markdown",
   "metadata": {},
   "source": [
    "#### List comprehension"
   ]
  },
  {
   "cell_type": "markdown",
   "metadata": {},
   "source": [
    "A compreensão da lista nos permite criar listas usando uma notação diferente. Você pode pensar nisso como essencialmente uma linha `for` loop construída dentro de colchetes"
   ]
  },
  {
   "cell_type": "code",
   "execution_count": 63,
   "metadata": {
    "ExecuteTime": {
     "end_time": "2021-07-08T21:35:26.091820Z",
     "start_time": "2021-07-08T21:35:26.087837Z"
    }
   },
   "outputs": [],
   "source": [
    "# converter celsius para fahrenheit\n",
    "celsius = [0,10,20.1,34.5]"
   ]
  },
  {
   "cell_type": "code",
   "execution_count": 64,
   "metadata": {
    "ExecuteTime": {
     "end_time": "2021-07-08T21:35:28.237367Z",
     "start_time": "2021-07-08T21:35:28.226369Z"
    }
   },
   "outputs": [
    {
     "data": {
      "text/plain": [
       "[0, 10, 20.1, 34.5]"
      ]
     },
     "execution_count": 64,
     "metadata": {},
     "output_type": "execute_result"
    }
   ],
   "source": [
    "celsius"
   ]
  },
  {
   "cell_type": "code",
   "execution_count": 65,
   "metadata": {
    "ExecuteTime": {
     "end_time": "2021-07-08T21:36:22.270319Z",
     "start_time": "2021-07-08T21:36:22.250780Z"
    }
   },
   "outputs": [],
   "source": [
    "fahrenheit = []\n",
    "\n",
    "for temp in celsius:\n",
    "    temp_fahrenheit = (9/5) * temp + 32\n",
    "    fahrenheit.append(temp_fahrenheit)"
   ]
  },
  {
   "cell_type": "code",
   "execution_count": 66,
   "metadata": {
    "ExecuteTime": {
     "end_time": "2021-07-08T21:36:26.824962Z",
     "start_time": "2021-07-08T21:36:26.812964Z"
    }
   },
   "outputs": [
    {
     "data": {
      "text/plain": [
       "[32.0, 50.0, 68.18, 94.1]"
      ]
     },
     "execution_count": 66,
     "metadata": {},
     "output_type": "execute_result"
    }
   ],
   "source": [
    "fahrenheit"
   ]
  },
  {
   "cell_type": "code",
   "execution_count": 68,
   "metadata": {
    "ExecuteTime": {
     "end_time": "2021-07-08T21:37:53.634553Z",
     "start_time": "2021-07-08T21:37:53.612558Z"
    }
   },
   "outputs": [
    {
     "data": {
      "text/plain": [
       "[32.0, 50.0, 68.18, 94.1]"
      ]
     },
     "execution_count": 68,
     "metadata": {},
     "output_type": "execute_result"
    }
   ],
   "source": [
    "[((9/5) * temp + 32) for temp in celsius]"
   ]
  },
  {
   "cell_type": "code",
   "execution_count": 70,
   "metadata": {
    "ExecuteTime": {
     "end_time": "2021-07-08T21:44:37.710631Z",
     "start_time": "2021-07-08T21:44:37.700632Z"
    }
   },
   "outputs": [],
   "source": [
    "celsius.append(500)"
   ]
  },
  {
   "cell_type": "code",
   "execution_count": 72,
   "metadata": {
    "ExecuteTime": {
     "end_time": "2021-07-08T21:45:08.508508Z",
     "start_time": "2021-07-08T21:45:08.499506Z"
    }
   },
   "outputs": [
    {
     "data": {
      "text/plain": [
       "[0, 10, 20.1, 34.5, 500]"
      ]
     },
     "execution_count": 72,
     "metadata": {},
     "output_type": "execute_result"
    }
   ],
   "source": [
    "celsius"
   ]
  },
  {
   "cell_type": "code",
   "execution_count": 73,
   "metadata": {
    "ExecuteTime": {
     "end_time": "2021-07-08T21:45:26.625279Z",
     "start_time": "2021-07-08T21:45:26.615281Z"
    }
   },
   "outputs": [
    {
     "data": {
      "text/plain": [
       "[40, 10]"
      ]
     },
     "execution_count": 73,
     "metadata": {},
     "output_type": "execute_result"
    }
   ],
   "source": [
    "celsius_2 = [40, 10]\n",
    "celsius_2"
   ]
  },
  {
   "cell_type": "code",
   "execution_count": 76,
   "metadata": {
    "ExecuteTime": {
     "end_time": "2021-07-08T21:45:55.133225Z",
     "start_time": "2021-07-08T21:45:55.119868Z"
    }
   },
   "outputs": [],
   "source": [
    "celsius = celsius + celsius_2"
   ]
  },
  {
   "cell_type": "code",
   "execution_count": 77,
   "metadata": {
    "ExecuteTime": {
     "end_time": "2021-07-08T21:45:57.574091Z",
     "start_time": "2021-07-08T21:45:57.555103Z"
    }
   },
   "outputs": [
    {
     "data": {
      "text/plain": [
       "[0, 10, 20.1, 34.5, 500, 40, 10]"
      ]
     },
     "execution_count": 77,
     "metadata": {},
     "output_type": "execute_result"
    }
   ],
   "source": [
    "celsius"
   ]
  },
  {
   "cell_type": "markdown",
   "metadata": {},
   "source": [
    "## F-String"
   ]
  },
  {
   "cell_type": "code",
   "execution_count": 78,
   "metadata": {
    "ExecuteTime": {
     "end_time": "2021-07-08T21:46:38.497621Z",
     "start_time": "2021-07-08T21:46:38.477604Z"
    }
   },
   "outputs": [
    {
     "data": {
      "text/plain": [
       "[0, 10, 20.1, 34.5, 500, 40, 10]"
      ]
     },
     "execution_count": 78,
     "metadata": {},
     "output_type": "execute_result"
    }
   ],
   "source": [
    "celsius"
   ]
  },
  {
   "cell_type": "code",
   "execution_count": 79,
   "metadata": {
    "ExecuteTime": {
     "end_time": "2021-07-08T21:47:05.942115Z",
     "start_time": "2021-07-08T21:47:05.933114Z"
    }
   },
   "outputs": [
    {
     "name": "stdout",
     "output_type": "stream",
     "text": [
      "A temperatura é 0 graus celsius\n",
      "A temperatura é 10 graus celsius\n",
      "A temperatura é 20.1 graus celsius\n",
      "A temperatura é 34.5 graus celsius\n",
      "A temperatura é 500 graus celsius\n",
      "A temperatura é 40 graus celsius\n",
      "A temperatura é 10 graus celsius\n"
     ]
    }
   ],
   "source": [
    "for i in celsius:\n",
    "    print('A temperatura é', i, 'graus celsius')"
   ]
  },
  {
   "cell_type": "code",
   "execution_count": 80,
   "metadata": {
    "ExecuteTime": {
     "end_time": "2021-07-08T21:48:00.343079Z",
     "start_time": "2021-07-08T21:48:00.324084Z"
    }
   },
   "outputs": [
    {
     "name": "stdout",
     "output_type": "stream",
     "text": [
      "A temperatura é 0 graus celsius\n",
      "A temperatura é 10 graus celsius\n",
      "A temperatura é 20.1 graus celsius\n",
      "A temperatura é 34.5 graus celsius\n",
      "A temperatura é 500 graus celsius\n",
      "A temperatura é 40 graus celsius\n",
      "A temperatura é 10 graus celsius\n"
     ]
    }
   ],
   "source": [
    "for i in celsius:\n",
    "    print(f'A temperatura é {i} graus celsius')"
   ]
  },
  {
   "cell_type": "code",
   "execution_count": 83,
   "metadata": {
    "ExecuteTime": {
     "end_time": "2021-07-08T21:51:32.924805Z",
     "start_time": "2021-07-08T21:51:32.911804Z"
    }
   },
   "outputs": [
    {
     "data": {
      "text/plain": [
       "list"
      ]
     },
     "execution_count": 83,
     "metadata": {},
     "output_type": "execute_result"
    }
   ],
   "source": [
    "type(celsius)"
   ]
  },
  {
   "cell_type": "code",
   "execution_count": 85,
   "metadata": {
    "ExecuteTime": {
     "end_time": "2021-07-08T21:51:52.337730Z",
     "start_time": "2021-07-08T21:51:52.324731Z"
    }
   },
   "outputs": [
    {
     "data": {
      "text/plain": [
       "(0, 10, 20.1, 34.5, 500, 40, 10)"
      ]
     },
     "execution_count": 85,
     "metadata": {},
     "output_type": "execute_result"
    }
   ],
   "source": [
    "celsius_tuple = tuple(celsius)\n",
    "celsius_tuple"
   ]
  },
  {
   "cell_type": "code",
   "execution_count": 86,
   "metadata": {
    "ExecuteTime": {
     "end_time": "2021-07-08T21:51:58.718574Z",
     "start_time": "2021-07-08T21:51:58.700573Z"
    }
   },
   "outputs": [
    {
     "data": {
      "text/plain": [
       "[0, 10, 20.1, 34.5, 500, 40, 10]"
      ]
     },
     "execution_count": 86,
     "metadata": {},
     "output_type": "execute_result"
    }
   ],
   "source": [
    "list(celsius_tuple)"
   ]
  },
  {
   "cell_type": "code",
   "execution_count": 87,
   "metadata": {
    "ExecuteTime": {
     "end_time": "2021-07-08T21:52:15.893620Z",
     "start_time": "2021-07-08T21:52:15.880032Z"
    }
   },
   "outputs": [
    {
     "data": {
      "text/plain": [
       "'123456'"
      ]
     },
     "execution_count": 87,
     "metadata": {},
     "output_type": "execute_result"
    }
   ],
   "source": [
    "str(123456)"
   ]
  },
  {
   "cell_type": "code",
   "execution_count": null,
   "metadata": {},
   "outputs": [],
   "source": []
  },
  {
   "cell_type": "code",
   "execution_count": null,
   "metadata": {},
   "outputs": [],
   "source": []
  },
  {
   "cell_type": "code",
   "execution_count": null,
   "metadata": {},
   "outputs": [],
   "source": []
  },
  {
   "cell_type": "code",
   "execution_count": 88,
   "metadata": {
    "ExecuteTime": {
     "end_time": "2021-07-08T21:52:51.870051Z",
     "start_time": "2021-07-08T21:52:51.861053Z"
    }
   },
   "outputs": [
    {
     "data": {
      "text/plain": [
       "[82, 57, 97, 50, 60, 48, 55, 25, 44, 81, 99]"
      ]
     },
     "execution_count": 88,
     "metadata": {},
     "output_type": "execute_result"
    }
   ],
   "source": [
    "random_lst"
   ]
  },
  {
   "cell_type": "code",
   "execution_count": 91,
   "metadata": {
    "ExecuteTime": {
     "end_time": "2021-07-08T21:53:42.976007Z",
     "start_time": "2021-07-08T21:53:42.964027Z"
    }
   },
   "outputs": [],
   "source": [
    "random_lst.sort()"
   ]
  },
  {
   "cell_type": "code",
   "execution_count": 92,
   "metadata": {
    "ExecuteTime": {
     "end_time": "2021-07-08T21:53:50.705238Z",
     "start_time": "2021-07-08T21:53:50.691237Z"
    }
   },
   "outputs": [
    {
     "data": {
      "text/plain": [
       "[25, 44, 48, 50, 55, 57, 60, 81, 82, 97, 99]"
      ]
     },
     "execution_count": 92,
     "metadata": {},
     "output_type": "execute_result"
    }
   ],
   "source": [
    "random_lst"
   ]
  },
  {
   "cell_type": "code",
   "execution_count": 94,
   "metadata": {
    "ExecuteTime": {
     "end_time": "2021-07-08T21:54:13.129254Z",
     "start_time": "2021-07-08T21:54:13.118270Z"
    }
   },
   "outputs": [
    {
     "data": {
      "text/plain": [
       "[82, 57, 97, 50, 60, 48, 55, 25, 44, 81, 99]"
      ]
     },
     "execution_count": 94,
     "metadata": {},
     "output_type": "execute_result"
    }
   ],
   "source": [
    "random_lst_2 = [82, 57, 97, 50, 60, 48, 55, 25, 44, 81, 99]\n",
    "random_lst_2"
   ]
  },
  {
   "cell_type": "code",
   "execution_count": 95,
   "metadata": {
    "ExecuteTime": {
     "end_time": "2021-07-08T21:54:21.197280Z",
     "start_time": "2021-07-08T21:54:21.179299Z"
    }
   },
   "outputs": [
    {
     "data": {
      "text/plain": [
       "[25, 44, 48, 50, 55, 57, 60, 81, 82, 97, 99]"
      ]
     },
     "execution_count": 95,
     "metadata": {},
     "output_type": "execute_result"
    }
   ],
   "source": [
    "sorted(random_lst_2)"
   ]
  },
  {
   "cell_type": "code",
   "execution_count": 99,
   "metadata": {
    "ExecuteTime": {
     "end_time": "2021-07-08T21:55:41.524782Z",
     "start_time": "2021-07-08T21:55:41.516781Z"
    }
   },
   "outputs": [],
   "source": [
    "random_lst_2.sort(reverse=True)"
   ]
  },
  {
   "cell_type": "code",
   "execution_count": 100,
   "metadata": {
    "ExecuteTime": {
     "end_time": "2021-07-08T21:55:48.293036Z",
     "start_time": "2021-07-08T21:55:48.287029Z"
    }
   },
   "outputs": [
    {
     "data": {
      "text/plain": [
       "[99, 97, 82, 81, 60, 57, 55, 50, 48, 44, 25]"
      ]
     },
     "execution_count": 100,
     "metadata": {},
     "output_type": "execute_result"
    }
   ],
   "source": [
    "random_lst_2"
   ]
  },
  {
   "cell_type": "code",
   "execution_count": null,
   "metadata": {},
   "outputs": [],
   "source": []
  },
  {
   "cell_type": "code",
   "execution_count": null,
   "metadata": {},
   "outputs": [],
   "source": []
  },
  {
   "cell_type": "code",
   "execution_count": 121,
   "metadata": {
    "ExecuteTime": {
     "end_time": "2021-07-08T22:03:16.253860Z",
     "start_time": "2021-07-08T22:03:16.247860Z"
    }
   },
   "outputs": [],
   "source": [
    "def funcao_soma_2_nums(arg_obrigatorio, arg_opcional=10):\n",
    "    sum_nums = arg_obrigatorio + arg_opcional\n",
    "    return sum_nums"
   ]
  },
  {
   "cell_type": "code",
   "execution_count": 123,
   "metadata": {
    "ExecuteTime": {
     "end_time": "2021-07-08T22:03:44.916151Z",
     "start_time": "2021-07-08T22:03:44.902167Z"
    }
   },
   "outputs": [
    {
     "data": {
      "text/plain": [
       "60"
      ]
     },
     "execution_count": 123,
     "metadata": {},
     "output_type": "execute_result"
    }
   ],
   "source": [
    "funcao_soma_2_nums(50)"
   ]
  },
  {
   "cell_type": "code",
   "execution_count": null,
   "metadata": {},
   "outputs": [],
   "source": []
  },
  {
   "cell_type": "code",
   "execution_count": null,
   "metadata": {},
   "outputs": [],
   "source": []
  },
  {
   "cell_type": "code",
   "execution_count": null,
   "metadata": {},
   "outputs": [],
   "source": []
  },
  {
   "cell_type": "code",
   "execution_count": 126,
   "metadata": {
    "ExecuteTime": {
     "end_time": "2021-07-08T22:08:18.532844Z",
     "start_time": "2021-07-08T22:08:18.525842Z"
    }
   },
   "outputs": [],
   "source": [
    "def soma(*args):\n",
    "    soma_numeros = sum(args)\n",
    "    return soma_numeros"
   ]
  },
  {
   "cell_type": "code",
   "execution_count": 127,
   "metadata": {
    "ExecuteTime": {
     "end_time": "2021-07-08T22:08:19.015841Z",
     "start_time": "2021-07-08T22:08:18.999838Z"
    }
   },
   "outputs": [
    {
     "data": {
      "text/plain": [
       "19"
      ]
     },
     "execution_count": 127,
     "metadata": {},
     "output_type": "execute_result"
    }
   ],
   "source": [
    "soma(2, 3, 6, 8)"
   ]
  },
  {
   "cell_type": "code",
   "execution_count": null,
   "metadata": {},
   "outputs": [],
   "source": []
  },
  {
   "cell_type": "code",
   "execution_count": 112,
   "metadata": {
    "ExecuteTime": {
     "end_time": "2021-07-08T21:59:11.370999Z",
     "start_time": "2021-07-08T21:59:11.363018Z"
    }
   },
   "outputs": [
    {
     "data": {
      "text/plain": [
       "[99, 97, 82, 81, 60, 57, 55, 50, 48, 44, 25]"
      ]
     },
     "execution_count": 112,
     "metadata": {},
     "output_type": "execute_result"
    }
   ],
   "source": [
    "random_lst_2"
   ]
  },
  {
   "cell_type": "code",
   "execution_count": 111,
   "metadata": {
    "ExecuteTime": {
     "end_time": "2021-07-08T21:59:03.408974Z",
     "start_time": "2021-07-08T21:59:03.397977Z"
    }
   },
   "outputs": [
    {
     "name": "stdout",
     "output_type": "stream",
     "text": [
      "99\n",
      "97\n",
      "82\n",
      "81\n",
      "60\n",
      "57\n",
      "55\n",
      "50\n",
      "48\n",
      "44\n",
      "25\n"
     ]
    }
   ],
   "source": [
    "for i in random_lst_2:\n",
    "    print(i)"
   ]
  },
  {
   "cell_type": "code",
   "execution_count": 113,
   "metadata": {
    "ExecuteTime": {
     "end_time": "2021-07-08T21:59:46.168246Z",
     "start_time": "2021-07-08T21:59:46.160238Z"
    }
   },
   "outputs": [
    {
     "data": {
      "text/plain": [
       "True"
      ]
     },
     "execution_count": 113,
     "metadata": {},
     "output_type": "execute_result"
    }
   ],
   "source": [
    "50 in random_lst_2"
   ]
  },
  {
   "cell_type": "code",
   "execution_count": null,
   "metadata": {},
   "outputs": [],
   "source": []
  },
  {
   "cell_type": "code",
   "execution_count": 128,
   "metadata": {
    "ExecuteTime": {
     "end_time": "2021-07-08T22:08:50.703071Z",
     "start_time": "2021-07-08T22:08:50.697092Z"
    }
   },
   "outputs": [
    {
     "data": {
      "text/plain": [
       "[99, 97, 82, 81, 60, 57, 55, 50, 48, 44, 25]"
      ]
     },
     "execution_count": 128,
     "metadata": {},
     "output_type": "execute_result"
    }
   ],
   "source": [
    "random_lst_2"
   ]
  },
  {
   "cell_type": "code",
   "execution_count": null,
   "metadata": {},
   "outputs": [],
   "source": []
  },
  {
   "cell_type": "code",
   "execution_count": 131,
   "metadata": {
    "ExecuteTime": {
     "end_time": "2021-07-08T22:11:50.354747Z",
     "start_time": "2021-07-08T22:11:50.333720Z"
    }
   },
   "outputs": [
    {
     "name": "stdout",
     "output_type": "stream",
     "text": [
      "O número 99 é maior que a 60\n",
      "O número 97 é maior que a 60\n",
      "O número 82 é maior que a 60\n",
      "O número 81 é maior que a 60\n",
      "O número 60 é igual a 60\n",
      "O número 57 é menor que 60\n",
      "O número 55 é menor que 60\n",
      "O número 50 é menor que 60\n",
      "O número 48 é menor que 60\n",
      "O número 44 é menor que 60\n",
      "O número 25 é menor que 60\n"
     ]
    }
   ],
   "source": [
    "for i in random_lst_2:\n",
    "    if i < 60:\n",
    "        print(f'O número {i} é menor que 60')\n",
    "    elif i == 60:\n",
    "        print(f'O número {i} é igual a 60')\n",
    "    else:\n",
    "        print(f'O número {i} é maior que a 60')"
   ]
  },
  {
   "cell_type": "code",
   "execution_count": null,
   "metadata": {},
   "outputs": [],
   "source": []
  },
  {
   "cell_type": "code",
   "execution_count": null,
   "metadata": {},
   "outputs": [],
   "source": []
  },
  {
   "cell_type": "code",
   "execution_count": null,
   "metadata": {},
   "outputs": [],
   "source": []
  },
  {
   "cell_type": "code",
   "execution_count": null,
   "metadata": {},
   "outputs": [],
   "source": []
  }
 ],
 "metadata": {
  "hide_input": false,
  "kernelspec": {
   "display_name": "Python 3",
   "language": "python",
   "name": "python3"
  },
  "language_info": {
   "codemirror_mode": {
    "name": "ipython",
    "version": 3
   },
   "file_extension": ".py",
   "mimetype": "text/x-python",
   "name": "python",
   "nbconvert_exporter": "python",
   "pygments_lexer": "ipython3",
   "version": "3.8.3"
  },
  "toc": {
   "base_numbering": 1,
   "nav_menu": {},
   "number_sections": true,
   "sideBar": true,
   "skip_h1_title": false,
   "title_cell": "Table of Contents",
   "title_sidebar": "Contents",
   "toc_cell": false,
   "toc_position": {},
   "toc_section_display": true,
   "toc_window_display": true
  },
  "varInspector": {
   "cols": {
    "lenName": 16,
    "lenType": 16,
    "lenVar": 40
   },
   "kernels_config": {
    "python": {
     "delete_cmd_postfix": "",
     "delete_cmd_prefix": "del ",
     "library": "var_list.py",
     "varRefreshCmd": "print(var_dic_list())"
    },
    "r": {
     "delete_cmd_postfix": ") ",
     "delete_cmd_prefix": "rm(",
     "library": "var_list.r",
     "varRefreshCmd": "cat(var_dic_list()) "
    }
   },
   "types_to_exclude": [
    "module",
    "function",
    "builtin_function_or_method",
    "instance",
    "_Feature"
   ],
   "window_display": false
  }
 },
 "nbformat": 4,
 "nbformat_minor": 4
}
